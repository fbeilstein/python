{
  "nbformat": 4,
  "nbformat_minor": 0,
  "metadata": {
    "colab": {
      "name": "lecture_04_modules.ipynb",
      "provenance": [],
      "authorship_tag": "ABX9TyP46oakCtdUy92c1Uz4x0ZB",
      "include_colab_link": true
    },
    "kernelspec": {
      "name": "python3",
      "display_name": "Python 3"
    }
  },
  "cells": [
    {
      "cell_type": "markdown",
      "metadata": {
        "id": "view-in-github",
        "colab_type": "text"
      },
      "source": [
        "<a href=\"https://colab.research.google.com/github/fbeilstein/python/blob/master/lecture_04_modules.ipynb\" target=\"_parent\"><img src=\"https://colab.research.google.com/assets/colab-badge.svg\" alt=\"Open In Colab\"/></a>"
      ]
    },
    {
      "cell_type": "markdown",
      "metadata": {
        "id": "MlgFudd3jGGV",
        "colab_type": "text"
      },
      "source": [
        "##Modules"
      ]
    },
    {
      "cell_type": "markdown",
      "metadata": {
        "id": "HnlKYXSW0MER",
        "colab_type": "text"
      },
      "source": [
        "**Why use modules?**\n",
        "\n",
        "*     Code reuse\n",
        "*     System name-space partitioning\n",
        "*     Implementing shared services or data"
      ]
    },
    {
      "cell_type": "markdown",
      "metadata": {
        "id": "-wR5o0Ah367X",
        "colab_type": "text"
      },
      "source": [
        "**Module topics**\n",
        " \n",
        "*     The basics\n",
        "*     Import variations\n",
        "*     Reloading modules\n",
        "*     Design concepts\n",
        "*     Modules are objects\n",
        "*     Package imports\n",
        "*     Odds and ends\n",
        "*     Module gotchas"
      ]
    },
    {
      "cell_type": "markdown",
      "metadata": {
        "id": "X4fDbRY93-4n",
        "colab_type": "text"
      },
      "source": [
        "###Module basics"
      ]
    },
    {
      "cell_type": "markdown",
      "metadata": {
        "id": "h3Z7UFQq4CCX",
        "colab_type": "text"
      },
      "source": [
        "*     Creating modules: Python files, C extensions; Java classes (Jython)\n",
        "*     Using modules: import, from, reload(), 3.X: imp.reload()\n",
        "*     Module search path: $PYTHONPATH"
      ]
    },
    {
      "cell_type": "code",
      "metadata": {
        "id": "hUrUlJ0WjGGY",
        "colab_type": "code",
        "outputId": "589a59ab-6c74-4e2f-ea26-6ba5cf294e16",
        "colab": {
          "base_uri": "https://localhost:8080/",
          "height": 34
        }
      },
      "source": [
        "%%writefile module1.py\n",
        "\n",
        "def printer(x): # module attribute\n",
        "  print(x)"
      ],
      "execution_count": 0,
      "outputs": [
        {
          "output_type": "stream",
          "text": [
            "Writing module1.py\n"
          ],
          "name": "stdout"
        }
      ]
    },
    {
      "cell_type": "markdown",
      "metadata": {
        "id": "u8AVLj3IjGGc",
        "colab_type": "text"
      },
      "source": [
        "**Module usage**"
      ]
    },
    {
      "cell_type": "code",
      "metadata": {
        "id": "rhl1DSU5Oe3q",
        "colab_type": "code",
        "outputId": "7d04cc8a-4881-4f3d-deee-4ca27b192524",
        "colab": {
          "base_uri": "https://localhost:8080/",
          "height": 34
        }
      },
      "source": [
        "import module1 # get module\n",
        "module1.printer('Hello world!')"
      ],
      "execution_count": 0,
      "outputs": [
        {
          "output_type": "stream",
          "text": [
            "Hello world!\n"
          ],
          "name": "stdout"
        }
      ]
    },
    {
      "cell_type": "code",
      "metadata": {
        "id": "SsAEqweuOn2Z",
        "colab_type": "code",
        "outputId": "b91b5679-2e43-4918-c754-896d000bc591",
        "colab": {
          "base_uri": "https://localhost:8080/",
          "height": 34
        }
      },
      "source": [
        "from module1 import printer # get an export\n",
        "printer('Hello world!')"
      ],
      "execution_count": 0,
      "outputs": [
        {
          "output_type": "stream",
          "text": [
            "Hello world!\n"
          ],
          "name": "stdout"
        }
      ]
    },
    {
      "cell_type": "code",
      "metadata": {
        "id": "4jxky0ZgjGGd",
        "colab_type": "code",
        "outputId": "68271472-9a8c-455f-8736-27b2d9edd4a8",
        "colab": {
          "base_uri": "https://localhost:8080/",
          "height": 34
        }
      },
      "source": [
        "from module1 import * # get all exports\n",
        "printer('Hello world!')"
      ],
      "execution_count": 0,
      "outputs": [
        {
          "output_type": "stream",
          "text": [
            "Hello world!\n"
          ],
          "name": "stdout"
        }
      ]
    },
    {
      "cell_type": "markdown",
      "metadata": {
        "id": "QBierGYXjGGg",
        "colab_type": "text"
      },
      "source": [
        "from * can obscure variables meaning"
      ]
    },
    {
      "cell_type": "code",
      "metadata": {
        "id": "IgoZFQv5V74l",
        "colab_type": "code",
        "outputId": "a9888f96-f9e8-4aea-dc75-58eb19257ccb",
        "colab": {
          "base_uri": "https://localhost:8080/",
          "height": 34
        }
      },
      "source": [
        "%%writefile module1.py\n",
        "\n",
        "def func(): # module attribute\n",
        "  print('module 1')"
      ],
      "execution_count": 0,
      "outputs": [
        {
          "output_type": "stream",
          "text": [
            "Overwriting module1.py\n"
          ],
          "name": "stdout"
        }
      ]
    },
    {
      "cell_type": "code",
      "metadata": {
        "id": "hkVujENxWDXa",
        "colab_type": "code",
        "outputId": "ba3e8edf-8630-4963-c37c-9e7c16cb8a44",
        "colab": {
          "base_uri": "https://localhost:8080/",
          "height": 34
        }
      },
      "source": [
        "%%writefile module2.py\n",
        "\n",
        "def func(): # module attribute\n",
        "  print('module 2')"
      ],
      "execution_count": 0,
      "outputs": [
        {
          "output_type": "stream",
          "text": [
            "Writing module2.py\n"
          ],
          "name": "stdout"
        }
      ]
    },
    {
      "cell_type": "code",
      "metadata": {
        "id": "LelyZtIIWJZH",
        "colab_type": "code",
        "outputId": "c32c07bd-a9a3-4a69-e6b1-4f787d7f03b6",
        "colab": {
          "base_uri": "https://localhost:8080/",
          "height": 34
        }
      },
      "source": [
        "%%writefile module3.py\n",
        "\n",
        "def func(): # module attribute\n",
        "  print('module 3')"
      ],
      "execution_count": 0,
      "outputs": [
        {
          "output_type": "stream",
          "text": [
            "Writing module3.py\n"
          ],
          "name": "stdout"
        }
      ]
    },
    {
      "cell_type": "code",
      "metadata": {
        "id": "EAeiQREijGGh",
        "colab_type": "code",
        "outputId": "b9db8eed-3708-4487-b00e-469d6a235ae0",
        "colab": {
          "base_uri": "https://localhost:8080/",
          "height": 34
        }
      },
      "source": [
        "from module1 import * # may overwrite my names\n",
        "from module2 import * # no way to tell what we get\n",
        "from module3 import *\n",
        "\n",
        "func() # ← ?!\n",
        "\n",
        "# Advice: use from * with at most 1 module per file"
      ],
      "execution_count": 0,
      "outputs": [
        {
          "output_type": "stream",
          "text": [
            "module 3\n"
          ],
          "name": "stdout"
        }
      ]
    },
    {
      "cell_type": "markdown",
      "metadata": {
        "id": "ZvczlPgqjGGj",
        "colab_type": "text"
      },
      "source": [
        "from does not play well with reload"
      ]
    },
    {
      "cell_type": "code",
      "metadata": {
        "id": "YBxtCbpUPgVS",
        "colab_type": "code",
        "outputId": "d705f023-0ad6-4e7a-96d5-59450cf2640b",
        "colab": {
          "base_uri": "https://localhost:8080/",
          "height": 34
        }
      },
      "source": [
        "%%writefile moduleA.py\n",
        "\n",
        "def func(): # module attribute\n",
        "  print('module before change')"
      ],
      "execution_count": 0,
      "outputs": [
        {
          "output_type": "stream",
          "text": [
            "Writing moduleA.py\n"
          ],
          "name": "stdout"
        }
      ]
    },
    {
      "cell_type": "code",
      "metadata": {
        "id": "0OiXMOClPLus",
        "colab_type": "code",
        "outputId": "30e6e3da-88b7-4767-b334-c077c41ad76a",
        "colab": {
          "base_uri": "https://localhost:8080/",
          "height": 34
        }
      },
      "source": [
        "from moduleA import func # copy variable out\n",
        "func() # test it"
      ],
      "execution_count": 0,
      "outputs": [
        {
          "output_type": "stream",
          "text": [
            "module before change\n"
          ],
          "name": "stdout"
        }
      ]
    },
    {
      "cell_type": "code",
      "metadata": {
        "id": "EaOQ_ja-PpEx",
        "colab_type": "code",
        "outputId": "3fa3f1f3-51b2-4e4c-8529-0dce1aff3c0a",
        "colab": {
          "base_uri": "https://localhost:8080/",
          "height": 34
        }
      },
      "source": [
        "%%writefile moduleA.py\n",
        "# change moduleA.py\n",
        "\n",
        "def func(): # module attribute\n",
        "  print('module AFTER change')"
      ],
      "execution_count": 0,
      "outputs": [
        {
          "output_type": "stream",
          "text": [
            "Overwriting moduleA.py\n"
          ],
          "name": "stdout"
        }
      ]
    },
    {
      "cell_type": "code",
      "metadata": {
        "id": "y0l-YzGuP5AB",
        "colab_type": "code",
        "outputId": "36792305-44c7-4234-f9aa-150fdce67825",
        "colab": {
          "base_uri": "https://localhost:8080/",
          "height": 221
        }
      },
      "source": [
        "from imp import reload # required in 3.X\n",
        "print(\"ERROR EXPECTED\")\n",
        "reload(moduleA) # <- FAILS: unbound name!"
      ],
      "execution_count": 0,
      "outputs": [
        {
          "output_type": "stream",
          "text": [
            "ERROR EXPECTED\n"
          ],
          "name": "stdout"
        },
        {
          "output_type": "error",
          "ename": "NameError",
          "evalue": "ignored",
          "traceback": [
            "\u001b[0;31m---------------------------------------------------------------------------\u001b[0m",
            "\u001b[0;31mNameError\u001b[0m                                 Traceback (most recent call last)",
            "\u001b[0;32m<ipython-input-28-e3140f2732af>\u001b[0m in \u001b[0;36m<module>\u001b[0;34m()\u001b[0m\n\u001b[1;32m      1\u001b[0m \u001b[0;32mfrom\u001b[0m \u001b[0mimp\u001b[0m \u001b[0;32mimport\u001b[0m \u001b[0mreload\u001b[0m \u001b[0;31m# required in 3.X\u001b[0m\u001b[0;34m\u001b[0m\u001b[0;34m\u001b[0m\u001b[0m\n\u001b[1;32m      2\u001b[0m \u001b[0mprint\u001b[0m\u001b[0;34m(\u001b[0m\u001b[0;34m\"ERROR EXPECTED\"\u001b[0m\u001b[0;34m)\u001b[0m\u001b[0;34m\u001b[0m\u001b[0;34m\u001b[0m\u001b[0m\n\u001b[0;32m----> 3\u001b[0;31m \u001b[0mreload\u001b[0m\u001b[0;34m(\u001b[0m\u001b[0mmoduleA\u001b[0m\u001b[0;34m)\u001b[0m \u001b[0;31m# <- FAILS: unbound name!\u001b[0m\u001b[0;34m\u001b[0m\u001b[0;34m\u001b[0m\u001b[0m\n\u001b[0m",
            "\u001b[0;31mNameError\u001b[0m: name 'moduleA' is not defined"
          ]
        }
      ]
    },
    {
      "cell_type": "code",
      "metadata": {
        "id": "mEg0ev92QGT6",
        "colab_type": "code",
        "outputId": "5981d222-98f1-49c0-ec6f-d96ed77743f1",
        "colab": {
          "base_uri": "https://localhost:8080/",
          "height": 34
        }
      },
      "source": [
        "import moduleA # must bind name here\n",
        "reload(moduleA) # ok: loads new code\n",
        "func() # <- FAILS: old object!"
      ],
      "execution_count": 0,
      "outputs": [
        {
          "output_type": "stream",
          "text": [
            "module before change\n"
          ],
          "name": "stdout"
        }
      ]
    },
    {
      "cell_type": "code",
      "metadata": {
        "id": "DXEBT4qJQN45",
        "colab_type": "code",
        "outputId": "11ea27e5-aaed-4e34-ea14-023b6e8102f7",
        "colab": {
          "base_uri": "https://localhost:8080/",
          "height": 34
        }
      },
      "source": [
        "moduleA.func() # this works now"
      ],
      "execution_count": 0,
      "outputs": [
        {
          "output_type": "stream",
          "text": [
            "module AFTER change\n"
          ],
          "name": "stdout"
        }
      ]
    },
    {
      "cell_type": "code",
      "metadata": {
        "id": "1nHSiMsFjGGk",
        "colab_type": "code",
        "outputId": "13fc90c8-0e73-4f88-a6dc-272070246931",
        "colab": {
          "base_uri": "https://localhost:8080/",
          "height": 34
        }
      },
      "source": [
        "from moduleA import func # so does this\n",
        "func()\n",
        "\n",
        "# Advice: don't do that--run scripts other ways"
      ],
      "execution_count": 0,
      "outputs": [
        {
          "output_type": "stream",
          "text": [
            "module AFTER change\n"
          ],
          "name": "stdout"
        }
      ]
    },
    {
      "cell_type": "markdown",
      "metadata": {
        "id": "ei8hTPdWjGGn",
        "colab_type": "text"
      },
      "source": [
        "###Module files are a namespace"
      ]
    },
    {
      "cell_type": "markdown",
      "metadata": {
        "id": "qtK3mmSOQY55",
        "colab_type": "text"
      },
      "source": [
        "*     A single scope: local==global\n",
        "*     Module statements run on first import\n",
        "*     Top-level assignments create module attributes\n",
        "*     Module namespace: attribute __dict__, or dir()"
      ]
    },
    {
      "cell_type": "code",
      "metadata": {
        "id": "hMCCJr8qjGGo",
        "colab_type": "code",
        "outputId": "d743aa94-3b76-4144-f84e-9dde25cecbe7",
        "colab": {
          "base_uri": "https://localhost:8080/",
          "height": 34
        }
      },
      "source": [
        "%%writefile moduleB.py\n",
        "\n",
        "print('starting to load')\n",
        "import sys\n",
        "name = 42\n",
        "def func(): pass\n",
        "class klass: pass\n",
        "print('done loading.')"
      ],
      "execution_count": 0,
      "outputs": [
        {
          "output_type": "stream",
          "text": [
            "Writing moduleB.py\n"
          ],
          "name": "stdout"
        }
      ]
    },
    {
      "cell_type": "markdown",
      "metadata": {
        "id": "ILuFcwfPjGGq",
        "colab_type": "text"
      },
      "source": [
        "Usage"
      ]
    },
    {
      "cell_type": "code",
      "metadata": {
        "id": "iJkGZEqLXVjt",
        "colab_type": "code",
        "outputId": "3f89a2ee-acc9-4062-ece6-b35e53e2d39e",
        "colab": {
          "base_uri": "https://localhost:8080/",
          "height": 52
        }
      },
      "source": [
        "import moduleB"
      ],
      "execution_count": 0,
      "outputs": [
        {
          "output_type": "stream",
          "text": [
            "starting to load\n",
            "done loading.\n"
          ],
          "name": "stdout"
        }
      ]
    },
    {
      "cell_type": "code",
      "metadata": {
        "id": "mtuMeXbPXdbv",
        "colab_type": "code",
        "outputId": "b179dd33-3ca0-4f86-bc07-8ffd31eb153c",
        "colab": {
          "base_uri": "https://localhost:8080/",
          "height": 34
        }
      },
      "source": [
        "moduleB.sys"
      ],
      "execution_count": 0,
      "outputs": [
        {
          "output_type": "execute_result",
          "data": {
            "text/plain": [
              "<module 'sys' (built-in)>"
            ]
          },
          "metadata": {
            "tags": []
          },
          "execution_count": 3
        }
      ]
    },
    {
      "cell_type": "code",
      "metadata": {
        "id": "-2gbYBW7Xgo0",
        "colab_type": "code",
        "outputId": "6fca3ea8-3f86-473d-9a68-acea5e822184",
        "colab": {
          "base_uri": "https://localhost:8080/",
          "height": 34
        }
      },
      "source": [
        "moduleB.name"
      ],
      "execution_count": 0,
      "outputs": [
        {
          "output_type": "execute_result",
          "data": {
            "text/plain": [
              "42"
            ]
          },
          "metadata": {
            "tags": []
          },
          "execution_count": 4
        }
      ]
    },
    {
      "cell_type": "code",
      "metadata": {
        "id": "UdWCu6HtYHcf",
        "colab_type": "code",
        "outputId": "bcc3340f-a1cc-4dc1-affa-55f96c09814a",
        "colab": {
          "base_uri": "https://localhost:8080/",
          "height": 34
        }
      },
      "source": [
        "moduleB.func, moduleB.klass"
      ],
      "execution_count": 0,
      "outputs": [
        {
          "output_type": "execute_result",
          "data": {
            "text/plain": [
              "(<function moduleB.func>, moduleB.klass)"
            ]
          },
          "metadata": {
            "tags": []
          },
          "execution_count": 6
        }
      ]
    },
    {
      "cell_type": "code",
      "metadata": {
        "id": "39fNEI6CjGGq",
        "colab_type": "code",
        "outputId": "f606d5e7-6604-4b82-ac62-c6c743afba77",
        "colab": {
          "base_uri": "https://localhost:8080/",
          "height": 34
        }
      },
      "source": [
        "moduleB.__dict__.keys() # add list() in 3.X"
      ],
      "execution_count": 0,
      "outputs": [
        {
          "output_type": "execute_result",
          "data": {
            "text/plain": [
              "dict_keys(['__name__', '__doc__', '__package__', '__loader__', '__spec__', '__file__', '__cached__', '__builtins__', 'sys', 'name', 'func', 'klass'])"
            ]
          },
          "metadata": {
            "tags": []
          },
          "execution_count": 8
        }
      ]
    },
    {
      "cell_type": "markdown",
      "metadata": {
        "id": "YojRnPCzYaj3",
        "colab_type": "text"
      },
      "source": [
        "###Name qualification"
      ]
    },
    {
      "cell_type": "markdown",
      "metadata": {
        "id": "K1tkDTn8YW3b",
        "colab_type": "text"
      },
      "source": [
        "*     Simple variables\n",
        "      -      X searches for name X in current scopes\n",
        "*     Qualification\n",
        "      -      X.Y searches for attribute Y in object X\n",
        "*     Paths\n",
        "      -      X.Y.Z gives a path of objects to be searched\n",
        "*     Generality\n",
        "      -      Qualification works on all objects with attributes: modules, classes, built-in types, etc."
      ]
    },
    {
      "cell_type": "markdown",
      "metadata": {
        "id": "810weuyKYyES",
        "colab_type": "text"
      },
      "source": [
        "![alt text](https://learning-python.com/class/Workbook/unit06_files/image002.gif)"
      ]
    },
    {
      "cell_type": "markdown",
      "metadata": {
        "id": "ICzVH33uZDXf",
        "colab_type": "text"
      },
      "source": [
        "###Import variants"
      ]
    },
    {
      "cell_type": "markdown",
      "metadata": {
        "id": "6XdqY2N-ZBOl",
        "colab_type": "text"
      },
      "source": [
        "*     Module import model\n",
        "      -      module loaded and run on first import or from\n",
        "      -      running a modules code creates its top-level names\n",
        "      -      later import/from fetches already-loaded module\n",
        "*     import and from are assignments\n",
        "      -      import assigns an entire module object to a name\n",
        "      -      from assigns selected module attributes to names"
      ]
    },
    {
      "cell_type": "markdown",
      "metadata": {
        "id": "jiL_TWjfZMYv",
        "colab_type": "text"
      },
      "source": [
        "Operation |\t Interpretation\n",
        "---|---\n",
        "import mod |\tfetch a module as a whole\n",
        "from mod import name |\tfetch a specific name from a module\n",
        "from mod import * |\tfetch all top-level names from a module\n",
        "imp.reload(mod) |\tforce a reload of modules code"
      ]
    },
    {
      "cell_type": "markdown",
      "metadata": {
        "id": "lNeIlFwWcaZF",
        "colab_type": "text"
      },
      "source": [
        "![alt text](https://learning-python.com/class/Workbook/unit06_files/image004.gif)"
      ]
    },
    {
      "cell_type": "markdown",
      "metadata": {
        "id": "Juhyr9ZVjGGs",
        "colab_type": "text"
      },
      "source": [
        "###Reloading modules"
      ]
    },
    {
      "cell_type": "markdown",
      "metadata": {
        "id": "k3k-oPoFcirm",
        "colab_type": "text"
      },
      "source": [
        "*     Imports only load/run module code first time\n",
        "*     Later imports use already-loaded module\n",
        "*     reload function forces module code reload/rerun\n",
        "*     Allows programs to be changed without stopping\n",
        "*     3.X: must first from imp import reload to use!"
      ]
    },
    {
      "cell_type": "markdown",
      "metadata": {
        "id": "8rxi3xKPcksc",
        "colab_type": "text"
      },
      "source": [
        "**General form**\n",
        "\n",
        "```python\n",
        "import module # initial import\n",
        "[use module.attributes]\n",
        " # change module file\n",
        "\n",
        "from imp import reload # required in 3.X\n",
        "reload(module) # get updated exports\n",
        "[use module.attributes]\n",
        "```"
      ]
    },
    {
      "cell_type": "markdown",
      "metadata": {
        "id": "gyceZ4b3jGGv",
        "colab_type": "text"
      },
      "source": [
        "**Usage details**\n",
        "\n",
        "*     A function, not a statement\n",
        "*     Requires a module object, not a name\n",
        "*     Changes a module object in-place:\n",
        "      -      runs module files new code in current namespace\n",
        "      -      assignments replace top-level names with new values\n",
        "      -      impacts all clients that use import to fetch module\n",
        "      -      impacts future from clients (see earlier example)"
      ]
    },
    {
      "cell_type": "markdown",
      "metadata": {
        "id": "1HXxPysfjGGy",
        "colab_type": "text"
      },
      "source": [
        "**Reload example**\n",
        "\n",
        "*     Changes and reload file without stopping Python\n",
        "*     Other common uses: GUI callbacks, embedded code, etc."
      ]
    },
    {
      "cell_type": "code",
      "metadata": {
        "id": "5TsIyvaxjGGy",
        "colab_type": "code",
        "outputId": "90a3d400-d040-40f3-f953-dc34571d3cd1",
        "colab": {
          "base_uri": "https://localhost:8080/",
          "height": 34
        }
      },
      "source": [
        "%%writefile changer.py\n",
        "\n",
        "message = 'First version'\n",
        "def printer():\n",
        "  print(message)"
      ],
      "execution_count": 0,
      "outputs": [
        {
          "output_type": "stream",
          "text": [
            "Overwriting changer.py\n"
          ],
          "name": "stdout"
        }
      ]
    },
    {
      "cell_type": "code",
      "metadata": {
        "id": "tDwqjesqjIJl",
        "colab_type": "code",
        "outputId": "cb544dd8-5e74-4344-9d4c-4570f6e23d66",
        "colab": {
          "base_uri": "https://localhost:8080/",
          "height": 34
        }
      },
      "source": [
        "import changer\n",
        "changer.printer()"
      ],
      "execution_count": 0,
      "outputs": [
        {
          "output_type": "stream",
          "text": [
            "First version\n"
          ],
          "name": "stdout"
        }
      ]
    },
    {
      "cell_type": "code",
      "metadata": {
        "id": "f2V-G_0SjNd1",
        "colab_type": "code",
        "outputId": "1c123f8e-5bd6-4b53-e623-ba8a686227b1",
        "colab": {
          "base_uri": "https://localhost:8080/",
          "height": 34
        }
      },
      "source": [
        "%%writefile changer.py\n",
        "\n",
        "message = 'After editing'\n",
        "def printer():\n",
        "  print(message)"
      ],
      "execution_count": 0,
      "outputs": [
        {
          "output_type": "stream",
          "text": [
            "Overwriting changer.py\n"
          ],
          "name": "stdout"
        }
      ]
    },
    {
      "cell_type": "code",
      "metadata": {
        "id": "Ohf5eyYnjGG0",
        "colab_type": "code",
        "outputId": "ea6c5935-ea30-41e0-eaaf-010cf33b8df6",
        "colab": {
          "base_uri": "https://localhost:8080/",
          "height": 34
        }
      },
      "source": [
        "import changer\n",
        "changer.printer() # no effect: uses loaded module"
      ],
      "execution_count": 0,
      "outputs": [
        {
          "output_type": "stream",
          "text": [
            "After editing\n"
          ],
          "name": "stdout"
        }
      ]
    },
    {
      "cell_type": "code",
      "metadata": {
        "id": "xlXtxaDRjGG2",
        "colab_type": "code",
        "outputId": "54b794da-e7b5-45ff-b72c-d84dd5ec0a9b",
        "colab": {
          "base_uri": "https://localhost:8080/",
          "height": 34
        }
      },
      "source": [
        "import importlib\n",
        "importlib.reload(changer) # forces new code to load/run\n",
        "changer.printer()"
      ],
      "execution_count": 0,
      "outputs": [
        {
          "output_type": "stream",
          "text": [
            "After editing\n"
          ],
          "name": "stdout"
        }
      ]
    },
    {
      "cell_type": "markdown",
      "metadata": {
        "id": "atuubgbojGG4",
        "colab_type": "text"
      },
      "source": [
        "###Package imports"
      ]
    },
    {
      "cell_type": "markdown",
      "metadata": {
        "id": "j6PoLclvj_vc",
        "colab_type": "text"
      },
      "source": [
        "\n",
        "Module package imports name directory paths:\n",
        "*      Module name -> dir.dir.dir in import statements and reloads\n",
        "       -      import dir1.dir2.mod -> loads dir1\\dir2\\mod.py\n",
        "       -      from dir1.dir2.mod import name\n",
        "*      dir1 must be contained by a directory on sys.path (., PYTHONPATH, etc.)\n",
        "*      Each dir must have \\_\\_init\\_\\_.py file, possibly empty (till 3.3: optional)\n",
        "*      \\_\\_init\\_\\_.py gives directory's namespace, can use \\_\\_all\\_\\_ for from*\n",
        "*      Simplifies path, disambiguates same-named modules files"
      ]
    },
    {
      "cell_type": "markdown",
      "metadata": {
        "id": "n_0xBazUsjmt",
        "colab_type": "text"
      },
      "source": [
        "**Example**\n",
        "\n",
        "```\n",
        "For:\n",
        "    dir0\\dir1\\dir2\\mod.py\n",
        "And:\n",
        "    import dir1.dir2.mod\n",
        "``` \n",
        "\n",
        "-      dir0 (container) must be listed on the module search path\n",
        "-      dir1 and dir2 both must contain an \\_\\_init\\_\\_.py file\n",
        "-      dir0 does not require an \\_\\_init\\_\\_.py\n",
        " \n",
        "```\n",
        "dir0\\\n",
        "    dir1\\\n",
        "      __init__.py\n",
        "      dir2\\\n",
        "          __init__.py\n",
        "          mod.py\n",
        "```"
      ]
    },
    {
      "cell_type": "markdown",
      "metadata": {
        "id": "ggBqDXKhuUrC",
        "colab_type": "text"
      },
      "source": [
        "**Why packages?**\n",
        " \n",
        "\n",
        "```\n",
        "root\\\n",
        "    sys1\\\n",
        "        __init__.py (__init__ needed if dir in import)\n",
        "        util.py\n",
        "        main.py (import util finds here)\n",
        "        other.py\n",
        "    sys2\\\n",
        "        __init__.py\n",
        "        util.py\n",
        "        main.py\n",
        "        other.py\n",
        "    sys3\\ (here or elsewhere)\n",
        "        __init__.py (your new code here)\n",
        "        myfile.py (import util depends on path)\n",
        "                  (import sys1.util doesnt)\n",
        "```"
      ]
    },
    {
      "cell_type": "markdown",
      "metadata": {
        "id": "3CkVrh5guX85",
        "colab_type": "text"
      },
      "source": [
        "**Advanced: Relative import syntax (2.5+)**\n",
        "\n",
        "To enable in 2.X (standard in 3.X):\n",
        "```python\n",
        "from __future__ import absolute_import # till 2.7, from stmt only\n",
        "``` \n",
        "\n",
        "In code located in package folder pkg:\n",
        "\n",
        "```python\n",
        "import string # skips pkg: finds the standard library's version\n",
        "\n",
        "from .string import name1, name2 # import names from pkg.string only\n",
        "from . import string # import pkg.string\n",
        "```"
      ]
    },
    {
      "cell_type": "markdown",
      "metadata": {
        "id": "FamhMc2ouFoC",
        "colab_type": "text"
      },
      "source": [
        "**Advanced: Namespace packages (3.3+)**\n",
        "\n",
        "Extension to usual import algorithm: directories without \\_\\_init\\_\\_.py, located anywhere on path, checked for last, and used only if no normal module or package found at level: concatenation of all found becomes a virtual package for deeper imports. Not yet used much in practice."
      ]
    },
    {
      "cell_type": "markdown",
      "metadata": {
        "id": "ZOXiBoGajGG6",
        "colab_type": "text"
      },
      "source": [
        "###Odds and ends"
      ]
    },
    {
      "cell_type": "markdown",
      "metadata": {
        "id": "zkI-aNCiurhy",
        "colab_type": "text"
      },
      "source": [
        "*     Python 2.0+: import module as name\n",
        "      -      Like import module + name = module\n",
        "      -      Also good for packages: import sys1.util as util\n",
        "\n",
        "*     Loading modules by name string\n",
        "      -      exec(import + name)\n",
        "      -      \\_\\_import\\_\\_(name)\n",
        "\n",
        "*     Modules are compiled to byte code on first import\n",
        "      -      .pyc files serve as recompile dependency\n",
        "      -      compilation is automatic and hidden\n",
        "\n",
        "*     Data hiding is a convention\n",
        "      -      Exports all names defined at the top-level of a module\n",
        "      -      Special case: \\_\\_all\\_\\_ list gives names exported by from *\n",
        "      -      Special case: _X names aren't imported by a from*\n",
        "\n",
        "*     The \\_\\_name\\_\\_ == \\_\\_main\\_\\_ trick\n",
        "      -      \\_\\_name\\_\\_ auto set to \\_\\_main\\_\\_ only when run as script\n",
        "      -      allows modules to be imported and/or run\n",
        "      -      Simplest unit test protocol, dual usage modes for code"
      ]
    },
    {
      "cell_type": "code",
      "metadata": {
        "id": "vL82Am20jGG6",
        "colab_type": "code",
        "outputId": "355fafe6-916d-4757-9134-b60546b6b78b",
        "colab": {
          "base_uri": "https://localhost:8080/",
          "height": 34
        }
      },
      "source": [
        "%%writefile tester.py\n",
        "\n",
        "def func(s):\n",
        "  print(s)\n",
        "\n",
        "if __name__ == '__main__': # only when run\n",
        "  func('This is Sparta') # not when imported"
      ],
      "execution_count": 0,
      "outputs": [
        {
          "output_type": "stream",
          "text": [
            "Writing tester.py\n"
          ],
          "name": "stdout"
        }
      ]
    },
    {
      "cell_type": "markdown",
      "metadata": {
        "id": "Vw56YyH8jGG8",
        "colab_type": "text"
      },
      "source": [
        "**Usage modes**"
      ]
    },
    {
      "cell_type": "code",
      "metadata": {
        "id": "gKHWs-JOxWCS",
        "colab_type": "code",
        "outputId": "34d0f052-f653-4148-a837-f3b43ffb7d5f",
        "colab": {
          "base_uri": "https://localhost:8080/",
          "height": 34
        }
      },
      "source": [
        "import tester\n",
        "tester.func(\"This is Kyiv\")"
      ],
      "execution_count": 0,
      "outputs": [
        {
          "output_type": "stream",
          "text": [
            "This is Kyiv\n"
          ],
          "name": "stdout"
        }
      ]
    },
    {
      "cell_type": "code",
      "metadata": {
        "id": "1r_aEDPkjGG8",
        "colab_type": "code",
        "outputId": "e9c7f46c-fe3a-49c2-9079-2e4fb26bbfaf",
        "colab": {
          "base_uri": "https://localhost:8080/",
          "height": 34
        }
      },
      "source": [
        "! python -u tester.py"
      ],
      "execution_count": 0,
      "outputs": [
        {
          "output_type": "stream",
          "text": [
            "This is Sparta\n"
          ],
          "name": "stdout"
        }
      ]
    },
    {
      "cell_type": "markdown",
      "metadata": {
        "id": "mLGmwnwljGG9",
        "colab_type": "text"
      },
      "source": [
        "###Module design concepts"
      ]
    },
    {
      "cell_type": "markdown",
      "metadata": {
        "id": "WPAHAppHx65O",
        "colab_type": "text"
      },
      "source": [
        "*     Always in a module: interactive = module \\_\\_main\\_\\_\n",
        "*     Minimize module coupling: global variables\n",
        "*     Maximize module cohesion: unified purpose\n",
        "*     Modules should rarely change other modules variables"
      ]
    },
    {
      "cell_type": "markdown",
      "metadata": {
        "id": "AdBAB7weytAb",
        "colab_type": "text"
      },
      "source": [
        "**Suppose mod.py contains**\n",
        "\n",
        "```python\n",
        "X = 99 # reader sees only this\n",
        "```\n",
        "\n",
        "**always okay to use**\n",
        "\n",
        "```python\n",
        "import mod\n",
        "print(mod.X ** 2)\n",
        "```\n",
        "\n",
        "**almost always a Bad Idea!**\n",
        "\n",
        "```python\n",
        "import mod\n",
        "mod.X = 88\n",
        "```\n",
        "\n",
        " **better: isolates coupling**\n",
        "\n",
        "```python\n",
        "import mod\n",
        "result = mod.func(88)\n",
        "```"
      ]
    },
    {
      "cell_type": "markdown",
      "metadata": {
        "id": "e7oJZMUCzzJ8",
        "colab_type": "text"
      },
      "source": [
        "![alt text](https://learning-python.com/class/Workbook/unit06_files/image006.gif)"
      ]
    },
    {
      "cell_type": "markdown",
      "metadata": {
        "id": "7_rWyCtx_MM5",
        "colab_type": "text"
      },
      "source": [
        "###Modules are objects: metaprograms"
      ]
    },
    {
      "cell_type": "markdown",
      "metadata": {
        "id": "N_xNxpwDjGG_",
        "colab_type": "text"
      },
      "source": [
        "*     A module which lists namespaces of other modules\n",
        "*     Special attributes: module.\\_\\_name\\_\\_, \\_\\_file\\_\\_, \\_\\_dict\\_\\_\n",
        "*     getattr(object, name) fetches attributes by string name\n",
        "*     Add to $PYTHONSTARTUP to preload automatically"
      ]
    },
    {
      "cell_type": "markdown",
      "metadata": {
        "id": "B6zeNcGsCPbO",
        "colab_type": "text"
      },
      "source": [
        "**Example**\n",
        "\n",
        "```python\n",
        "verbose = 1\n",
        "\n",
        "def listing(module):\n",
        "  if verbose:\n",
        "    print(\"-\" * 30)\n",
        "    print(\"name: %s file: %s\" % (module.__name__, module.__file__))\n",
        "    print(\"-\" * 30)\n",
        " \n",
        "\n",
        "  count = 0\n",
        "  for attr in module.__dict__.keys(): # scan names\n",
        "    print(\"%02d) %s\" % (count, attr), end=\",\")\n",
        "    if attr[0:2] == \"__\":\n",
        "      print(\"<built-in name>\") # skip specials\n",
        "    else:\n",
        "      print(getattr(module, attr)) #__dict__[attr]\n",
        "    count = count+1\n",
        " \n",
        "\n",
        "  if verbose:\n",
        "    print(\"-\" * 30)\n",
        "    print(module.__name__, \"has %d names\" % count)\n",
        "    print(\"-\" * 30)\n",
        "\n",
        "if __name__ == \"__main__\":\n",
        "  import mydir\n",
        "  listing(mydir) # self-test code: list myself\n",
        "  ```"
      ]
    },
    {
      "cell_type": "code",
      "metadata": {
        "id": "M8BVMW4YjGHA",
        "colab_type": "code",
        "outputId": "3def7b78-9966-4d82-8b88-86520d32087b",
        "colab": {
          "base_uri": "https://localhost:8080/",
          "height": 68
        }
      },
      "source": [
        "! curl -O https://raw.githubusercontent.com/fbeilstein/machine_learning/master/lecture_01_and_lecture_02_intro_and_python/mydir.py"
      ],
      "execution_count": 0,
      "outputs": [
        {
          "output_type": "stream",
          "text": [
            "  % Total    % Received % Xferd  Average Speed   Time    Time     Time  Current\n",
            "                                 Dload  Upload   Total   Spent    Left  Speed\n",
            "100   621  100   621    0     0   2083      0 --:--:-- --:--:-- --:--:--  2083\n"
          ],
          "name": "stdout"
        }
      ]
    },
    {
      "cell_type": "markdown",
      "metadata": {
        "id": "UKeyBwXfjGHD",
        "colab_type": "text"
      },
      "source": [
        "*     Running the module on itself"
      ]
    },
    {
      "cell_type": "code",
      "metadata": {
        "id": "wv4Nl0C2jGHD",
        "colab_type": "code",
        "outputId": "38da8c95-d968-4ccb-edc7-dc765aa08344",
        "colab": {
          "base_uri": "https://localhost:8080/",
          "height": 289
        }
      },
      "source": [
        "! python -u mydir.py"
      ],
      "execution_count": 0,
      "outputs": [
        {
          "output_type": "stream",
          "text": [
            "------------------------------\n",
            "name: mydir file: /content/mydir.py\n",
            "------------------------------\n",
            "00) __name__,<built-in name>\n",
            "01) __doc__,<built-in name>\n",
            "02) __package__,<built-in name>\n",
            "03) __loader__,<built-in name>\n",
            "04) __spec__,<built-in name>\n",
            "05) __file__,<built-in name>\n",
            "06) __cached__,<built-in name>\n",
            "07) __builtins__,<built-in name>\n",
            "08) verbose,1\n",
            "09) listing,<function listing at 0x7f2fb5db5d90>\n",
            "------------------------------\n",
            "mydir has 10 names\n",
            "------------------------------\n"
          ],
          "name": "stdout"
        }
      ]
    },
    {
      "cell_type": "markdown",
      "metadata": {
        "id": "oCxNMWWhjGHG",
        "colab_type": "text"
      },
      "source": [
        "**Another program about programs**\n",
        "\n",
        "*     exec runs strings of Python code\n",
        "*     os.system runs a system shell command\n",
        "*     \\_\\_dict\\_\\_ attribute is module namespace dictionary\n",
        "*     sys.modules is the loaded-module dictionary"
      ]
    },
    {
      "cell_type": "code",
      "metadata": {
        "id": "lfSha8hojGHI",
        "colab_type": "code",
        "colab": {}
      },
      "source": [
        "def python(cmd):\n",
        "  import importlib\n",
        "  import __main__\n",
        "  namespace = __main__.__dict__\n",
        "  exec(cmd, namespace, namespace)\n",
        "\n",
        "def fix(modname):\n",
        "  import sys # edit,(re)load\n",
        "  if modname in sys.modules.keys():\n",
        "    python('import importlib; importlib.reload(' + modname + ')')\n",
        "  else:\n",
        "    python('import ' + modname)   "
      ],
      "execution_count": 0,
      "outputs": []
    },
    {
      "cell_type": "code",
      "metadata": {
        "id": "Z71AtQTSFwxh",
        "colab_type": "code",
        "outputId": "c8d3f84a-2ba3-41a2-bcd2-270f758e41bb",
        "colab": {
          "base_uri": "https://localhost:8080/",
          "height": 34
        }
      },
      "source": [
        "%%writefile tester.py\n",
        "\n",
        "def func():\n",
        "  print('UNEDITED')"
      ],
      "execution_count": 0,
      "outputs": [
        {
          "output_type": "stream",
          "text": [
            "Overwriting tester.py\n"
          ],
          "name": "stdout"
        }
      ]
    },
    {
      "cell_type": "code",
      "metadata": {
        "id": "bJNRZtdVjGHK",
        "colab_type": "code",
        "outputId": "e3032a69-1e9a-4ae0-fb49-44fd4682277d",
        "colab": {
          "base_uri": "https://localhost:8080/",
          "height": 34
        }
      },
      "source": [
        "import tester\n",
        "tester.func()"
      ],
      "execution_count": 0,
      "outputs": [
        {
          "output_type": "stream",
          "text": [
            "UNEDITED\n"
          ],
          "name": "stdout"
        }
      ]
    },
    {
      "cell_type": "code",
      "metadata": {
        "id": "_BOzxLRkGHNU",
        "colab_type": "code",
        "outputId": "daa88800-2389-4d57-aa91-4436c0eac54b",
        "colab": {
          "base_uri": "https://localhost:8080/",
          "height": 34
        }
      },
      "source": [
        "%%writefile tester.py\n",
        "\n",
        "def func():\n",
        "  print('hello world')"
      ],
      "execution_count": 0,
      "outputs": [
        {
          "output_type": "stream",
          "text": [
            "Overwriting tester.py\n"
          ],
          "name": "stdout"
        }
      ]
    },
    {
      "cell_type": "code",
      "metadata": {
        "id": "42Q1vLXjGLpK",
        "colab_type": "code",
        "outputId": "4d8e9969-1cf3-443a-a566-fd57a24b35c9",
        "colab": {
          "base_uri": "https://localhost:8080/",
          "height": 34
        }
      },
      "source": [
        "import tester\n",
        "tester.func()"
      ],
      "execution_count": 0,
      "outputs": [
        {
          "output_type": "stream",
          "text": [
            "UNEDITED\n"
          ],
          "name": "stdout"
        }
      ]
    },
    {
      "cell_type": "code",
      "metadata": {
        "id": "68OyGCpuGNxu",
        "colab_type": "code",
        "outputId": "d12f3237-70a9-40c4-af97-819dc189df1c",
        "colab": {
          "base_uri": "https://localhost:8080/",
          "height": 34
        }
      },
      "source": [
        "fix(\"tester\")\n",
        "tester.func()"
      ],
      "execution_count": 0,
      "outputs": [
        {
          "output_type": "stream",
          "text": [
            "hello world\n"
          ],
          "name": "stdout"
        }
      ]
    },
    {
      "cell_type": "markdown",
      "metadata": {
        "id": "W-QVkfjOjGHL",
        "colab_type": "text"
      },
      "source": [
        "###Module gotchas"
      ]
    },
    {
      "cell_type": "code",
      "metadata": {
        "id": "xple0iZkRoee",
        "colab_type": "code",
        "outputId": "b46007a2-9886-481f-d259-24fbf31b3687",
        "colab": {
          "base_uri": "https://localhost:8080/",
          "height": 34
        }
      },
      "source": [
        "%%writefile nested1.py\n",
        "\n",
        "X = 99\n",
        "def printer(): print(X)"
      ],
      "execution_count": 0,
      "outputs": [
        {
          "output_type": "stream",
          "text": [
            "Writing nested1.py\n"
          ],
          "name": "stdout"
        }
      ]
    },
    {
      "cell_type": "code",
      "metadata": {
        "id": "SE03EvcgRwQ1",
        "colab_type": "code",
        "outputId": "3b751528-4f94-43d5-ea46-d55d1affbe4e",
        "colab": {
          "base_uri": "https://localhost:8080/",
          "height": 34
        }
      },
      "source": [
        "%%writefile nested2.py\n",
        "\n",
        "from nested1 import X, printer\n",
        "X = 88\n",
        "printer()"
      ],
      "execution_count": 0,
      "outputs": [
        {
          "output_type": "stream",
          "text": [
            "Writing nested2.py\n"
          ],
          "name": "stdout"
        }
      ]
    },
    {
      "cell_type": "code",
      "metadata": {
        "id": "nOKUvGf0Slfw",
        "colab_type": "code",
        "outputId": "42dfdd72-5243-400f-fd49-0cb99f79963e",
        "colab": {
          "base_uri": "https://localhost:8080/",
          "height": 34
        }
      },
      "source": [
        "%%writefile nested3.py\n",
        "\n",
        "import nested1\n",
        "nested1.X = 88\n",
        "nested1.printer()"
      ],
      "execution_count": 0,
      "outputs": [
        {
          "output_type": "stream",
          "text": [
            "Overwriting nested3.py\n"
          ],
          "name": "stdout"
        }
      ]
    },
    {
      "cell_type": "code",
      "metadata": {
        "id": "VksnM78xjGHT",
        "colab_type": "code",
        "outputId": "a82d7d21-d5a5-46c1-d343-99025085947c",
        "colab": {
          "base_uri": "https://localhost:8080/",
          "height": 52
        }
      },
      "source": [
        "! python -u nested2.py\n",
        "! python -u nested3.py"
      ],
      "execution_count": 0,
      "outputs": [
        {
          "output_type": "stream",
          "text": [
            "99\n",
            "88\n"
          ],
          "name": "stdout"
        }
      ]
    },
    {
      "cell_type": "markdown",
      "metadata": {
        "id": "E0UYbaUajGHj",
        "colab_type": "text"
      },
      "source": [
        "Statement order matters at top-level\n",
        " \n",
        "*     Solution: put most immediate code at bottom of file"
      ]
    },
    {
      "cell_type": "code",
      "metadata": {
        "id": "cnYqQECojGHj",
        "colab_type": "code",
        "outputId": "08d11868-444f-4044-f540-9604fc5ececa",
        "colab": {
          "base_uri": "https://localhost:8080/",
          "height": 34
        }
      },
      "source": [
        "#func1() # error: \"func1\" not yet assigned\n",
        "\n",
        "def func1():\n",
        "  print(func2()) # okay: \"func2\" looked up later\n",
        "\n",
        "#func1() # error: \"func2\" not yet assihned\n",
        "\n",
        "def func2():\n",
        "  return \"Hello\"\n",
        "\n",
        "func1() # okay: \"func1\" and \"func2\" assigned"
      ],
      "execution_count": 0,
      "outputs": [
        {
          "output_type": "stream",
          "text": [
            "Hello\n"
          ],
          "name": "stdout"
        }
      ]
    },
    {
      "cell_type": "markdown",
      "metadata": {
        "id": "zXCCwgBKjGHl",
        "colab_type": "text"
      },
      "source": [
        "Recursive from import gotchas\n",
        "\n",
        "*     Solution: use import, or from inside functions"
      ]
    },
    {
      "cell_type": "code",
      "metadata": {
        "id": "co245Am6T4eA",
        "colab_type": "code",
        "outputId": "a69eecfe-87fc-42ed-9377-07889262abcd",
        "colab": {
          "base_uri": "https://localhost:8080/",
          "height": 34
        }
      },
      "source": [
        "%%writefile recur1.py\n",
        "\n",
        "X = 1\n",
        "import recur2\n",
        "Y = 2"
      ],
      "execution_count": 0,
      "outputs": [
        {
          "output_type": "stream",
          "text": [
            "Writing recur1.py\n"
          ],
          "name": "stdout"
        }
      ]
    },
    {
      "cell_type": "code",
      "metadata": {
        "id": "T3aHDlmqUDdB",
        "colab_type": "code",
        "outputId": "28c8beee-c1f1-4a77-ddbd-579abe5266cf",
        "colab": {
          "base_uri": "https://localhost:8080/",
          "height": 34
        }
      },
      "source": [
        "%%writefile recur2.py\n",
        "\n",
        "from recur1 import X\n",
        "from recur1 import Y"
      ],
      "execution_count": 0,
      "outputs": [
        {
          "output_type": "stream",
          "text": [
            "Writing recur2.py\n"
          ],
          "name": "stdout"
        }
      ]
    },
    {
      "cell_type": "code",
      "metadata": {
        "id": "9SoZLOwKjGHo",
        "colab_type": "code",
        "outputId": "bf1d1854-01b6-41b7-cf42-88c07f959199",
        "colab": {
          "base_uri": "https://localhost:8080/",
          "height": 458
        }
      },
      "source": [
        "print(\"ERROR EXPECTED\")\n",
        "import recur1"
      ],
      "execution_count": 0,
      "outputs": [
        {
          "output_type": "stream",
          "text": [
            "ERROR EXPECTED\n"
          ],
          "name": "stdout"
        },
        {
          "output_type": "error",
          "ename": "ImportError",
          "evalue": "ignored",
          "traceback": [
            "\u001b[0;31m---------------------------------------------------------------------------\u001b[0m",
            "\u001b[0;31mImportError\u001b[0m                               Traceback (most recent call last)",
            "\u001b[0;32m<ipython-input-12-be682e4c5536>\u001b[0m in \u001b[0;36m<module>\u001b[0;34m()\u001b[0m\n\u001b[1;32m      1\u001b[0m \u001b[0mprint\u001b[0m\u001b[0;34m(\u001b[0m\u001b[0;34m\"ERROR EXPECTED\"\u001b[0m\u001b[0;34m)\u001b[0m\u001b[0;34m\u001b[0m\u001b[0;34m\u001b[0m\u001b[0m\n\u001b[0;32m----> 2\u001b[0;31m \u001b[0;32mimport\u001b[0m \u001b[0mrecur1\u001b[0m\u001b[0;34m\u001b[0m\u001b[0;34m\u001b[0m\u001b[0m\n\u001b[0m",
            "\u001b[0;32m/content/recur1.py\u001b[0m in \u001b[0;36m<module>\u001b[0;34m()\u001b[0m\n\u001b[1;32m      1\u001b[0m \u001b[0;34m\u001b[0m\u001b[0m\n\u001b[1;32m      2\u001b[0m \u001b[0mX\u001b[0m \u001b[0;34m=\u001b[0m \u001b[0;36m1\u001b[0m\u001b[0;34m\u001b[0m\u001b[0;34m\u001b[0m\u001b[0m\n\u001b[0;32m----> 3\u001b[0;31m \u001b[0;32mimport\u001b[0m \u001b[0mrecur2\u001b[0m\u001b[0;34m\u001b[0m\u001b[0;34m\u001b[0m\u001b[0m\n\u001b[0m\u001b[1;32m      4\u001b[0m \u001b[0mY\u001b[0m \u001b[0;34m=\u001b[0m \u001b[0;36m2\u001b[0m\u001b[0;34m\u001b[0m\u001b[0;34m\u001b[0m\u001b[0m\n",
            "\u001b[0;32m/content/recur2.py\u001b[0m in \u001b[0;36m<module>\u001b[0;34m()\u001b[0m\n\u001b[1;32m      1\u001b[0m \u001b[0;34m\u001b[0m\u001b[0m\n\u001b[1;32m      2\u001b[0m \u001b[0;32mfrom\u001b[0m \u001b[0mrecur1\u001b[0m \u001b[0;32mimport\u001b[0m \u001b[0mX\u001b[0m\u001b[0;34m\u001b[0m\u001b[0;34m\u001b[0m\u001b[0m\n\u001b[0;32m----> 3\u001b[0;31m \u001b[0;32mfrom\u001b[0m \u001b[0mrecur1\u001b[0m \u001b[0;32mimport\u001b[0m \u001b[0mY\u001b[0m\u001b[0;34m\u001b[0m\u001b[0;34m\u001b[0m\u001b[0m\n\u001b[0m",
            "\u001b[0;31mImportError\u001b[0m: cannot import name 'Y'",
            "",
            "\u001b[0;31m---------------------------------------------------------------------------\u001b[0;32m\nNOTE: If your import is failing due to a missing package, you can\nmanually install dependencies using either !pip or !apt.\n\nTo view examples of installing some common dependencies, click the\n\"Open Examples\" button below.\n\u001b[0;31m---------------------------------------------------------------------------\u001b[0m\n"
          ]
        }
      ]
    },
    {
      "cell_type": "code",
      "metadata": {
        "id": "R9DExJTmTn4X",
        "colab_type": "code",
        "colab": {}
      },
      "source": [
        "import recur2"
      ],
      "execution_count": 0,
      "outputs": []
    },
    {
      "cell_type": "code",
      "metadata": {
        "id": "1IXtkNPYTpqW",
        "colab_type": "code",
        "colab": {}
      },
      "source": [
        "from recur1 import Y # error: \"Y\" not yet assigned"
      ],
      "execution_count": 0,
      "outputs": []
    },
    {
      "cell_type": "markdown",
      "metadata": {
        "id": "2OlyYhbKUIYt",
        "colab_type": "text"
      },
      "source": [
        "**reload may not impact from imports**\n",
        "\n",
        "*     reload overwrites existing module object\n",
        "*     But from names have no link back to module\n",
        "*     Use import to make reloads more effective\n",
        "\n",
        "-> import module module.X reflects module reloads\n",
        "\n",
        "\n",
        "-> from module import X X may not reflect module reloads!\n",
        "\n",
        "**reload isn't applied transitively**\n",
        "\n",
        "*     Use multiple reloads to update subcomponents\n",
        "*     Or use recursion to traverse import dependencies"
      ]
    },
    {
      "cell_type": "markdown",
      "metadata": {
        "id": "WI1fE6_MjGHq",
        "colab_type": "text"
      },
      "source": [
        "###Optional reading: a shared stack module"
      ]
    },
    {
      "cell_type": "markdown",
      "metadata": {
        "id": "N0zrb3sVUpvW",
        "colab_type": "text"
      },
      "source": [
        "*     Manages a local stack, initialized on first import\n",
        "*     All importers share the same stack: single instance\n",
        "*     Stack accessed through exported functions\n",
        "*     Stack can hold any kind of object (heterogeneous)"
      ]
    },
    {
      "cell_type": "code",
      "metadata": {
        "id": "f880A25-ynwY",
        "colab_type": "code",
        "outputId": "988ed7bd-4e12-402a-a263-50e4ef82ec1c",
        "colab": {
          "base_uri": "https://localhost:8080/",
          "height": 476
        }
      },
      "source": [
        "! curl -O https://raw.githubusercontent.com/fbeilstein/machine_learning/master/lecture_01_and_lecture_02_intro_and_python/mystack.py\n",
        "! cat mystack.py"
      ],
      "execution_count": 0,
      "outputs": [
        {
          "output_type": "stream",
          "text": [
            "  % Total    % Received % Xferd  Average Speed   Time    Time     Time  Current\n",
            "                                 Dload  Upload   Total   Spent    Left  Speed\n",
            "100   727  100   727    0     0   2506      0 --:--:-- --:--:-- --:--:--  2515\n",
            "stack = [] # on first import\n",
            "error = 'mystack.error' # local exceptions\n",
            "\n",
            "def push(obj):\n",
            "  global stack # 'global' to change\n",
            "  stack = [obj] + stack # add item to front\n",
            "\n",
            "def pop():\n",
            "  global stack\n",
            "  if not stack:\n",
            "    raise Exception(error, 'stack underflow') # raise local error\n",
            "  top, stack = stack[0], stack[1:] # remove front item\n",
            "  return top\n",
            "\n",
            "def top():\n",
            "  if not stack: # raise local error\n",
            "    raise Exception(error, 'stack underflow') # or let IndexError\n",
            "  return stack[0]\n",
            "\n",
            "def empty(): return not stack # is the stack []?\n",
            "def member(obj): return obj in stack # item in stack?\n",
            "def item(offset): return stack[offset] # index the stack\n",
            "def length(): return len(stack) # number entries\n",
            "def dump(): print('<Stack:%s>' % stack)\n"
          ],
          "name": "stdout"
        }
      ]
    },
    {
      "cell_type": "markdown",
      "metadata": {
        "id": "YJU-A36rjGHr",
        "colab_type": "text"
      },
      "source": [
        "**Using the stack module**"
      ]
    },
    {
      "cell_type": "code",
      "metadata": {
        "id": "g0sHLsEXjGHs",
        "colab_type": "code",
        "outputId": "2c9b0050-914d-45dc-e488-b35d3c07ba26",
        "colab": {
          "base_uri": "https://localhost:8080/",
          "height": 34
        }
      },
      "source": [
        "import mystack\n",
        "for i in range(5): mystack.push(i)\n",
        "\n",
        "mystack.dump()"
      ],
      "execution_count": 0,
      "outputs": [
        {
          "output_type": "stream",
          "text": [
            "<Stack:[4, 3, 2, 1, 0]>\n"
          ],
          "name": "stdout"
        }
      ]
    },
    {
      "cell_type": "markdown",
      "metadata": {
        "id": "xM8muVjOzuYn",
        "colab_type": "text"
      },
      "source": [
        "**Sequence-like tools**"
      ]
    },
    {
      "cell_type": "code",
      "metadata": {
        "id": "vBEpEJb_zpmO",
        "colab_type": "code",
        "outputId": "5c0e1a68-7356-4da8-a98b-045b6cc8363d",
        "colab": {
          "base_uri": "https://localhost:8080/",
          "height": 34
        }
      },
      "source": [
        "mystack.item(0), mystack.item(-1), mystack.length()"
      ],
      "execution_count": 0,
      "outputs": [
        {
          "output_type": "execute_result",
          "data": {
            "text/plain": [
              "(4, 0, 5)"
            ]
          },
          "metadata": {
            "tags": []
          },
          "execution_count": 8
        }
      ]
    },
    {
      "cell_type": "code",
      "metadata": {
        "id": "qmIjcpJZz1OY",
        "colab_type": "code",
        "outputId": "8abe45a3-4940-42c1-d0f1-a5892c7eb9fc",
        "colab": {
          "base_uri": "https://localhost:8080/",
          "height": 34
        }
      },
      "source": [
        "mystack.pop(), mystack.top()"
      ],
      "execution_count": 0,
      "outputs": [
        {
          "output_type": "execute_result",
          "data": {
            "text/plain": [
              "(4, 3)"
            ]
          },
          "metadata": {
            "tags": []
          },
          "execution_count": 9
        }
      ]
    },
    {
      "cell_type": "code",
      "metadata": {
        "id": "obLAyRtDz46m",
        "colab_type": "code",
        "outputId": "f8ea88b3-406e-44a2-fe88-c8072b25cdfa",
        "colab": {
          "base_uri": "https://localhost:8080/",
          "height": 34
        }
      },
      "source": [
        "mystack.member(4), mystack.member(3)"
      ],
      "execution_count": 0,
      "outputs": [
        {
          "output_type": "execute_result",
          "data": {
            "text/plain": [
              "(False, True)"
            ]
          },
          "metadata": {
            "tags": []
          },
          "execution_count": 11
        }
      ]
    },
    {
      "cell_type": "code",
      "metadata": {
        "id": "rvxB6ogjy3je",
        "colab_type": "code",
        "outputId": "019d8488-270a-43eb-b2d9-cf5ef8389fcf",
        "colab": {
          "base_uri": "https://localhost:8080/",
          "height": 34
        }
      },
      "source": [
        "for i in range(mystack.length()): print(mystack.item(i),end=\",\")"
      ],
      "execution_count": 0,
      "outputs": [
        {
          "output_type": "stream",
          "text": [
            "3,2,1,0,"
          ],
          "name": "stdout"
        }
      ]
    },
    {
      "cell_type": "markdown",
      "metadata": {
        "id": "Q8ogfYh_jGHt",
        "colab_type": "text"
      },
      "source": [
        "**Exceptions**"
      ]
    },
    {
      "cell_type": "code",
      "metadata": {
        "id": "LY2Gb863jGHt",
        "colab_type": "code",
        "outputId": "26b04391-f03d-487e-b1ca-13cea8110b83",
        "colab": {
          "base_uri": "https://localhost:8080/",
          "height": 34
        }
      },
      "source": [
        "while not mystack.empty(): x = mystack.pop(),\n",
        "try:\n",
        "  mystack.pop()\n",
        "except Exception as e:\n",
        "  print(e.args)"
      ],
      "execution_count": 0,
      "outputs": [
        {
          "output_type": "stream",
          "text": [
            "('stack1.error', 'stack underflow')\n"
          ],
          "name": "stdout"
        }
      ]
    },
    {
      "cell_type": "markdown",
      "metadata": {
        "id": "uXuqSRiKjGHv",
        "colab_type": "text"
      },
      "source": [
        "**Module clients**"
      ]
    },
    {
      "cell_type": "code",
      "metadata": {
        "id": "PFpLamgyjGHv",
        "colab_type": "code",
        "outputId": "b2bf9c92-fe9c-437b-eb71-ecb7ca026126",
        "colab": {
          "base_uri": "https://localhost:8080/",
          "height": 34
        }
      },
      "source": [
        "from mystack import *\n",
        "push(123) # module-name not needed\n",
        "dump()"
      ],
      "execution_count": 0,
      "outputs": [
        {
          "output_type": "stream",
          "text": [
            "<Stack:[123]>\n"
          ],
          "name": "stdout"
        }
      ]
    },
    {
      "cell_type": "code",
      "metadata": {
        "id": "8XwfhEz2jGHy",
        "colab_type": "code",
        "outputId": "0bc51d6d-910a-4ca7-9c05-b9ea4d1e9473",
        "colab": {
          "base_uri": "https://localhost:8080/",
          "height": 51
        }
      },
      "source": [
        "import mystack\n",
        "mystack.dump()\n",
        "if not mystack.empty(): # qualify by module name\n",
        "  x = mystack.pop()\n",
        "mystack.push(1.23)\n",
        "mystack.dump()"
      ],
      "execution_count": 0,
      "outputs": [
        {
          "output_type": "stream",
          "text": [
            "<Stack:[123]>\n",
            "<Stack:[1.23]>\n"
          ],
          "name": "stdout"
        }
      ]
    }
  ]
}