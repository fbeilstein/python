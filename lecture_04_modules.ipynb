{
  "nbformat": 4,
  "nbformat_minor": 0,
  "metadata": {
    "colab": {
      "name": "lecture_04_modules.ipynb",
      "provenance": [],
      "authorship_tag": "ABX9TyPzI0iXlFqqPCj1/W+6McVZ",
      "include_colab_link": true
    },
    "kernelspec": {
      "name": "python3",
      "display_name": "Python 3"
    }
  },
  "cells": [
    {
      "cell_type": "markdown",
      "metadata": {
        "id": "view-in-github",
        "colab_type": "text"
      },
      "source": [
        "<a href=\"https://colab.research.google.com/github/fbeilstein/python/blob/master/lecture_04_modules.ipynb\" target=\"_parent\"><img src=\"https://colab.research.google.com/assets/colab-badge.svg\" alt=\"Open In Colab\"/></a>"
      ]
    },
    {
      "cell_type": "markdown",
      "metadata": {
        "id": "MlgFudd3jGGV",
        "colab_type": "text"
      },
      "source": [
        "##Modules"
      ]
    },
    {
      "cell_type": "markdown",
      "metadata": {
        "id": "HnlKYXSW0MER",
        "colab_type": "text"
      },
      "source": [
        "**Why use modules?**\n",
        "\n",
        "*     Code reuse\n",
        "*     System name-space partitioning\n",
        "*     Implementing shared services or data"
      ]
    },
    {
      "cell_type": "markdown",
      "metadata": {
        "id": "-wR5o0Ah367X",
        "colab_type": "text"
      },
      "source": [
        "**Module topics**\n",
        " \n",
        "*     The basics\n",
        "*     Import variations\n",
        "*     Reloading modules\n",
        "*     Design concepts\n",
        "*     Modules are objects\n",
        "*     Package imports\n",
        "*     Odds and ends\n",
        "*     Module gotchas"
      ]
    },
    {
      "cell_type": "markdown",
      "metadata": {
        "id": "X4fDbRY93-4n",
        "colab_type": "text"
      },
      "source": [
        "###Module basics"
      ]
    },
    {
      "cell_type": "markdown",
      "metadata": {
        "id": "h3Z7UFQq4CCX",
        "colab_type": "text"
      },
      "source": [
        "*     Creating modules: Python files, C extensions; Java classes (Jython)\n",
        "*     Using modules: import, from, reload(), 3.X: imp.reload()\n",
        "*     Module search path: $PYTHONPATH"
      ]
    },
    {
      "cell_type": "code",
      "metadata": {
        "id": "hUrUlJ0WjGGY",
        "colab_type": "code",
        "colab": {}
      },
      "source": [
        "! echo \"def printer(x): # module attribute\" > module1.py &&\\\n",
        "  echo \"  print(x)\" >> module1.py"
      ],
      "execution_count": 0,
      "outputs": []
    },
    {
      "cell_type": "markdown",
      "metadata": {
        "id": "u8AVLj3IjGGc",
        "colab_type": "text"
      },
      "source": [
        "**Module usage**"
      ]
    },
    {
      "cell_type": "code",
      "metadata": {
        "id": "rhl1DSU5Oe3q",
        "colab_type": "code",
        "outputId": "55ea1574-3666-4507-e3ed-d4aac6f2ab28",
        "colab": {
          "base_uri": "https://localhost:8080/",
          "height": 34
        }
      },
      "source": [
        "import module1 # get module\n",
        "module1.printer('Hello world!')"
      ],
      "execution_count": 0,
      "outputs": [
        {
          "output_type": "stream",
          "text": [
            "Hello world!\n"
          ],
          "name": "stdout"
        }
      ]
    },
    {
      "cell_type": "code",
      "metadata": {
        "id": "SsAEqweuOn2Z",
        "colab_type": "code",
        "outputId": "b91b5679-2e43-4918-c754-896d000bc591",
        "colab": {
          "base_uri": "https://localhost:8080/",
          "height": 34
        }
      },
      "source": [
        "from module1 import printer # get an export\n",
        "printer('Hello world!')"
      ],
      "execution_count": 0,
      "outputs": [
        {
          "output_type": "stream",
          "text": [
            "Hello world!\n"
          ],
          "name": "stdout"
        }
      ]
    },
    {
      "cell_type": "code",
      "metadata": {
        "id": "4jxky0ZgjGGd",
        "colab_type": "code",
        "outputId": "68271472-9a8c-455f-8736-27b2d9edd4a8",
        "colab": {
          "base_uri": "https://localhost:8080/",
          "height": 34
        }
      },
      "source": [
        "from module1 import * # get all exports\n",
        "printer('Hello world!')"
      ],
      "execution_count": 0,
      "outputs": [
        {
          "output_type": "stream",
          "text": [
            "Hello world!\n"
          ],
          "name": "stdout"
        }
      ]
    },
    {
      "cell_type": "markdown",
      "metadata": {
        "id": "QBierGYXjGGg",
        "colab_type": "text"
      },
      "source": [
        "from * can obscure variables meaning"
      ]
    },
    {
      "cell_type": "code",
      "metadata": {
        "id": "-DMS-1fRO3dJ",
        "colab_type": "code",
        "colab": {}
      },
      "source": [
        "! echo \"def func(): # module attribute\" > module1.py &&\\\n",
        "  echo \"  print('module 1')\" >> module1.py\n",
        "! echo \"def func(): # module attribute\" > module2.py &&\\\n",
        "  echo \"  print('module 2')\" >> module2.py\n",
        "! echo \"def func(): # module attribute\" > module3.py &&\\\n",
        "  echo \"  print('module 3')\" >> module3.py"
      ],
      "execution_count": 0,
      "outputs": []
    },
    {
      "cell_type": "code",
      "metadata": {
        "id": "EAeiQREijGGh",
        "colab_type": "code",
        "outputId": "b1da173a-c856-4830-e90b-106f1566262c",
        "colab": {
          "base_uri": "https://localhost:8080/",
          "height": 34
        }
      },
      "source": [
        "from module1 import * # may overwrite my names\n",
        "from module2 import * # no way to tell what we get\n",
        "from module3 import *\n",
        "\n",
        "func() # ← ?!\n",
        "\n",
        "# Advice: use from * with at most 1 module per file"
      ],
      "execution_count": 0,
      "outputs": [
        {
          "output_type": "stream",
          "text": [
            "module 3\n"
          ],
          "name": "stdout"
        }
      ]
    },
    {
      "cell_type": "markdown",
      "metadata": {
        "id": "ZvczlPgqjGGj",
        "colab_type": "text"
      },
      "source": [
        "from does not play well with reload"
      ]
    },
    {
      "cell_type": "code",
      "metadata": {
        "id": "YBxtCbpUPgVS",
        "colab_type": "code",
        "colab": {}
      },
      "source": [
        "! echo \"def func(): # module attribute\" > moduleA.py &&\\\n",
        "  echo \"  print('module before change')\" >> moduleA.py"
      ],
      "execution_count": 0,
      "outputs": []
    },
    {
      "cell_type": "code",
      "metadata": {
        "id": "0OiXMOClPLus",
        "colab_type": "code",
        "outputId": "54f2d163-c6af-4f23-c15e-412bd98d9321",
        "colab": {
          "base_uri": "https://localhost:8080/",
          "height": 34
        }
      },
      "source": [
        "from moduleA import func # copy variable out\n",
        "func() # test it"
      ],
      "execution_count": 0,
      "outputs": [
        {
          "output_type": "stream",
          "text": [
            "module before change\n"
          ],
          "name": "stdout"
        }
      ]
    },
    {
      "cell_type": "code",
      "metadata": {
        "id": "EaOQ_ja-PpEx",
        "colab_type": "code",
        "colab": {}
      },
      "source": [
        "# change moduleA.py\n",
        "\n",
        "! echo \"def func(): # module attribute\" > moduleA.py &&\\\n",
        "  echo \"  print('module AFTER change')\" >> moduleA.py"
      ],
      "execution_count": 0,
      "outputs": []
    },
    {
      "cell_type": "code",
      "metadata": {
        "id": "y0l-YzGuP5AB",
        "colab_type": "code",
        "outputId": "1014aea2-c841-439f-cb3e-5dcb8ecc09b8",
        "colab": {
          "base_uri": "https://localhost:8080/",
          "height": 214
        }
      },
      "source": [
        "from imp import reload # required in 3.X\n",
        "print(\"ERROR EXPECTED\")\n",
        "reload(moduleA) # <- FAILS: unbound name!"
      ],
      "execution_count": 0,
      "outputs": [
        {
          "output_type": "stream",
          "text": [
            "ERROR EXPECTED\n"
          ],
          "name": "stdout"
        },
        {
          "output_type": "error",
          "ename": "NameError",
          "evalue": "ignored",
          "traceback": [
            "\u001b[0;31m---------------------------------------------------------------------------\u001b[0m",
            "\u001b[0;31mNameError\u001b[0m                                 Traceback (most recent call last)",
            "\u001b[0;32m<ipython-input-21-e3140f2732af>\u001b[0m in \u001b[0;36m<module>\u001b[0;34m()\u001b[0m\n\u001b[1;32m      1\u001b[0m \u001b[0;32mfrom\u001b[0m \u001b[0mimp\u001b[0m \u001b[0;32mimport\u001b[0m \u001b[0mreload\u001b[0m \u001b[0;31m# required in 3.X\u001b[0m\u001b[0;34m\u001b[0m\u001b[0;34m\u001b[0m\u001b[0m\n\u001b[1;32m      2\u001b[0m \u001b[0mprint\u001b[0m\u001b[0;34m(\u001b[0m\u001b[0;34m\"ERROR EXPECTED\"\u001b[0m\u001b[0;34m)\u001b[0m\u001b[0;34m\u001b[0m\u001b[0;34m\u001b[0m\u001b[0m\n\u001b[0;32m----> 3\u001b[0;31m \u001b[0mreload\u001b[0m\u001b[0;34m(\u001b[0m\u001b[0mmoduleA\u001b[0m\u001b[0;34m)\u001b[0m \u001b[0;31m# <- FAILS: unbound name!\u001b[0m\u001b[0;34m\u001b[0m\u001b[0;34m\u001b[0m\u001b[0m\n\u001b[0m",
            "\u001b[0;31mNameError\u001b[0m: name 'moduleA' is not defined"
          ]
        }
      ]
    },
    {
      "cell_type": "code",
      "metadata": {
        "id": "mEg0ev92QGT6",
        "colab_type": "code",
        "outputId": "b425e2f1-8512-4977-b51a-2d9bcb03bc9c",
        "colab": {
          "base_uri": "https://localhost:8080/",
          "height": 34
        }
      },
      "source": [
        "import moduleA # must bind name here\n",
        "reload(moduleA) # ok: loads new code\n",
        "func() # <- FAILS: old object!"
      ],
      "execution_count": 0,
      "outputs": [
        {
          "output_type": "stream",
          "text": [
            "module before change\n"
          ],
          "name": "stdout"
        }
      ]
    },
    {
      "cell_type": "code",
      "metadata": {
        "id": "DXEBT4qJQN45",
        "colab_type": "code",
        "outputId": "1ada2693-3a76-4f84-caf6-24bd4a8d0b19",
        "colab": {
          "base_uri": "https://localhost:8080/",
          "height": 34
        }
      },
      "source": [
        "moduleA.func() # this works now"
      ],
      "execution_count": 0,
      "outputs": [
        {
          "output_type": "stream",
          "text": [
            "module AFTER change\n"
          ],
          "name": "stdout"
        }
      ]
    },
    {
      "cell_type": "code",
      "metadata": {
        "id": "1nHSiMsFjGGk",
        "colab_type": "code",
        "outputId": "3c9b4160-7955-4fb4-c181-012bb94740b7",
        "colab": {
          "base_uri": "https://localhost:8080/",
          "height": 34
        }
      },
      "source": [
        "from moduleA import func # so does this\n",
        "func()\n",
        "\n",
        "# Advice: don't do that--run scripts other ways"
      ],
      "execution_count": 0,
      "outputs": [
        {
          "output_type": "stream",
          "text": [
            "module AFTER change\n"
          ],
          "name": "stdout"
        }
      ]
    },
    {
      "cell_type": "markdown",
      "metadata": {
        "id": "ei8hTPdWjGGn",
        "colab_type": "text"
      },
      "source": [
        "###Module files are a namespace"
      ]
    },
    {
      "cell_type": "markdown",
      "metadata": {
        "id": "qtK3mmSOQY55",
        "colab_type": "text"
      },
      "source": [
        "*     A single scope: local==global\n",
        "*     Module statements run on first import\n",
        "*     Top-level assignments create module attributes\n",
        "*     Module namespace: attribute __dict__, or dir()"
      ]
    },
    {
      "cell_type": "code",
      "metadata": {
        "id": "hMCCJr8qjGGo",
        "colab_type": "code",
        "colab": {}
      },
      "source": [
        "# file: moduleB.py\n",
        "\n",
        "! echo \"print('starting to load')\" > moduleB.py &&\\\n",
        "  echo \"import sys\" >> moduleB.py &&\\\n",
        "  echo \"name = 42\" >> moduleB.py &&\\\n",
        "  echo \"def func(): pass\" >> moduleB.py &&\\\n",
        "  echo \"class klass: pass\" >> moduleB.py &&\\\n",
        "  echo \"print('done loading.')\" >> moduleB.py"
      ],
      "execution_count": 0,
      "outputs": []
    },
    {
      "cell_type": "markdown",
      "metadata": {
        "id": "ILuFcwfPjGGq",
        "colab_type": "text"
      },
      "source": [
        "Usage"
      ]
    },
    {
      "cell_type": "code",
      "metadata": {
        "id": "iJkGZEqLXVjt",
        "colab_type": "code",
        "outputId": "b6ec290f-02d1-46b4-8217-297d8ae60b3e",
        "colab": {
          "base_uri": "https://localhost:8080/",
          "height": 51
        }
      },
      "source": [
        "import moduleB"
      ],
      "execution_count": 0,
      "outputs": [
        {
          "output_type": "stream",
          "text": [
            "starting to load\n",
            "done loading.\n"
          ],
          "name": "stdout"
        }
      ]
    },
    {
      "cell_type": "code",
      "metadata": {
        "id": "mtuMeXbPXdbv",
        "colab_type": "code",
        "outputId": "b179dd33-3ca0-4f86-bc07-8ffd31eb153c",
        "colab": {
          "base_uri": "https://localhost:8080/",
          "height": 34
        }
      },
      "source": [
        "moduleB.sys"
      ],
      "execution_count": 0,
      "outputs": [
        {
          "output_type": "execute_result",
          "data": {
            "text/plain": [
              "<module 'sys' (built-in)>"
            ]
          },
          "metadata": {
            "tags": []
          },
          "execution_count": 3
        }
      ]
    },
    {
      "cell_type": "code",
      "metadata": {
        "id": "-2gbYBW7Xgo0",
        "colab_type": "code",
        "outputId": "6fca3ea8-3f86-473d-9a68-acea5e822184",
        "colab": {
          "base_uri": "https://localhost:8080/",
          "height": 34
        }
      },
      "source": [
        "moduleB.name"
      ],
      "execution_count": 0,
      "outputs": [
        {
          "output_type": "execute_result",
          "data": {
            "text/plain": [
              "42"
            ]
          },
          "metadata": {
            "tags": []
          },
          "execution_count": 4
        }
      ]
    },
    {
      "cell_type": "code",
      "metadata": {
        "id": "UdWCu6HtYHcf",
        "colab_type": "code",
        "outputId": "bcc3340f-a1cc-4dc1-affa-55f96c09814a",
        "colab": {
          "base_uri": "https://localhost:8080/",
          "height": 34
        }
      },
      "source": [
        "moduleB.func, moduleB.klass"
      ],
      "execution_count": 0,
      "outputs": [
        {
          "output_type": "execute_result",
          "data": {
            "text/plain": [
              "(<function moduleB.func>, moduleB.klass)"
            ]
          },
          "metadata": {
            "tags": []
          },
          "execution_count": 6
        }
      ]
    },
    {
      "cell_type": "code",
      "metadata": {
        "id": "39fNEI6CjGGq",
        "colab_type": "code",
        "outputId": "f606d5e7-6604-4b82-ac62-c6c743afba77",
        "colab": {
          "base_uri": "https://localhost:8080/",
          "height": 34
        }
      },
      "source": [
        "moduleB.__dict__.keys() # add list() in 3.X"
      ],
      "execution_count": 0,
      "outputs": [
        {
          "output_type": "execute_result",
          "data": {
            "text/plain": [
              "dict_keys(['__name__', '__doc__', '__package__', '__loader__', '__spec__', '__file__', '__cached__', '__builtins__', 'sys', 'name', 'func', 'klass'])"
            ]
          },
          "metadata": {
            "tags": []
          },
          "execution_count": 8
        }
      ]
    },
    {
      "cell_type": "markdown",
      "metadata": {
        "id": "YojRnPCzYaj3",
        "colab_type": "text"
      },
      "source": [
        "###Name qualification"
      ]
    },
    {
      "cell_type": "markdown",
      "metadata": {
        "id": "K1tkDTn8YW3b",
        "colab_type": "text"
      },
      "source": [
        "*     Simple variables\n",
        "      -      X searches for name X in current scopes\n",
        "*     Qualification\n",
        "      -      X.Y searches for attribute Y in object X\n",
        "*     Paths\n",
        "      -      X.Y.Z gives a path of objects to be searched\n",
        "*     Generality\n",
        "      -      Qualification works on all objects with attributes: modules, classes, built-in types, etc."
      ]
    },
    {
      "cell_type": "markdown",
      "metadata": {
        "id": "810weuyKYyES",
        "colab_type": "text"
      },
      "source": [
        "![alt text](https://learning-python.com/class/Workbook/unit06_files/image002.gif)"
      ]
    },
    {
      "cell_type": "markdown",
      "metadata": {
        "id": "ICzVH33uZDXf",
        "colab_type": "text"
      },
      "source": [
        "###Import variants"
      ]
    },
    {
      "cell_type": "markdown",
      "metadata": {
        "id": "6XdqY2N-ZBOl",
        "colab_type": "text"
      },
      "source": [
        "*     Module import model\n",
        "      -      module loaded and run on first import or from\n",
        "      -      running a modules code creates its top-level names\n",
        "      -      later import/from fetches already-loaded module\n",
        "*     import and from are assignments\n",
        "      -      import assigns an entire module object to a name\n",
        "      -      from assigns selected module attributes to names"
      ]
    },
    {
      "cell_type": "markdown",
      "metadata": {
        "id": "jiL_TWjfZMYv",
        "colab_type": "text"
      },
      "source": [
        "Operation |\t Interpretation\n",
        "---|---\n",
        "import mod |\tfetch a module as a whole\n",
        "from mod import name |\tfetch a specific name from a module\n",
        "from mod import * |\tfetch all top-level names from a module\n",
        "imp.reload(mod) |\tforce a reload of modules code"
      ]
    },
    {
      "cell_type": "markdown",
      "metadata": {
        "id": "lNeIlFwWcaZF",
        "colab_type": "text"
      },
      "source": [
        "![alt text](https://learning-python.com/class/Workbook/unit06_files/image004.gif)"
      ]
    },
    {
      "cell_type": "markdown",
      "metadata": {
        "id": "Juhyr9ZVjGGs",
        "colab_type": "text"
      },
      "source": [
        "###Reloading modules"
      ]
    },
    {
      "cell_type": "markdown",
      "metadata": {
        "id": "k3k-oPoFcirm",
        "colab_type": "text"
      },
      "source": [
        "*     Imports only load/run module code first time\n",
        "*     Later imports use already-loaded module\n",
        "*     reload function forces module code reload/rerun\n",
        "*     Allows programs to be changed without stopping\n",
        "*     3.X: must first from imp import reload to use!"
      ]
    },
    {
      "cell_type": "markdown",
      "metadata": {
        "id": "8rxi3xKPcksc",
        "colab_type": "text"
      },
      "source": [
        "**General form**\n",
        "\n",
        "```python\n",
        "import module # initial import\n",
        "[use module.attributes]\n",
        " # change module file\n",
        "\n",
        "from imp import reload # required in 3.X\n",
        "reload(module) # get updated exports\n",
        "[use module.attributes]\n",
        "```"
      ]
    },
    {
      "cell_type": "markdown",
      "metadata": {
        "id": "gyceZ4b3jGGv",
        "colab_type": "text"
      },
      "source": [
        "**Usage details**\n",
        "\n",
        "*     A function, not a statement\n",
        "*     Requires a module object, not a name\n",
        "*     Changes a module object in-place:\n",
        "      -      runs module files new code in current namespace\n",
        "      -      assignments replace top-level names with new values\n",
        "      -      impacts all clients that use import to fetch module\n",
        "      -      impacts future from clients (see earlier example)"
      ]
    },
    {
      "cell_type": "markdown",
      "metadata": {
        "id": "1HXxPysfjGGy",
        "colab_type": "text"
      },
      "source": [
        "**Reload example**\n",
        "\n",
        "*     Changes and reload file without stopping Python\n",
        "*     Other common uses: GUI callbacks, embedded code, etc."
      ]
    },
    {
      "cell_type": "code",
      "metadata": {
        "id": "5TsIyvaxjGGy",
        "colab_type": "code",
        "colab": {}
      },
      "source": [
        "! echo \"message = 'First version'\" > changer.py &&\\\n",
        "  echo \"def printer():\" >> changer.py &&\\\n",
        "  echo \"  print(message)\" >> changer.py"
      ],
      "execution_count": 0,
      "outputs": []
    },
    {
      "cell_type": "code",
      "metadata": {
        "id": "tDwqjesqjIJl",
        "colab_type": "code",
        "outputId": "cb544dd8-5e74-4344-9d4c-4570f6e23d66",
        "colab": {
          "base_uri": "https://localhost:8080/",
          "height": 34
        }
      },
      "source": [
        "import changer\n",
        "changer.printer()"
      ],
      "execution_count": 0,
      "outputs": [
        {
          "output_type": "stream",
          "text": [
            "First version\n"
          ],
          "name": "stdout"
        }
      ]
    },
    {
      "cell_type": "code",
      "metadata": {
        "id": "f2V-G_0SjNd1",
        "colab_type": "code",
        "colab": {}
      },
      "source": [
        "! echo \"message = 'After editing'\" > changer.py &&\\\n",
        "  echo \"def printer():\" >> changer.py &&\\\n",
        "  echo \"  print(message)\" >> changer.py"
      ],
      "execution_count": 0,
      "outputs": []
    },
    {
      "cell_type": "code",
      "metadata": {
        "id": "Ohf5eyYnjGG0",
        "colab_type": "code",
        "outputId": "a7f818ec-de22-44c0-c4d4-c787b749351f",
        "colab": {
          "base_uri": "https://localhost:8080/",
          "height": 34
        }
      },
      "source": [
        "import changer\n",
        "changer.printer() # no effect: uses loaded module"
      ],
      "execution_count": 0,
      "outputs": [
        {
          "output_type": "stream",
          "text": [
            "First version\n"
          ],
          "name": "stdout"
        }
      ]
    },
    {
      "cell_type": "code",
      "metadata": {
        "id": "xlXtxaDRjGG2",
        "colab_type": "code",
        "outputId": "0397dc61-9471-432e-90e8-4a51c0195870",
        "colab": {
          "base_uri": "https://localhost:8080/",
          "height": 34
        }
      },
      "source": [
        "import importlib\n",
        "importlib.reload(changer) # forces new code to load/run\n",
        "changer.printer()"
      ],
      "execution_count": 0,
      "outputs": [
        {
          "output_type": "stream",
          "text": [
            "After editing\n"
          ],
          "name": "stdout"
        }
      ]
    },
    {
      "cell_type": "markdown",
      "metadata": {
        "id": "atuubgbojGG4",
        "colab_type": "text"
      },
      "source": [
        "###Package imports"
      ]
    },
    {
      "cell_type": "markdown",
      "metadata": {
        "id": "j6PoLclvj_vc",
        "colab_type": "text"
      },
      "source": [
        "\n",
        "Module package imports name directory paths:\n",
        "*      Module name -> dir.dir.dir in import statements and reloads\n",
        "       -      import dir1.dir2.mod -> loads dir1\\dir2\\mod.py\n",
        "       -      from dir1.dir2.mod import name\n",
        "*      dir1 must be contained by a directory on sys.path (., PYTHONPATH, etc.)\n",
        "*      Each dir must have \\_\\_init\\_\\_.py file, possibly empty (till 3.3: optional)\n",
        "*      \\_\\_init\\_\\_.py gives directory's namespace, can use \\_\\_all\\_\\_ for from*\n",
        "*      Simplifies path, disambiguates same-named modules files"
      ]
    },
    {
      "cell_type": "markdown",
      "metadata": {
        "id": "n_0xBazUsjmt",
        "colab_type": "text"
      },
      "source": [
        "**Example**\n",
        "\n",
        "```\n",
        "For:\n",
        "    dir0\\dir1\\dir2\\mod.py\n",
        "And:\n",
        "    import dir1.dir2.mod\n",
        "``` \n",
        "\n",
        "-      dir0 (container) must be listed on the module search path\n",
        "-      dir1 and dir2 both must contain an \\_\\_init\\_\\_.py file\n",
        "-      dir0 does not require an \\_\\_init\\_\\_.py\n",
        " \n",
        "```\n",
        "dir0\\\n",
        "    dir1\\\n",
        "      __init__.py\n",
        "      dir2\\\n",
        "          __init__.py\n",
        "          mod.py\n",
        "```"
      ]
    },
    {
      "cell_type": "markdown",
      "metadata": {
        "id": "ggBqDXKhuUrC",
        "colab_type": "text"
      },
      "source": [
        "**Why packages?**\n",
        " \n",
        "\n",
        "```\n",
        "root\\\n",
        "    sys1\\\n",
        "        __init__.py (__init__ needed if dir in import)\n",
        "        util.py\n",
        "        main.py (import util finds here)\n",
        "        other.py\n",
        "    sys2\\\n",
        "        __init__.py\n",
        "        util.py\n",
        "        main.py\n",
        "        other.py\n",
        "    sys3\\ (here or elsewhere)\n",
        "        __init__.py (your new code here)\n",
        "        myfile.py (import util depends on path)\n",
        "                  (import sys1.util doesnt)\n",
        "```"
      ]
    },
    {
      "cell_type": "markdown",
      "metadata": {
        "id": "3CkVrh5guX85",
        "colab_type": "text"
      },
      "source": [
        "**Advanced: Relative import syntax (2.5+)**\n",
        "\n",
        "To enable in 2.X (standard in 3.X):\n",
        "```python\n",
        "from __future__ import absolute_import # till 2.7, from stmt only\n",
        "``` \n",
        "\n",
        "In code located in package folder pkg:\n",
        "\n",
        "```python\n",
        "import string # skips pkg: finds the standard library's version\n",
        "\n",
        "from .string import name1, name2 # import names from pkg.string only\n",
        "from . import string # import pkg.string\n",
        "```"
      ]
    },
    {
      "cell_type": "markdown",
      "metadata": {
        "id": "FamhMc2ouFoC",
        "colab_type": "text"
      },
      "source": [
        "**Advanced: Namespace packages (3.3+)**\n",
        "\n",
        "Extension to usual import algorithm: directories without \\_\\_init\\_\\_.py, located anywhere on path, checked for last, and used only if no normal module or package found at level: concatenation of all found becomes a virtual package for deeper imports. Not yet used much in practice."
      ]
    },
    {
      "cell_type": "markdown",
      "metadata": {
        "id": "ZOXiBoGajGG6",
        "colab_type": "text"
      },
      "source": [
        "###Odds and ends"
      ]
    },
    {
      "cell_type": "markdown",
      "metadata": {
        "id": "zkI-aNCiurhy",
        "colab_type": "text"
      },
      "source": [
        "*     Python 2.0+: import module as name\n",
        "      -      Like import module + name = module\n",
        "      -      Also good for packages: import sys1.util as util\n",
        "\n",
        "*     Loading modules by name string\n",
        "      -      exec(import + name)\n",
        "      -      \\_\\_import\\_\\_(name)\n",
        "\n",
        "*     Modules are compiled to byte code on first import\n",
        "      -      .pyc files serve as recompile dependency\n",
        "      -      compilation is automatic and hidden\n",
        "\n",
        "*     Data hiding is a convention\n",
        "      -      Exports all names defined at the top-level of a module\n",
        "      -      Special case: \\_\\_all\\_\\_ list gives names exported by from *\n",
        "      -      Special case: _X names aren't imported by a from*\n",
        "\n",
        "*     The \\_\\_name\\_\\_ == \\_\\_main\\_\\_ trick\n",
        "      -      \\_\\_name\\_\\_ auto set to \\_\\_main\\_\\_ only when run as script\n",
        "      -      allows modules to be imported and/or run\n",
        "      -      Simplest unit test protocol, dual usage modes for code"
      ]
    },
    {
      "cell_type": "code",
      "metadata": {
        "id": "vL82Am20jGG6",
        "colab_type": "code",
        "colab": {}
      },
      "source": [
        "! echo \"def func(s):\" > tester.py &&\\\n",
        "  echo \"  print(s)\" >> tester.py &&\\\n",
        "  echo \"if __name__ == '__main__': # only when run\" >> tester.py &&\\\n",
        "  echo \"  func('This is Sparta') # not when imported\" >> tester.py"
      ],
      "execution_count": 0,
      "outputs": []
    },
    {
      "cell_type": "markdown",
      "metadata": {
        "id": "Vw56YyH8jGG8",
        "colab_type": "text"
      },
      "source": [
        "**Usage modes**"
      ]
    },
    {
      "cell_type": "code",
      "metadata": {
        "id": "gKHWs-JOxWCS",
        "colab_type": "code",
        "outputId": "f219a774-693c-4b27-8a07-e441150bc118",
        "colab": {
          "base_uri": "https://localhost:8080/",
          "height": 34
        }
      },
      "source": [
        "import tester\n",
        "tester.func(\"This is Kyiv\")"
      ],
      "execution_count": 0,
      "outputs": [
        {
          "output_type": "stream",
          "text": [
            "This is Kyiv\n"
          ],
          "name": "stdout"
        }
      ]
    },
    {
      "cell_type": "code",
      "metadata": {
        "id": "1r_aEDPkjGG8",
        "colab_type": "code",
        "outputId": "9cc3e5eb-885e-46aa-add9-48e49f57d447",
        "colab": {
          "base_uri": "https://localhost:8080/",
          "height": 34
        }
      },
      "source": [
        "! python -u tester.py"
      ],
      "execution_count": 0,
      "outputs": [
        {
          "output_type": "stream",
          "text": [
            "This is Sparta\n"
          ],
          "name": "stdout"
        }
      ]
    },
    {
      "cell_type": "markdown",
      "metadata": {
        "id": "mLGmwnwljGG9",
        "colab_type": "text"
      },
      "source": [
        "###Module design concepts"
      ]
    },
    {
      "cell_type": "markdown",
      "metadata": {
        "id": "WPAHAppHx65O",
        "colab_type": "text"
      },
      "source": [
        "*     Always in a module: interactive = module \\_\\_main\\_\\_\n",
        "*     Minimize module coupling: global variables\n",
        "*     Maximize module cohesion: unified purpose\n",
        "*     Modules should rarely change other modules variables"
      ]
    },
    {
      "cell_type": "markdown",
      "metadata": {
        "id": "AdBAB7weytAb",
        "colab_type": "text"
      },
      "source": [
        "**Suppose mod.py contains**\n",
        "\n",
        "```python\n",
        "X = 99 # reader sees only this\n",
        "```\n",
        "\n",
        "**always okay to use**\n",
        "\n",
        "```python\n",
        "import mod\n",
        "print(mod.X ** 2)\n",
        "```\n",
        "\n",
        "**almost always a Bad Idea!**\n",
        "\n",
        "```python\n",
        "import mod\n",
        "mod.X = 88\n",
        "```\n",
        "\n",
        " **better: isolates coupling**\n",
        "\n",
        "```python\n",
        "import mod\n",
        "result = mod.func(88)\n",
        "```"
      ]
    },
    {
      "cell_type": "markdown",
      "metadata": {
        "id": "e7oJZMUCzzJ8",
        "colab_type": "text"
      },
      "source": [
        "![alt text](https://learning-python.com/class/Workbook/unit06_files/image006.gif)"
      ]
    },
    {
      "cell_type": "markdown",
      "metadata": {
        "id": "7_rWyCtx_MM5",
        "colab_type": "text"
      },
      "source": [
        "###Modules are objects: metaprograms"
      ]
    },
    {
      "cell_type": "markdown",
      "metadata": {
        "id": "N_xNxpwDjGG_",
        "colab_type": "text"
      },
      "source": [
        "*     A module which lists namespaces of other modules\n",
        "*     Special attributes: module.\\_\\_name\\_\\_, \\_\\_file\\_\\_, \\_\\_dict\\_\\_\n",
        "*     getattr(object, name) fetches attributes by string name\n",
        "*     Add to $PYTHONSTARTUP to preload automatically"
      ]
    },
    {
      "cell_type": "markdown",
      "metadata": {
        "id": "B6zeNcGsCPbO",
        "colab_type": "text"
      },
      "source": [
        "**Example**\n",
        "\n",
        "```python\n",
        "verbose = 1\n",
        "\n",
        "def listing(module):\n",
        "  if verbose:\n",
        "    print(\"-\" * 30)\n",
        "    print(\"name: %s file: %s\" % (module.__name__, module.__file__))\n",
        "    print(\"-\" * 30)\n",
        " \n",
        "\n",
        "  count = 0\n",
        "  for attr in module.__dict__.keys(): # scan names\n",
        "    print(\"%02d) %s\" % (count, attr), end=\",\")\n",
        "    if attr[0:2] == \"__\":\n",
        "      print(\"<built-in name>\") # skip specials\n",
        "    else:\n",
        "      print(getattr(module, attr)) #__dict__[attr]\n",
        "    count = count+1\n",
        " \n",
        "\n",
        "  if verbose:\n",
        "    print(\"-\" * 30)\n",
        "    print(module.__name__, \"has %d names\" % count)\n",
        "    print(\"-\" * 30)\n",
        "\n",
        "if __name__ == \"__main__\":\n",
        "  import mydir\n",
        "  listing(mydir) # self-test code: list myself\n",
        "  ```"
      ]
    },
    {
      "cell_type": "code",
      "metadata": {
        "id": "M8BVMW4YjGHA",
        "colab_type": "code",
        "outputId": "3def7b78-9966-4d82-8b88-86520d32087b",
        "colab": {
          "base_uri": "https://localhost:8080/",
          "height": 68
        }
      },
      "source": [
        "! curl -O https://raw.githubusercontent.com/fbeilstein/machine_learning/master/lecture_01_and_lecture_02_intro_and_python/mydir.py"
      ],
      "execution_count": 0,
      "outputs": [
        {
          "output_type": "stream",
          "text": [
            "  % Total    % Received % Xferd  Average Speed   Time    Time     Time  Current\n",
            "                                 Dload  Upload   Total   Spent    Left  Speed\n",
            "100   621  100   621    0     0   2083      0 --:--:-- --:--:-- --:--:--  2083\n"
          ],
          "name": "stdout"
        }
      ]
    },
    {
      "cell_type": "markdown",
      "metadata": {
        "id": "UKeyBwXfjGHD",
        "colab_type": "text"
      },
      "source": [
        "*     Running the module on itself"
      ]
    },
    {
      "cell_type": "code",
      "metadata": {
        "id": "wv4Nl0C2jGHD",
        "colab_type": "code",
        "outputId": "38da8c95-d968-4ccb-edc7-dc765aa08344",
        "colab": {
          "base_uri": "https://localhost:8080/",
          "height": 289
        }
      },
      "source": [
        "! python -u mydir.py"
      ],
      "execution_count": 0,
      "outputs": [
        {
          "output_type": "stream",
          "text": [
            "------------------------------\n",
            "name: mydir file: /content/mydir.py\n",
            "------------------------------\n",
            "00) __name__,<built-in name>\n",
            "01) __doc__,<built-in name>\n",
            "02) __package__,<built-in name>\n",
            "03) __loader__,<built-in name>\n",
            "04) __spec__,<built-in name>\n",
            "05) __file__,<built-in name>\n",
            "06) __cached__,<built-in name>\n",
            "07) __builtins__,<built-in name>\n",
            "08) verbose,1\n",
            "09) listing,<function listing at 0x7f2fb5db5d90>\n",
            "------------------------------\n",
            "mydir has 10 names\n",
            "------------------------------\n"
          ],
          "name": "stdout"
        }
      ]
    },
    {
      "cell_type": "markdown",
      "metadata": {
        "id": "oCxNMWWhjGHG",
        "colab_type": "text"
      },
      "source": [
        "**Another program about programs**\n",
        "\n",
        "*     exec runs strings of Python code\n",
        "*     os.system runs a system shell command\n",
        "*     \\_\\_dict\\_\\_ attribute is module namespace dictionary\n",
        "*     sys.modules is the loaded-module dictionary"
      ]
    },
    {
      "cell_type": "code",
      "metadata": {
        "id": "lfSha8hojGHI",
        "colab_type": "code",
        "colab": {}
      },
      "source": [
        "def python(cmd):\n",
        "  import importlib\n",
        "  import __main__\n",
        "  namespace = __main__.__dict__\n",
        "  exec(cmd, namespace, namespace)\n",
        "\n",
        "def fix(modname):\n",
        "  import sys # edit,(re)load\n",
        "  if modname in sys.modules.keys():\n",
        "    python('import importlib; importlib.reload(' + modname + ')')\n",
        "  else:\n",
        "    python('import ' + modname)   "
      ],
      "execution_count": 0,
      "outputs": []
    },
    {
      "cell_type": "code",
      "metadata": {
        "id": "Z71AtQTSFwxh",
        "colab_type": "code",
        "colab": {}
      },
      "source": [
        "! echo \"def func():\" > tester.py &&\\\n",
        "  echo \"  print('UNEDITED')\" >> tester.py"
      ],
      "execution_count": 0,
      "outputs": []
    },
    {
      "cell_type": "code",
      "metadata": {
        "id": "bJNRZtdVjGHK",
        "colab_type": "code",
        "outputId": "85af55ce-13f5-4e84-9572-8ce481908e8b",
        "colab": {
          "base_uri": "https://localhost:8080/",
          "height": 34
        }
      },
      "source": [
        "import tester\n",
        "tester.func()"
      ],
      "execution_count": 0,
      "outputs": [
        {
          "output_type": "stream",
          "text": [
            "UNEDITED\n"
          ],
          "name": "stdout"
        }
      ]
    },
    {
      "cell_type": "code",
      "metadata": {
        "id": "_BOzxLRkGHNU",
        "colab_type": "code",
        "colab": {}
      },
      "source": [
        "! echo \"def func():\" > tester.py &&\\\n",
        "  echo \"  print('hello world')\" >> tester.py"
      ],
      "execution_count": 0,
      "outputs": []
    },
    {
      "cell_type": "code",
      "metadata": {
        "id": "42Q1vLXjGLpK",
        "colab_type": "code",
        "outputId": "18671037-1606-40c8-9ec5-7f3cca7da526",
        "colab": {
          "base_uri": "https://localhost:8080/",
          "height": 34
        }
      },
      "source": [
        "import tester\n",
        "tester.func()"
      ],
      "execution_count": 0,
      "outputs": [
        {
          "output_type": "stream",
          "text": [
            "UNEDITED\n"
          ],
          "name": "stdout"
        }
      ]
    },
    {
      "cell_type": "code",
      "metadata": {
        "id": "68OyGCpuGNxu",
        "colab_type": "code",
        "outputId": "633c6e09-680a-4ff7-87a8-01a77ce7b4c9",
        "colab": {
          "base_uri": "https://localhost:8080/",
          "height": 34
        }
      },
      "source": [
        "fix(\"tester\")\n",
        "tester.func()"
      ],
      "execution_count": 0,
      "outputs": [
        {
          "output_type": "stream",
          "text": [
            "hello world\n"
          ],
          "name": "stdout"
        }
      ]
    },
    {
      "cell_type": "markdown",
      "metadata": {
        "id": "W-QVkfjOjGHL",
        "colab_type": "text"
      },
      "source": [
        "###Module gotchas"
      ]
    },
    {
      "cell_type": "code",
      "metadata": {
        "id": "v-TjE3SfjGHM",
        "colab_type": "code",
        "colab": {}
      },
      "source": [
        "# nested1.py\n",
        "\n",
        "! echo \"X = 99\" > nested1.py &&\\\n",
        "  echo \"def printer(): print(X)\" >> nested1.py\n",
        " \n",
        "# nested2.py\n",
        "\n",
        "! echo \"from nested1 import X, printer\" > nested2.py &&\\\n",
        "  echo \"X = 88\" >> nested2.py &&\\\n",
        "  echo \"printer()\" >> nested2.py\n",
        "\n",
        "# nested3.py\n",
        "! echo \"import nested1\" > nested3.py &&\\\n",
        "  echo \"nested1.X = 88\" >> nested3.py &&\\\n",
        "  echo \"nested1.printer()\" >> nested3.py\n"
      ],
      "execution_count": 0,
      "outputs": []
    },
    {
      "cell_type": "code",
      "metadata": {
        "id": "VksnM78xjGHT",
        "colab_type": "code",
        "outputId": "f8894a2b-1794-4172-ea82-3d0c5d60da6f",
        "colab": {
          "base_uri": "https://localhost:8080/",
          "height": 51
        }
      },
      "source": [
        "! python -u nested2.py\n",
        "! python -u nested3.py"
      ],
      "execution_count": 0,
      "outputs": [
        {
          "output_type": "stream",
          "text": [
            "99\n",
            "88\n"
          ],
          "name": "stdout"
        }
      ]
    },
    {
      "cell_type": "markdown",
      "metadata": {
        "id": "E0UYbaUajGHj",
        "colab_type": "text"
      },
      "source": [
        "Statement order matters at top-level\n",
        " \n",
        "*     Solution: put most immediate code at bottom of file"
      ]
    },
    {
      "cell_type": "code",
      "metadata": {
        "id": "cnYqQECojGHj",
        "colab_type": "code",
        "outputId": "e59642f9-d3ac-4b71-dca0-dc6ea3a44015",
        "colab": {
          "base_uri": "https://localhost:8080/",
          "height": 34
        }
      },
      "source": [
        "#func1() # error: \"func1\" not yet assigned\n",
        "\n",
        "def func1():\n",
        "  print(func2()) # okay: \"func2\" looked up later\n",
        "\n",
        "#func1() # error: \"func2\" not yet assihned\n",
        "\n",
        "def func2():\n",
        "  return \"Hello\"\n",
        "\n",
        "func1() # okay: \"func1\" and \"func2\" assigned"
      ],
      "execution_count": 0,
      "outputs": [
        {
          "output_type": "stream",
          "text": [
            "Hello\n"
          ],
          "name": "stdout"
        }
      ]
    },
    {
      "cell_type": "markdown",
      "metadata": {
        "id": "zXCCwgBKjGHl",
        "colab_type": "text"
      },
      "source": [
        "Recursive from import gotchas\n",
        "\n",
        "*     Solution: use import, or from inside functions"
      ]
    },
    {
      "cell_type": "code",
      "metadata": {
        "id": "TXSefycEjGHl",
        "colab_type": "code",
        "colab": {}
      },
      "source": [
        "#file: recur1.py\n",
        "! echo \"X = 1\" > recur1.py &&\\\n",
        "  echo \"import recur2\" >> recur1.py &&\\\n",
        "  echo \"Y = 2\" >> recur1.py\n",
        "\n",
        "#file recur2.py\n",
        "! echo \"from recur1 import X\" > recur2.py &&\\\n",
        "  echo \"from recur1 import Y\" >> recur2.py"
      ],
      "execution_count": 0,
      "outputs": []
    },
    {
      "cell_type": "code",
      "metadata": {
        "id": "9SoZLOwKjGHo",
        "colab_type": "code",
        "outputId": "a1bf4752-7383-431d-f5fb-166a4ba7a8d6",
        "colab": {
          "base_uri": "https://localhost:8080/",
          "height": 391
        }
      },
      "source": [
        "import recur1"
      ],
      "execution_count": 0,
      "outputs": [
        {
          "output_type": "error",
          "ename": "ImportError",
          "evalue": "ignored",
          "traceback": [
            "\u001b[0;31m---------------------------------------------------------------------------\u001b[0m",
            "\u001b[0;31mImportError\u001b[0m                               Traceback (most recent call last)",
            "\u001b[0;32m<ipython-input-9-8167e3ff62ba>\u001b[0m in \u001b[0;36m<module>\u001b[0;34m()\u001b[0m\n\u001b[0;32m----> 1\u001b[0;31m \u001b[0;32mimport\u001b[0m \u001b[0mrecur1\u001b[0m\u001b[0;34m\u001b[0m\u001b[0;34m\u001b[0m\u001b[0m\n\u001b[0m",
            "\u001b[0;32m/content/recur1.py\u001b[0m in \u001b[0;36m<module>\u001b[0;34m()\u001b[0m\n\u001b[1;32m      1\u001b[0m \u001b[0mX\u001b[0m \u001b[0;34m=\u001b[0m \u001b[0;36m1\u001b[0m\u001b[0;34m\u001b[0m\u001b[0;34m\u001b[0m\u001b[0m\n\u001b[0;32m----> 2\u001b[0;31m \u001b[0;32mimport\u001b[0m \u001b[0mrecur2\u001b[0m\u001b[0;34m\u001b[0m\u001b[0;34m\u001b[0m\u001b[0m\n\u001b[0m\u001b[1;32m      3\u001b[0m \u001b[0mY\u001b[0m \u001b[0;34m=\u001b[0m \u001b[0;36m2\u001b[0m\u001b[0;34m\u001b[0m\u001b[0;34m\u001b[0m\u001b[0m\n",
            "\u001b[0;32m/content/recur2.py\u001b[0m in \u001b[0;36m<module>\u001b[0;34m()\u001b[0m\n\u001b[1;32m      1\u001b[0m \u001b[0;32mfrom\u001b[0m \u001b[0mrecur1\u001b[0m \u001b[0;32mimport\u001b[0m \u001b[0mX\u001b[0m\u001b[0;34m\u001b[0m\u001b[0;34m\u001b[0m\u001b[0m\n\u001b[0;32m----> 2\u001b[0;31m \u001b[0;32mfrom\u001b[0m \u001b[0mrecur1\u001b[0m \u001b[0;32mimport\u001b[0m \u001b[0mY\u001b[0m\u001b[0;34m\u001b[0m\u001b[0;34m\u001b[0m\u001b[0m\n\u001b[0m",
            "\u001b[0;31mImportError\u001b[0m: cannot import name 'Y'",
            "",
            "\u001b[0;31m---------------------------------------------------------------------------\u001b[0;32m\nNOTE: If your import is failing due to a missing package, you can\nmanually install dependencies using either !pip or !apt.\n\nTo view examples of installing some common dependencies, click the\n\"Open Examples\" button below.\n\u001b[0;31m---------------------------------------------------------------------------\u001b[0m\n"
          ]
        }
      ]
    },
    {
      "cell_type": "code",
      "metadata": {
        "id": "R9DExJTmTn4X",
        "colab_type": "code",
        "colab": {}
      },
      "source": [
        "import recur2"
      ],
      "execution_count": 0,
      "outputs": []
    },
    {
      "cell_type": "code",
      "metadata": {
        "id": "1IXtkNPYTpqW",
        "colab_type": "code",
        "colab": {}
      },
      "source": [
        "from recur1 import Y # error: \"Y\" not yet assigned"
      ],
      "execution_count": 0,
      "outputs": []
    },
    {
      "cell_type": "markdown",
      "metadata": {
        "id": "2OlyYhbKUIYt",
        "colab_type": "text"
      },
      "source": [
        "**reload may not impact from imports**\n",
        "\n",
        "*     reload overwrites existing module object\n",
        "*     But from names have no link back to module\n",
        "*     Use import to make reloads more effective\n",
        "\n",
        "-> import module module.X reflects module reloads\n",
        "\n",
        "\n",
        "-> from module import X X may not reflect module reloads!\n",
        "\n",
        "**reload isn't applied transitively**\n",
        "\n",
        "*     Use multiple reloads to update subcomponents\n",
        "*     Or use recursion to traverse import dependencies"
      ]
    },
    {
      "cell_type": "markdown",
      "metadata": {
        "id": "WI1fE6_MjGHq",
        "colab_type": "text"
      },
      "source": [
        "###Optional reading: a shared stack module"
      ]
    },
    {
      "cell_type": "markdown",
      "metadata": {
        "id": "N0zrb3sVUpvW",
        "colab_type": "text"
      },
      "source": [
        "*     Manages a local stack, initialized on first import\n",
        "*     All importers share the same stack: single instance\n",
        "*     Stack accessed through exported functions\n",
        "*     Stack can hold any kind of object (heterogeneous)"
      ]
    },
    {
      "cell_type": "code",
      "metadata": {
        "id": "f880A25-ynwY",
        "colab_type": "code",
        "outputId": "988ed7bd-4e12-402a-a263-50e4ef82ec1c",
        "colab": {
          "base_uri": "https://localhost:8080/",
          "height": 476
        }
      },
      "source": [
        "! curl -O https://raw.githubusercontent.com/fbeilstein/machine_learning/master/lecture_01_and_lecture_02_intro_and_python/mystack.py\n",
        "! cat mystack.py"
      ],
      "execution_count": 0,
      "outputs": [
        {
          "output_type": "stream",
          "text": [
            "  % Total    % Received % Xferd  Average Speed   Time    Time     Time  Current\n",
            "                                 Dload  Upload   Total   Spent    Left  Speed\n",
            "100   727  100   727    0     0   2506      0 --:--:-- --:--:-- --:--:--  2515\n",
            "stack = [] # on first import\n",
            "error = 'mystack.error' # local exceptions\n",
            "\n",
            "def push(obj):\n",
            "  global stack # 'global' to change\n",
            "  stack = [obj] + stack # add item to front\n",
            "\n",
            "def pop():\n",
            "  global stack\n",
            "  if not stack:\n",
            "    raise Exception(error, 'stack underflow') # raise local error\n",
            "  top, stack = stack[0], stack[1:] # remove front item\n",
            "  return top\n",
            "\n",
            "def top():\n",
            "  if not stack: # raise local error\n",
            "    raise Exception(error, 'stack underflow') # or let IndexError\n",
            "  return stack[0]\n",
            "\n",
            "def empty(): return not stack # is the stack []?\n",
            "def member(obj): return obj in stack # item in stack?\n",
            "def item(offset): return stack[offset] # index the stack\n",
            "def length(): return len(stack) # number entries\n",
            "def dump(): print('<Stack:%s>' % stack)\n"
          ],
          "name": "stdout"
        }
      ]
    },
    {
      "cell_type": "markdown",
      "metadata": {
        "id": "YJU-A36rjGHr",
        "colab_type": "text"
      },
      "source": [
        "**Using the stack module**"
      ]
    },
    {
      "cell_type": "code",
      "metadata": {
        "id": "g0sHLsEXjGHs",
        "colab_type": "code",
        "outputId": "2c9b0050-914d-45dc-e488-b35d3c07ba26",
        "colab": {
          "base_uri": "https://localhost:8080/",
          "height": 34
        }
      },
      "source": [
        "import mystack\n",
        "for i in range(5): mystack.push(i)\n",
        "\n",
        "mystack.dump()"
      ],
      "execution_count": 0,
      "outputs": [
        {
          "output_type": "stream",
          "text": [
            "<Stack:[4, 3, 2, 1, 0]>\n"
          ],
          "name": "stdout"
        }
      ]
    },
    {
      "cell_type": "markdown",
      "metadata": {
        "id": "xM8muVjOzuYn",
        "colab_type": "text"
      },
      "source": [
        "**Sequence-like tools**"
      ]
    },
    {
      "cell_type": "code",
      "metadata": {
        "id": "vBEpEJb_zpmO",
        "colab_type": "code",
        "outputId": "5c0e1a68-7356-4da8-a98b-045b6cc8363d",
        "colab": {
          "base_uri": "https://localhost:8080/",
          "height": 34
        }
      },
      "source": [
        "mystack.item(0), mystack.item(-1), mystack.length()"
      ],
      "execution_count": 0,
      "outputs": [
        {
          "output_type": "execute_result",
          "data": {
            "text/plain": [
              "(4, 0, 5)"
            ]
          },
          "metadata": {
            "tags": []
          },
          "execution_count": 8
        }
      ]
    },
    {
      "cell_type": "code",
      "metadata": {
        "id": "qmIjcpJZz1OY",
        "colab_type": "code",
        "outputId": "8abe45a3-4940-42c1-d0f1-a5892c7eb9fc",
        "colab": {
          "base_uri": "https://localhost:8080/",
          "height": 34
        }
      },
      "source": [
        "mystack.pop(), mystack.top()"
      ],
      "execution_count": 0,
      "outputs": [
        {
          "output_type": "execute_result",
          "data": {
            "text/plain": [
              "(4, 3)"
            ]
          },
          "metadata": {
            "tags": []
          },
          "execution_count": 9
        }
      ]
    },
    {
      "cell_type": "code",
      "metadata": {
        "id": "obLAyRtDz46m",
        "colab_type": "code",
        "outputId": "f8ea88b3-406e-44a2-fe88-c8072b25cdfa",
        "colab": {
          "base_uri": "https://localhost:8080/",
          "height": 34
        }
      },
      "source": [
        "mystack.member(4), mystack.member(3)"
      ],
      "execution_count": 0,
      "outputs": [
        {
          "output_type": "execute_result",
          "data": {
            "text/plain": [
              "(False, True)"
            ]
          },
          "metadata": {
            "tags": []
          },
          "execution_count": 11
        }
      ]
    },
    {
      "cell_type": "code",
      "metadata": {
        "id": "rvxB6ogjy3je",
        "colab_type": "code",
        "outputId": "019d8488-270a-43eb-b2d9-cf5ef8389fcf",
        "colab": {
          "base_uri": "https://localhost:8080/",
          "height": 34
        }
      },
      "source": [
        "for i in range(mystack.length()): print(mystack.item(i),end=\",\")"
      ],
      "execution_count": 0,
      "outputs": [
        {
          "output_type": "stream",
          "text": [
            "3,2,1,0,"
          ],
          "name": "stdout"
        }
      ]
    },
    {
      "cell_type": "markdown",
      "metadata": {
        "id": "Q8ogfYh_jGHt",
        "colab_type": "text"
      },
      "source": [
        "**Exceptions**"
      ]
    },
    {
      "cell_type": "code",
      "metadata": {
        "id": "LY2Gb863jGHt",
        "colab_type": "code",
        "outputId": "26b04391-f03d-487e-b1ca-13cea8110b83",
        "colab": {
          "base_uri": "https://localhost:8080/",
          "height": 34
        }
      },
      "source": [
        "while not mystack.empty(): x = mystack.pop(),\n",
        "try:\n",
        "  mystack.pop()\n",
        "except Exception as e:\n",
        "  print(e.args)"
      ],
      "execution_count": 0,
      "outputs": [
        {
          "output_type": "stream",
          "text": [
            "('stack1.error', 'stack underflow')\n"
          ],
          "name": "stdout"
        }
      ]
    },
    {
      "cell_type": "markdown",
      "metadata": {
        "id": "uXuqSRiKjGHv",
        "colab_type": "text"
      },
      "source": [
        "**Module clients**"
      ]
    },
    {
      "cell_type": "code",
      "metadata": {
        "id": "PFpLamgyjGHv",
        "colab_type": "code",
        "outputId": "b2bf9c92-fe9c-437b-eb71-ecb7ca026126",
        "colab": {
          "base_uri": "https://localhost:8080/",
          "height": 34
        }
      },
      "source": [
        "from mystack import *\n",
        "push(123) # module-name not needed\n",
        "dump()"
      ],
      "execution_count": 0,
      "outputs": [
        {
          "output_type": "stream",
          "text": [
            "<Stack:[123]>\n"
          ],
          "name": "stdout"
        }
      ]
    },
    {
      "cell_type": "code",
      "metadata": {
        "id": "8XwfhEz2jGHy",
        "colab_type": "code",
        "outputId": "0bc51d6d-910a-4ca7-9c05-b9ea4d1e9473",
        "colab": {
          "base_uri": "https://localhost:8080/",
          "height": 51
        }
      },
      "source": [
        "import mystack\n",
        "mystack.dump()\n",
        "if not mystack.empty(): # qualify by module name\n",
        "  x = mystack.pop()\n",
        "mystack.push(1.23)\n",
        "mystack.dump()"
      ],
      "execution_count": 0,
      "outputs": [
        {
          "output_type": "stream",
          "text": [
            "<Stack:[123]>\n",
            "<Stack:[1.23]>\n"
          ],
          "name": "stdout"
        }
      ]
    }
  ]
}