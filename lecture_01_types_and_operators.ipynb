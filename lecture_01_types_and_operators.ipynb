{
  "nbformat": 4,
  "nbformat_minor": 0,
  "metadata": {
    "colab": {
      "name": "lecture_01_types_and_operators.ipynb",
      "provenance": [],
      "authorship_tag": "ABX9TyMdokAYpBbqzJ/uiyEqCwrl",
      "include_colab_link": true
    },
    "kernelspec": {
      "name": "python3",
      "display_name": "Python 3"
    }
  },
  "cells": [
    {
      "cell_type": "markdown",
      "metadata": {
        "id": "view-in-github",
        "colab_type": "text"
      },
      "source": [
        "<a href=\"https://colab.research.google.com/github/fbeilstein/python/blob/master/lecture_01_types_and_operators.ipynb\" target=\"_parent\"><img src=\"https://colab.research.google.com/assets/colab-badge.svg\" alt=\"Open In Colab\"/></a>"
      ]
    },
    {
      "cell_type": "markdown",
      "metadata": {
        "id": "MdKAo4EGOudR"
      },
      "source": [
        "## Why Python?"
      ]
    },
    {
      "cell_type": "markdown",
      "metadata": {
        "id": "vlB99idfOudR"
      },
      "source": [
        "* Program portability (e.g. Linux-Windows)\n",
        "* Support libraries (e.g. NumPy)\n",
        "* Component integration (e.g. C++, CORBA, SOAP)\n",
        "* Easy to learn\n",
        "\n",
        "**downsides:** speed"
      ]
    },
    {
      "cell_type": "code",
      "metadata": {
        "id": "jLEEdeuzMwUP",
        "cellView": "form",
        "colab": {
          "base_uri": "https://localhost:8080/",
          "height": 609
        },
        "outputId": "edbc64a7-e5d2-4254-ac6f-00dc9f87acee"
      },
      "source": [
        "#@title ##Python\n",
        "%%html\n",
        "\n",
        "<img src=\"https://imgs.xkcd.com/comics/python.png\" width:750px\">"
      ],
      "execution_count": null,
      "outputs": [
        {
          "output_type": "display_data",
          "data": {
            "text/html": [
              "\n",
              "<img src=\"https://imgs.xkcd.com/comics/python.png\" width:750px\">"
            ],
            "text/plain": [
              "<IPython.core.display.HTML object>"
            ]
          },
          "metadata": {
            "tags": []
          }
        }
      ]
    },
    {
      "cell_type": "markdown",
      "metadata": {
        "id": "tQ_neCggOudS"
      },
      "source": [
        "**Usages:**\n",
        "\n",
        "* System-administration tools and utilities (sometimes called shell tools)\n",
        "* GUIs (tkinter, QT, etc.)\n",
        "* Internet Scripting (e.g. Django)\n",
        "* Database Programming (e.g. MySQL), map relational tables onto Python’s class model (e.g. SQLAlchemy)\n",
        "* Rapid Prototyping\n",
        "* Numeric and Scientific Programming (NumPy, SciPy, etc.)\n",
        "* **MACHINE LEARNING**"
      ]
    },
    {
      "cell_type": "markdown",
      "metadata": {
        "id": "mLX9TABkOudT"
      },
      "source": [
        "**Under the hood**\n",
        "\n",
        "$$\n",
        "\\boxed{\\text{Code, .py}}\n",
        "\\rightarrow\n",
        "\\boxed{\\text{Bytecode, .pyc}}\n",
        "\\rightarrow\n",
        "\\boxed{\\text{PVM (virtual machine)}}\n",
        "$$"
      ]
    },
    {
      "cell_type": "markdown",
      "metadata": {
        "id": "IeFItkaYOudT"
      },
      "source": [
        "* frozen binaries: py2exe (for Windows), PyInstaller (which is similar to py2exe but also works on Linux and Unix and is capable of generating self-installing binaries), and freeze (the original)."
      ]
    },
    {
      "cell_type": "code",
      "metadata": {
        "id": "zSwiNNhIpnB9",
        "cellView": "form"
      },
      "source": [
        "#@title #Helper functions (debugger)\n",
        "#@markdown use `%%debug_cell` and parameter `primitives`\n",
        "\n",
        "!curl -O https://raw.githubusercontent.com/fbeilstein/machine_learning/master/pytutor/data_begin.html\n",
        "!curl -O https://raw.githubusercontent.com/fbeilstein/machine_learning/master/pytutor/data_end.html\n",
        "!curl -O https://raw.githubusercontent.com/fbeilstein/machine_learning/master/pytutor/pg_encoder.py\n",
        "!curl -O https://raw.githubusercontent.com/fbeilstein/machine_learning/master/pytutor/pg_logger.py\n",
        "\n",
        "from IPython.core.magic import  Magics, magics_class, cell_magic, line_magic\n",
        "\n",
        "@magics_class\n",
        "class Helper(Magics):\n",
        "\n",
        "  def __init__(self, shell=None,  **kwargs):\n",
        "    super().__init__(shell=shell, **kwargs)\n",
        "    with open('data_begin.html', 'r') as f_in:\n",
        "      lines = f_in.readlines()\n",
        "      self.begin_debug = \"\".join(lines)\n",
        "    with open('data_end.html', 'r') as f_in:\n",
        "      lines = f_in.readlines()\n",
        "      self.end_debug = \"\".join(lines)\n",
        "\n",
        "  @cell_magic\n",
        "  def debug_cell(self, line, cell):\n",
        "    import json\n",
        "    import bdb\n",
        "    from pg_logger import PGLogger\n",
        "    import IPython\n",
        "    from google.colab import output\n",
        "\n",
        "    def cgi_finalizer(input_code, output_trace):\n",
        "      ret = dict(code=input_code, trace=output_trace)\n",
        "      json_output = json.dumps(ret, indent=None) # use indent=None for most compact repr\n",
        "      display(IPython.display.HTML(\"<html>\" + self.begin_debug + json_output + self.end_debug + \"</html>\"))\n",
        "\n",
        "    primitives = line == 'primitives'\n",
        "    logger = PGLogger(cumulative_mode=False,\n",
        "                  heap_primitives=primitives,\n",
        "                  show_only_outputs=False,\n",
        "                  finalizer_func=cgi_finalizer,\n",
        "                  disable_security_checks=True,\n",
        "                  allow_all_modules=True,\n",
        "                  probe_exprs=False)\n",
        "\n",
        "    try:\n",
        "      logger._runscript(cell)\n",
        "    except bdb.BdbQuit:\n",
        "      print(\"INTERNAL ERROR OCCURED\")\n",
        "    finally:\n",
        "      logger.finalize()\n",
        "\n",
        "## use ipython load_ext mechanism here if distributed\n",
        "get_ipython().register_magics(Helper)\n",
        "\n",
        "import bdb\n",
        "bdb.set_trace()\n",
        "from google.colab import output\n",
        "output.clear()"
      ],
      "execution_count": 1,
      "outputs": []
    },
    {
      "cell_type": "markdown",
      "metadata": {
        "id": "GtUXjg-K6Isv"
      },
      "source": [
        "##Types and Operators"
      ]
    },
    {
      "cell_type": "markdown",
      "metadata": {
        "id": "LEz6OAsA9xeg"
      },
      "source": [
        "###Big picture"
      ]
    },
    {
      "cell_type": "markdown",
      "metadata": {
        "id": "rQb-oYda6-Oo"
      },
      "source": [
        "**Preview: built-in objects**\n",
        "\n",
        "Object type | Example constants/usage\n",
        "---|---\n",
        "Numbers | 3.14, 1234, 999L, 3+4j, decimal\n",
        "Strings | 'spam', \"spam's\"\n",
        "Lists | [1, [2, 'three'], 4]\n",
        "Dictionaries | {'food':'spam', 'taste':'yum'}\n",
        "Tuples | (1,'spam', 4, 'U')\n",
        "Files | text = open('eggs', 'r').read()\n",
        "Others | sets, types, None, bool\n",
        "\n"
      ]
    },
    {
      "cell_type": "markdown",
      "metadata": {
        "id": "KOo9o26y86UG"
      },
      "source": [
        "**Built-in Types**\n",
        "\n",
        "   * Key terms: “sequence”, “immutable”, “mapping”\n",
        "   * Key ideas: no fixed types, no fixed sizes, arbitrary nesting\n",
        "   * Full story: dir(object), help(object.method), manuals"
      ]
    },
    {
      "cell_type": "markdown",
      "metadata": {
        "id": "9jAeqlC09ZbA"
      },
      "source": [
        "**Python program structure**\n",
        "\n",
        "   * Programs are composed of modules\n",
        "   * Modules contain statements\n",
        "   * Statements contain expressions\n",
        "   * Expressions create and process objects"
      ]
    },
    {
      "cell_type": "markdown",
      "metadata": {
        "id": "YXCVf2R-9gNc"
      },
      "source": [
        "**Why use built-in types?**\n",
        "\n",
        "   * Python provides objects and supports extensions\n",
        "   * Built-in objects make simple programs easy to write\n",
        "   * Built-in objects are components of extensions\n",
        "   * Often more efficient than custom data structures"
      ]
    },
    {
      "cell_type": "markdown",
      "metadata": {
        "id": "VAGK4PhS9vPg"
      },
      "source": [
        "###Numbers"
      ]
    },
    {
      "cell_type": "markdown",
      "metadata": {
        "id": "CMXHOEiZ90xQ"
      },
      "source": [
        "**Standard types and operators**\n",
        "\n",
        "   * Integer, floating-point, hex/octal constants\n",
        "   * ‘long’ integer type with unlimited precision\n",
        "   * Built-in mathematical functions: ‘pow’, ‘abs’\n",
        "   * Utility modules: ‘random’, ‘math’\n",
        "   * Complex numbers, ‘**’ power operator"
      ]
    },
    {
      "cell_type": "markdown",
      "metadata": {
        "id": "EllIsjiW_ivP"
      },
      "source": [
        "**Numeric Python (NumPy)**\n",
        "\n",
        "   * An optional extension, beyond core language\n",
        "   * For advanced numeric programming in Python\n",
        "   * Matrix object, interfaces to numeric libraries, etc.\n",
        "   * Plus SciPy, matplotlib, pypar, IPython shell, others\n",
        "   * Python + NumPy = open source MATLAB alternative"
      ]
    },
    {
      "cell_type": "markdown",
      "metadata": {
        "id": "XOCDrtwa_fg0"
      },
      "source": [
        "**Numeric literals**\n",
        "\n",
        "Constant | Interpretation\n",
        "---|---\n",
        "1234, -24 | integers (unlimited size)\n",
        "1.23, 3.14e-10 | floating-point (C doubles)\n",
        "0o177,0x9f,0b101 | octal, hex, binary integer literals\n",
        "3+4j, 3.0+4.0j | complex number literals\n",
        "Decimal('0.11') | fixed-precision decimal (2.4+)\n",
        "Fraction(2, 3) | rational type (2.6+, 3.0+)"
      ]
    },
    {
      "cell_type": "markdown",
      "metadata": {
        "id": "oSPo6zHi_dCl"
      },
      "source": [
        " **Python expressions**\n",
        "\n",
        "   * Usual algebraic operators: ‘+’ , ‘-’, ‘*’, ‘/’, . . .\n",
        "   * C’s bitwise operators: “<<”,  “&”, . . .\n",
        "   * Mixed types: converted up just as in C\n",
        "   * Parenthesis group sub-expressions"
      ]
    },
    {
      "cell_type": "markdown",
      "metadata": {
        "id": "9D8zXWeD_aFw"
      },
      "source": [
        "**Numbers in action**\n",
        "\n",
        "   * Variables created when assigned\n",
        "   * Variables replaced with their value when used\n",
        "   * Variables must be assigned before used\n",
        "   * Expression results echoed back\n",
        "   * Mixed integer/float: casts up to float\n",
        "   * Integer division truncates (until 3.X: use // to force)"
      ]
    },
    {
      "cell_type": "code",
      "metadata": {
        "id": "wy7prWoa-3xM",
        "outputId": "3a9159ec-5704-4a09-bd2e-b8534b000b4a",
        "colab": {
          "base_uri": "https://localhost:8080/"
        }
      },
      "source": [
        "a = 3 # name created\n",
        "b = 4\n",
        "b / 2 + a # same as ((4 / 2) + 3)"
      ],
      "execution_count": 6,
      "outputs": [
        {
          "output_type": "execute_result",
          "data": {
            "text/plain": [
              "5.0"
            ]
          },
          "metadata": {},
          "execution_count": 6
        }
      ]
    },
    {
      "cell_type": "code",
      "metadata": {
        "id": "sPupbNT-_CaM",
        "outputId": "0c86a91a-4de2-4697-b1ce-6dd60f3b3930",
        "colab": {
          "base_uri": "https://localhost:8080/",
          "height": 34
        }
      },
      "source": [
        "b / (2.0 + a) # same as (4 / (2.0 + 3))"
      ],
      "execution_count": null,
      "outputs": [
        {
          "output_type": "execute_result",
          "data": {
            "text/plain": [
              "0.8"
            ]
          },
          "metadata": {
            "tags": []
          },
          "execution_count": 2
        }
      ]
    },
    {
      "cell_type": "code",
      "metadata": {
        "id": "QNiEu1zT_Gqm",
        "outputId": "9fef19aa-8931-4e4a-a343-4d09b109fdcd",
        "colab": {
          "base_uri": "https://localhost:8080/",
          "height": 34
        }
      },
      "source": [
        "1 / 2, 1 // 2 # / keeps remainder, // does not"
      ],
      "execution_count": null,
      "outputs": [
        {
          "output_type": "execute_result",
          "data": {
            "text/plain": [
              "(0.5, 0)"
            ]
          },
          "metadata": {
            "tags": []
          },
          "execution_count": 3
        }
      ]
    },
    {
      "cell_type": "code",
      "metadata": {
        "id": "dsI9Tqj0_RdE",
        "outputId": "9706f041-e8e1-4aa3-f576-927b4c930013",
        "colab": {
          "base_uri": "https://localhost:8080/",
          "height": 34
        }
      },
      "source": [
        "4 / 5.0"
      ],
      "execution_count": null,
      "outputs": [
        {
          "output_type": "execute_result",
          "data": {
            "text/plain": [
              "0.8"
            ]
          },
          "metadata": {
            "tags": []
          },
          "execution_count": 4
        }
      ]
    },
    {
      "cell_type": "code",
      "metadata": {
        "id": "d8iAP3FVdMws",
        "outputId": "edc6c330-0f1f-40ae-e257-88af723ba64c",
        "colab": {
          "base_uri": "https://localhost:8080/",
          "height": 35
        }
      },
      "source": [
        "9999999999999999999999999999 + 1"
      ],
      "execution_count": null,
      "outputs": [
        {
          "output_type": "execute_result",
          "data": {
            "text/plain": [
              "10000000000000000000000000000"
            ]
          },
          "metadata": {
            "tags": []
          },
          "execution_count": 3
        }
      ]
    },
    {
      "cell_type": "markdown",
      "metadata": {
        "id": "Cx3CuGQxAHcI"
      },
      "source": [
        "###The dynamic typing"
      ]
    },
    {
      "cell_type": "code",
      "metadata": {
        "id": "XQm1uUPWPHM5"
      },
      "source": [
        "a = 3 # Where are the missing declarations?"
      ],
      "execution_count": null,
      "outputs": []
    },
    {
      "cell_type": "markdown",
      "metadata": {
        "id": "OHp22-DWAJkE"
      },
      "source": [
        "   * Names versus objects\n",
        "\n",
        "   * Names are always “references” (pointers) to objects\n",
        "\n",
        "   * Names are created when first assigned (or so)\n",
        "\n",
        "   * Objects have types, names do not\n",
        "\n",
        "   * Each value is a distinct object (normally)\n",
        "\n",
        "   * Objects are pieces of memory with value + operations\n",
        "\n",
        "   * Shared references to mutables are open to side effects (on purpose)"
      ]
    },
    {
      "cell_type": "code",
      "metadata": {
        "id": "oICSlNgvdmxh",
        "outputId": "01e3eb84-32c7-4f27-a2bf-b59d9d8ce995",
        "colab": {
          "base_uri": "https://localhost:8080/",
          "height": 34
        }
      },
      "source": [
        "x = 1\n",
        "x << 2 # shift left 2 bits"
      ],
      "execution_count": null,
      "outputs": [
        {
          "output_type": "execute_result",
          "data": {
            "text/plain": [
              "4"
            ]
          },
          "metadata": {
            "tags": []
          },
          "execution_count": 13
        }
      ]
    },
    {
      "cell_type": "code",
      "metadata": {
        "id": "wEPqhV3EdqV5",
        "outputId": "3109e1b2-0913-4724-d55c-0cd253c1e5d4",
        "colab": {
          "base_uri": "https://localhost:8080/",
          "height": 34
        }
      },
      "source": [
        "x | 2 # bitwise OR"
      ],
      "execution_count": null,
      "outputs": [
        {
          "output_type": "execute_result",
          "data": {
            "text/plain": [
              "3"
            ]
          },
          "metadata": {
            "tags": []
          },
          "execution_count": 14
        }
      ]
    },
    {
      "cell_type": "code",
      "metadata": {
        "id": "CZ0NnhE4dtwh",
        "outputId": "728179eb-bb0d-4cfc-8166-b5d54e9d4791",
        "colab": {
          "base_uri": "https://localhost:8080/",
          "height": 34
        }
      },
      "source": [
        "x & 1 # bitwise AND"
      ],
      "execution_count": null,
      "outputs": [
        {
          "output_type": "execute_result",
          "data": {
            "text/plain": [
              "1"
            ]
          },
          "metadata": {
            "tags": []
          },
          "execution_count": 15
        }
      ]
    },
    {
      "cell_type": "markdown",
      "metadata": {
        "id": "ci6BCWAZS22T"
      },
      "source": [
        "**Decimal and Fraction extension types**"
      ]
    },
    {
      "cell_type": "code",
      "metadata": {
        "id": "ZKbKuc1USutm",
        "outputId": "e32a67a9-9a5c-48e5-fc46-18def3cc0e71",
        "colab": {
          "base_uri": "https://localhost:8080/"
        }
      },
      "source": [
        "0.1 + 0.1 + 0.1 - 0.3"
      ],
      "execution_count": 10,
      "outputs": [
        {
          "output_type": "execute_result",
          "data": {
            "text/plain": [
              "5.551115123125783e-17"
            ]
          },
          "metadata": {},
          "execution_count": 10
        }
      ]
    },
    {
      "cell_type": "code",
      "metadata": {
        "id": "gviLsQbXScPW",
        "outputId": "c88e3cb2-c3b5-474b-9137-604f2cbf192e",
        "colab": {
          "base_uri": "https://localhost:8080/"
        }
      },
      "source": [
        "from decimal import Decimal\n",
        "\n",
        "Decimal('0.1') + Decimal('0.1') + Decimal('0.1') - Decimal('0.3')"
      ],
      "execution_count": 21,
      "outputs": [
        {
          "output_type": "execute_result",
          "data": {
            "text/plain": [
              "Decimal('0.0')"
            ]
          },
          "metadata": {},
          "execution_count": 21
        }
      ]
    },
    {
      "cell_type": "code",
      "metadata": {
        "id": "bcHCspc9SfjT",
        "outputId": "84a80fa2-f42c-4dc9-c097-071dfe79a21e",
        "colab": {
          "base_uri": "https://localhost:8080/",
          "height": 34
        }
      },
      "source": [
        "Decimal('0.1') + Decimal('0.10') + Decimal('0.10') - Decimal('0.30')"
      ],
      "execution_count": null,
      "outputs": [
        {
          "output_type": "execute_result",
          "data": {
            "text/plain": [
              "Decimal('0.00')"
            ]
          },
          "metadata": {
            "tags": []
          },
          "execution_count": 10
        }
      ]
    },
    {
      "cell_type": "code",
      "metadata": {
        "id": "zXJidzvMRzSW",
        "outputId": "280d8857-1291-4261-c578-dd63a831a195",
        "colab": {
          "base_uri": "https://localhost:8080/"
        }
      },
      "source": [
        "from fractions import Fraction\n",
        "\n",
        "Fraction(1, 3) + Fraction(2, 8)"
      ],
      "execution_count": 12,
      "outputs": [
        {
          "output_type": "execute_result",
          "data": {
            "text/plain": [
              "Fraction(7, 12)"
            ]
          },
          "metadata": {},
          "execution_count": 12
        }
      ]
    },
    {
      "cell_type": "code",
      "metadata": {
        "id": "8FImnn0bRq6Y",
        "outputId": "082d885e-a14e-4645-ccd1-ca6699397644",
        "colab": {
          "base_uri": "https://localhost:8080/",
          "height": 34
        }
      },
      "source": [
        "Fraction(1, 10) + Fraction(1, 10) + Fraction(1, 10) - Fraction(3, 10)"
      ],
      "execution_count": null,
      "outputs": [
        {
          "output_type": "execute_result",
          "data": {
            "text/plain": [
              "Fraction(0, 1)"
            ]
          },
          "metadata": {
            "tags": []
          },
          "execution_count": 8
        }
      ]
    },
    {
      "cell_type": "markdown",
      "metadata": {
        "id": "rcRZF0wnRAms"
      },
      "source": [
        "**Python operators and precedence**\n",
        "\n",
        "   * Operators lower in table bind tighter (parenthesis force order)\n",
        "   * Preview: all Python operators may be overloaded by Python classes and C extension types\n",
        "   * Added in Python 2.0: +=. *=, &=, …  augmented assignment statements, not operators\n",
        "   * Python 3.X: `X` → repr(X), X / Y → true div, X <> Y → X != Y\n",
        "   * Recent operator/expression additions:"
      ]
    },
    {
      "cell_type": "markdown",
      "metadata": {
        "id": "-XHjIEb4gO2b"
      },
      "source": [
        "Operators | Description\n",
        "---|---\n",
        "x if y else z | Ternary if, same as 4-line if/else statement\n",
        "yield [from] x | Generator function's iteration result (return can send one too)\n",
        "await x | For 3.5+ async def coroutines\n",
        "x @ y | Matrix multiply in 3.5+ (but not used by core Python itself!)\n",
        "[x, *iter] | Unpacks (flattens) objects in literals in 3.5+"
      ]
    },
    {
      "cell_type": "markdown",
      "metadata": {
        "id": "ljqX1MGTgMYU"
      },
      "source": [
        "Operators | Description\n",
        "---|---\n",
        "x or y, lambda args: expr | Logical ‘or’ (y is only evaluated if x is false), anonymous function\n",
        "x and y | Logical ‘and’ (y is only evaluated if x is true)\n",
        "not x | Logical negation\n",
        "<, <=, >, >=, ==, <>, !=, is, is not, in, not in | Comparison operators, sequence membership\n",
        "x \\| y | Bitwise ‘or’\n",
        "x ^ y | Bitwise ‘exclusive or’\n",
        "x & y | Bitwise ‘and’\n",
        "x << y, x >> y | Shift x left or right by y bits\n",
        "x + y, x – y | Addition/concatenation, subtraction\n",
        "x * y, x / y, x % y, x // y | Multiply/repetition, divide, remainder/format, floor divide\n",
        "x ** y, -x, +x, ~x | Power, unary negation, identity, bitwise compliment\n",
        "x[i], x[i:j], x.y, x(...) | Indexing, slicing, qualification, function calls\n",
        "(...), [...], {...}, `...` | Tuple, list, dictionary, conversion to string"
      ]
    },
    {
      "cell_type": "markdown",
      "metadata": {
        "id": "OQSymqWXbzCF"
      },
      "source": [
        "###Strings"
      ]
    },
    {
      "cell_type": "markdown",
      "metadata": {
        "id": "HoCcrdImgnRX"
      },
      "source": [
        "* Ordered collections of characters\n",
        "* No char in Python, just 1-character strings\n",
        "* Constants, operators, utility modules (string, re)\n",
        "* Strings are immutable sequences\n",
        "* See re module for pattern-based text processing"
      ]
    },
    {
      "cell_type": "markdown",
      "metadata": {
        "id": "hiSocFMHgzxI"
      },
      "source": [
        "About Unicode support: in 3.X, strings are always Unicode and support encoding to bytes, and bytes strings represent truly binary 8-bit data and support decoding to strings."
      ]
    },
    {
      "cell_type": "markdown",
      "metadata": {
        "id": "EIJdYNXJbhDU"
      },
      "source": [
        "**Common string operations**\n",
        "\n",
        "Operation |\t Interpretation\n",
        "---|---\n",
        "s1 = '' |\tsingle quotes (empty)\n",
        "s2 = \"spam's\" |\tdouble quotes (same)\n",
        "block = \"\"\"...\"\"\" |\ttriple-quoted blocks, can span multiple lines\n",
        "r'C:\\new\\text\\file.txt' |\traw strings (\\ kept)\n",
        "s1 + s2, s2 * 3 |\tconcatenate, repeat\n",
        "s2[i], s2[i:j], s[i:j:k], len(s2) |\tindex, slice, length\n",
        "'a %s parrot' % 'dead' 'a {} parrot'.format('dead') |\tstring formatting: original, 2.6+ option\n",
        "u'A\\xC4B', 'A\\xC4B' |\tUnicode: 2.X, 3.X\n",
        "b'\\x00spam\\x01' |\tbytes: 3.X (and 2.X)\n",
        "f'we get {spam} a lot' |\tformats: 3.6?\n",
        "for x in s2, 'm' in s2 |\titeration/membership"
      ]
    },
    {
      "cell_type": "markdown",
      "metadata": {
        "id": "RfHGLuUA4U2p"
      },
      "source": [
        "**Newer extensions**\n",
        "\n",
        "*    String methods:\n",
        "X.split('+') same as older string.split(X, '+')\n",
        "string module requires import, methods do not\n",
        "methods now faster, preferred to string module\n",
        "*    Template formatting: string module, see ahead\n",
        "*    String .format() method: largely redundant with %"
      ]
    },
    {
      "cell_type": "markdown",
      "metadata": {
        "id": "VhoeOtWL4YnY"
      },
      "source": [
        "**Strings in action**"
      ]
    },
    {
      "cell_type": "code",
      "metadata": {
        "id": "NEUACvc0bhDV",
        "outputId": "f06d1709-38ee-4640-cb42-89143c999689",
        "colab": {
          "base_uri": "https://localhost:8080/",
          "height": 34
        }
      },
      "source": [
        "'abc' + 'def' # concatenation: a new string"
      ],
      "execution_count": null,
      "outputs": [
        {
          "output_type": "execute_result",
          "data": {
            "text/plain": [
              "'abcdef'"
            ]
          },
          "metadata": {
            "tags": []
          },
          "execution_count": 1
        }
      ]
    },
    {
      "cell_type": "code",
      "metadata": {
        "id": "Siba8lTE4n5E",
        "outputId": "f0b52d43-e2f6-4081-ef7d-54a7fcd44495",
        "colab": {
          "base_uri": "https://localhost:8080/",
          "height": 35
        }
      },
      "source": [
        "'Hi!' * 4 # like \"Ni!\" + \"Ni!\" + ..."
      ],
      "execution_count": null,
      "outputs": [
        {
          "output_type": "execute_result",
          "data": {
            "text/plain": [
              "'Hi!Hi!Hi!Hi!'"
            ]
          },
          "metadata": {
            "tags": []
          },
          "execution_count": 4
        }
      ]
    },
    {
      "cell_type": "markdown",
      "metadata": {
        "id": "iAtp7Ck1bhDX"
      },
      "source": [
        "**Indexing and slicing**"
      ]
    },
    {
      "cell_type": "code",
      "metadata": {
        "id": "1XVztVCjbhDX",
        "outputId": "17c2dfb5-94fe-4151-885e-15b01f7a64a2",
        "colab": {
          "base_uri": "https://localhost:8080/",
          "height": 35
        }
      },
      "source": [
        "S = 'spam'\n",
        "S[0], S[-2] # indexing from from or end"
      ],
      "execution_count": null,
      "outputs": [
        {
          "output_type": "execute_result",
          "data": {
            "text/plain": [
              "('s', 'a')"
            ]
          },
          "metadata": {
            "tags": []
          },
          "execution_count": 5
        }
      ]
    },
    {
      "cell_type": "code",
      "metadata": {
        "id": "fTuOuryj4uN4",
        "outputId": "ec62c561-ba87-4bd0-eadb-0d9f2021f67e",
        "colab": {
          "base_uri": "https://localhost:8080/",
          "height": 34
        }
      },
      "source": [
        "S[1:3], S[1:], S[:-1] # slicing: extract section"
      ],
      "execution_count": null,
      "outputs": [
        {
          "output_type": "execute_result",
          "data": {
            "text/plain": [
              "('pa', 'pam', 'spa')"
            ]
          },
          "metadata": {
            "tags": []
          },
          "execution_count": 4
        }
      ]
    },
    {
      "cell_type": "code",
      "metadata": {
        "id": "5MlV5atZzZp5",
        "outputId": "58eaeb01-d314-4212-e53a-8984122a055f",
        "colab": {
          "base_uri": "https://localhost:8080/",
          "height": 208
        }
      },
      "source": [
        "print(\"ERROR EXPECTED\")\n",
        "S[1] = 'Y'"
      ],
      "execution_count": null,
      "outputs": [
        {
          "output_type": "stream",
          "text": [
            "ERROR EXPECTED\n"
          ],
          "name": "stdout"
        },
        {
          "output_type": "error",
          "ename": "TypeError",
          "evalue": "ignored",
          "traceback": [
            "\u001b[0;31m---------------------------------------------------------------------------\u001b[0m",
            "\u001b[0;31mTypeError\u001b[0m                                 Traceback (most recent call last)",
            "\u001b[0;32m<ipython-input-6-a5a649fac508>\u001b[0m in \u001b[0;36m<module>\u001b[0;34m()\u001b[0m\n\u001b[1;32m      1\u001b[0m \u001b[0mprint\u001b[0m\u001b[0;34m(\u001b[0m\u001b[0;34m\"ERROR EXPECTED\"\u001b[0m\u001b[0;34m)\u001b[0m\u001b[0;34m\u001b[0m\u001b[0;34m\u001b[0m\u001b[0m\n\u001b[0;32m----> 2\u001b[0;31m \u001b[0mS\u001b[0m\u001b[0;34m[\u001b[0m\u001b[0;36m1\u001b[0m\u001b[0;34m]\u001b[0m \u001b[0;34m=\u001b[0m \u001b[0;34m'Y'\u001b[0m\u001b[0;34m\u001b[0m\u001b[0;34m\u001b[0m\u001b[0m\n\u001b[0m",
            "\u001b[0;31mTypeError\u001b[0m: 'str' object does not support item assignment"
          ]
        }
      ]
    },
    {
      "cell_type": "markdown",
      "metadata": {
        "id": "4CzKrzUlbhDZ"
      },
      "source": [
        "**Changing and formatting**"
      ]
    },
    {
      "cell_type": "code",
      "metadata": {
        "id": "Fax2MYwmbhDa",
        "outputId": "aa2a136a-0f07-4107-e183-5c6e59620904",
        "colab": {
          "base_uri": "https://localhost:8080/",
          "height": 34
        }
      },
      "source": [
        "S = S + 'Spam!' # to change a string, make a new one\n",
        "S"
      ],
      "execution_count": null,
      "outputs": [
        {
          "output_type": "execute_result",
          "data": {
            "text/plain": [
              "'spamSpam!'"
            ]
          },
          "metadata": {
            "tags": []
          },
          "execution_count": 5
        }
      ]
    },
    {
      "cell_type": "code",
      "metadata": {
        "id": "VFiXe-IJ40zA",
        "outputId": "7f5667d8-2e0f-4bd9-cb6f-8845d7e7887d",
        "colab": {
          "base_uri": "https://localhost:8080/",
          "height": 34
        }
      },
      "source": [
        "'That is %d %s bird!' % (1, 'dead') # like C sprintf"
      ],
      "execution_count": null,
      "outputs": [
        {
          "output_type": "execute_result",
          "data": {
            "text/plain": [
              "'That is 1 dead bird!'"
            ]
          },
          "metadata": {
            "tags": []
          },
          "execution_count": 6
        }
      ]
    },
    {
      "cell_type": "markdown",
      "metadata": {
        "id": "aCH8bVn4bhDc"
      },
      "source": [
        "**Advanced formatting examples**"
      ]
    },
    {
      "cell_type": "code",
      "metadata": {
        "id": "qiTR4RND5EoX",
        "outputId": "4b64f61d-9c0c-4886-946f-b28375247b99",
        "colab": {
          "base_uri": "https://localhost:8080/",
          "height": 34
        }
      },
      "source": [
        "x = 1234\n",
        "res = \"integers: ...%d...%-6d...%06d\" % (x, x, x)\n",
        "res"
      ],
      "execution_count": null,
      "outputs": [
        {
          "output_type": "execute_result",
          "data": {
            "text/plain": [
              "'integers: ...1234...1234  ...001234'"
            ]
          },
          "metadata": {
            "tags": []
          },
          "execution_count": 7
        }
      ]
    },
    {
      "cell_type": "code",
      "metadata": {
        "id": "RTn61FJi5KHH",
        "outputId": "6005c506-94a6-48f6-ae92-485dd1461516",
        "colab": {
          "base_uri": "https://localhost:8080/",
          "height": 34
        }
      },
      "source": [
        "x = 1.23456789\n",
        "x"
      ],
      "execution_count": null,
      "outputs": [
        {
          "output_type": "execute_result",
          "data": {
            "text/plain": [
              "1.23456789"
            ]
          },
          "metadata": {
            "tags": []
          },
          "execution_count": 8
        }
      ]
    },
    {
      "cell_type": "code",
      "metadata": {
        "id": "c7JZ1_8r5MmP",
        "outputId": "828c655d-90ed-4360-8ff0-bbffb57224e2",
        "colab": {
          "base_uri": "https://localhost:8080/",
          "height": 34
        }
      },
      "source": [
        "'%e | %f | %g' % (x, x, x)"
      ],
      "execution_count": null,
      "outputs": [
        {
          "output_type": "execute_result",
          "data": {
            "text/plain": [
              "'1.234568e+00 | 1.234568 | 1.23457'"
            ]
          },
          "metadata": {
            "tags": []
          },
          "execution_count": 9
        }
      ]
    },
    {
      "cell_type": "code",
      "metadata": {
        "id": "T4ASMreW5QPn",
        "outputId": "598fe2dd-b238-4757-b3d7-d103086aa4c2",
        "colab": {
          "base_uri": "https://localhost:8080/",
          "height": 34
        }
      },
      "source": [
        "'%-6.2f | %05.2f | %+06.1f' % (x, x, x)"
      ],
      "execution_count": null,
      "outputs": [
        {
          "output_type": "execute_result",
          "data": {
            "text/plain": [
              "'1.23   | 01.23 | +001.2'"
            ]
          },
          "metadata": {
            "tags": []
          },
          "execution_count": 10
        }
      ]
    },
    {
      "cell_type": "code",
      "metadata": {
        "id": "pbChgyGN5rM_",
        "outputId": "ad1597cd-59dd-4e71-d495-9ba71f0c5133",
        "colab": {
          "base_uri": "https://localhost:8080/",
          "height": 34
        }
      },
      "source": [
        "int(x)"
      ],
      "execution_count": null,
      "outputs": [
        {
          "output_type": "execute_result",
          "data": {
            "text/plain": [
              "1"
            ]
          },
          "metadata": {
            "tags": []
          },
          "execution_count": 11
        }
      ]
    },
    {
      "cell_type": "code",
      "metadata": {
        "id": "Z5jUo1od5uFX",
        "outputId": "2f2267cb-e793-4ab0-b50d-e8a8abb91933",
        "colab": {
          "base_uri": "https://localhost:8080/",
          "height": 34
        }
      },
      "source": [
        "round(x, 2)"
      ],
      "execution_count": null,
      "outputs": [
        {
          "output_type": "execute_result",
          "data": {
            "text/plain": [
              "1.23"
            ]
          },
          "metadata": {
            "tags": []
          },
          "execution_count": 12
        }
      ]
    },
    {
      "cell_type": "code",
      "metadata": {
        "id": "-ujssWai50Yo",
        "outputId": "66007217-932c-43df-d505-527e82c83f7b",
        "colab": {
          "base_uri": "https://localhost:8080/",
          "height": 34
        }
      },
      "source": [
        "round(x, 4)"
      ],
      "execution_count": null,
      "outputs": [
        {
          "output_type": "execute_result",
          "data": {
            "text/plain": [
              "1.2346"
            ]
          },
          "metadata": {
            "tags": []
          },
          "execution_count": 13
        }
      ]
    },
    {
      "cell_type": "code",
      "metadata": {
        "id": "c4G4ThiW545n",
        "outputId": "7383d02b-c848-446a-c735-9f52fc362f6b",
        "colab": {
          "base_uri": "https://localhost:8080/",
          "height": 34
        }
      },
      "source": [
        "\"%o %x %X\" % (64, 64, 255)"
      ],
      "execution_count": null,
      "outputs": [
        {
          "output_type": "execute_result",
          "data": {
            "text/plain": [
              "'100 40 FF'"
            ]
          },
          "metadata": {
            "tags": []
          },
          "execution_count": 14
        }
      ]
    },
    {
      "cell_type": "code",
      "metadata": {
        "id": "XgXql9uc58fo",
        "outputId": "24072c59-f362-4a77-b09b-3eb0835cafe9",
        "colab": {
          "base_uri": "https://localhost:8080/",
          "height": 34
        }
      },
      "source": [
        "hex(255), int('0xff', 16), eval('0xFF')"
      ],
      "execution_count": null,
      "outputs": [
        {
          "output_type": "execute_result",
          "data": {
            "text/plain": [
              "('0xff', 255, 255)"
            ]
          },
          "metadata": {
            "tags": []
          },
          "execution_count": 15
        }
      ]
    },
    {
      "cell_type": "code",
      "metadata": {
        "id": "KlaxmhK45-MX",
        "outputId": "29ca3e21-f08c-4162-a897-a4af8a90ceee",
        "colab": {
          "base_uri": "https://localhost:8080/",
          "height": 34
        }
      },
      "source": [
        "ord('s'), chr(115)"
      ],
      "execution_count": null,
      "outputs": [
        {
          "output_type": "execute_result",
          "data": {
            "text/plain": [
              "(115, 's')"
            ]
          },
          "metadata": {
            "tags": []
          },
          "execution_count": 16
        }
      ]
    },
    {
      "cell_type": "markdown",
      "metadata": {
        "id": "G-6NkZdC6Acv"
      },
      "source": [
        "**Formatting with dictionaries**"
      ]
    },
    {
      "cell_type": "code",
      "metadata": {
        "id": "Ebdbfv5v6kZf",
        "outputId": "c4b636b1-393a-4a84-9b04-d886c6db0703",
        "colab": {
          "base_uri": "https://localhost:8080/",
          "height": 34
        }
      },
      "source": [
        "D = {'xx': 1, 'yy': 2}\n",
        "\"%(xx)d => %(yy)s\" % D"
      ],
      "execution_count": null,
      "outputs": [
        {
          "output_type": "execute_result",
          "data": {
            "text/plain": [
              "'1 => 2'"
            ]
          },
          "metadata": {
            "tags": []
          },
          "execution_count": 17
        }
      ]
    },
    {
      "cell_type": "code",
      "metadata": {
        "id": "Q1l76yjv6oqH",
        "outputId": "9102fcaa-3a79-4469-f5d6-4ffb098d3ad2",
        "colab": {
          "base_uri": "https://localhost:8080/",
          "height": 34
        }
      },
      "source": [
        "aa = 3\n",
        "bb = 4\n",
        "\"%(aa)d => %(bb)s\" % vars()"
      ],
      "execution_count": null,
      "outputs": [
        {
          "output_type": "execute_result",
          "data": {
            "text/plain": [
              "'3 => 4'"
            ]
          },
          "metadata": {
            "tags": []
          },
          "execution_count": 18
        }
      ]
    },
    {
      "cell_type": "code",
      "metadata": {
        "id": "zIvxDkm66vLX",
        "outputId": "65796192-0dd6-4c2c-d790-7fe9be7435e7",
        "colab": {
          "base_uri": "https://localhost:8080/",
          "height": 102
        }
      },
      "source": [
        "reply = \"\"\"\n",
        "Greetings...\n",
        "Hello %(name)s!\n",
        "Your age squared is %(age)s\n",
        "\"\"\"\n",
        "values = {'name': 'Bob', 'age': 40}\n",
        "print(reply % values)"
      ],
      "execution_count": null,
      "outputs": [
        {
          "output_type": "stream",
          "text": [
            "\n",
            "Greetings...\n",
            "Hello Bob!\n",
            "Your age squared is 40\n",
            "\n"
          ],
          "name": "stdout"
        }
      ]
    },
    {
      "cell_type": "markdown",
      "metadata": {
        "id": "lNqxk4Ar62CZ"
      },
      "source": [
        "**Formatting method**"
      ]
    },
    {
      "cell_type": "code",
      "metadata": {
        "id": "UVxJo5Ri9nbQ",
        "outputId": "1951afb5-6873-4c48-9ee5-029f2885b1c0",
        "colab": {
          "base_uri": "https://localhost:8080/",
          "height": 34
        }
      },
      "source": [
        "'{} {}'.format(42, 'spam')"
      ],
      "execution_count": null,
      "outputs": [
        {
          "output_type": "execute_result",
          "data": {
            "text/plain": [
              "'42 spam'"
            ]
          },
          "metadata": {
            "tags": []
          },
          "execution_count": 20
        }
      ]
    },
    {
      "cell_type": "code",
      "metadata": {
        "id": "7YRSKueD9pS5",
        "outputId": "263e0072-71b8-4b6f-efb4-62808330a044",
        "colab": {
          "base_uri": "https://localhost:8080/",
          "height": 34
        }
      },
      "source": [
        "'{0:.2f}'.format(1.234)"
      ],
      "execution_count": null,
      "outputs": [
        {
          "output_type": "execute_result",
          "data": {
            "text/plain": [
              "'1.23'"
            ]
          },
          "metadata": {
            "tags": []
          },
          "execution_count": 21
        }
      ]
    },
    {
      "cell_type": "code",
      "metadata": {
        "id": "EvdeQDi0bhDf",
        "outputId": "cfff68ab-fcb1-4ebc-d8ba-93d340edbd2b",
        "colab": {
          "base_uri": "https://localhost:8080/",
          "height": 34
        }
      },
      "source": [
        "'{0:,.2f}'.format(1234567.234)"
      ],
      "execution_count": null,
      "outputs": [
        {
          "output_type": "execute_result",
          "data": {
            "text/plain": [
              "'1,234,567.23'"
            ]
          },
          "metadata": {
            "tags": []
          },
          "execution_count": 22
        }
      ]
    },
    {
      "cell_type": "markdown",
      "metadata": {
        "id": "6ms9KiBR9t1O"
      },
      "source": [
        "**Template formatting**"
      ]
    },
    {
      "cell_type": "code",
      "metadata": {
        "id": "n8KyecDB9zhn",
        "outputId": "30f269c9-bee3-4111-b7a9-61e7a33c6dd6",
        "colab": {
          "base_uri": "https://localhost:8080/",
          "height": 34
        }
      },
      "source": [
        "('%(page)i: %(title)s' % {'page':2, 'title': 'The Best of Times'})"
      ],
      "execution_count": null,
      "outputs": [
        {
          "output_type": "execute_result",
          "data": {
            "text/plain": [
              "'2: The Best of Times'"
            ]
          },
          "metadata": {
            "tags": []
          },
          "execution_count": 23
        }
      ]
    },
    {
      "cell_type": "code",
      "metadata": {
        "id": "-DF3Udat94bw",
        "outputId": "4fc96975-186d-4c1c-cd74-72b0710e76b7",
        "colab": {
          "base_uri": "https://localhost:8080/",
          "height": 34
        }
      },
      "source": [
        "import string\n",
        "t = string.Template('$page: $title')\n",
        "t.substitute({'page':2, 'title': 'The Best of Times'})"
      ],
      "execution_count": null,
      "outputs": [
        {
          "output_type": "execute_result",
          "data": {
            "text/plain": [
              "'2: The Best of Times'"
            ]
          },
          "metadata": {
            "tags": []
          },
          "execution_count": 24
        }
      ]
    },
    {
      "cell_type": "code",
      "metadata": {
        "id": "hiAuDxoi97f_",
        "outputId": "297276a1-0420-4186-a1d7-23d894c9bc3c",
        "colab": {
          "base_uri": "https://localhost:8080/",
          "height": 34
        }
      },
      "source": [
        "s = string.Template('$who likes $what')\n",
        "s.substitute(who='bob', what=3.14)"
      ],
      "execution_count": null,
      "outputs": [
        {
          "output_type": "execute_result",
          "data": {
            "text/plain": [
              "'bob likes 3.14'"
            ]
          },
          "metadata": {
            "tags": []
          },
          "execution_count": 27
        }
      ]
    },
    {
      "cell_type": "code",
      "metadata": {
        "id": "ur2uYXULbhDh",
        "outputId": "5eb06ca9-ec42-4546-c86a-089a5689c26c",
        "colab": {
          "base_uri": "https://localhost:8080/",
          "height": 34
        }
      },
      "source": [
        "s.substitute(dict(who='bob', what=3.14))"
      ],
      "execution_count": null,
      "outputs": [
        {
          "output_type": "execute_result",
          "data": {
            "text/plain": [
              "'bob likes 3.14'"
            ]
          },
          "metadata": {
            "tags": []
          },
          "execution_count": 28
        }
      ]
    },
    {
      "cell_type": "markdown",
      "metadata": {
        "id": "Su4mM1KAbhDi"
      },
      "source": [
        "**Common string tools**"
      ]
    },
    {
      "cell_type": "code",
      "metadata": {
        "id": "eHVa9Gki-TKf",
        "outputId": "f0e2dc15-8fc7-40fd-a350-fb632e7d0ea3",
        "colab": {
          "base_uri": "https://localhost:8080/",
          "height": 34
        }
      },
      "source": [
        "S = \"spammify\"\n",
        "S.upper() # convert to uppercase"
      ],
      "execution_count": null,
      "outputs": [
        {
          "output_type": "execute_result",
          "data": {
            "text/plain": [
              "'SPAMMIFY'"
            ]
          },
          "metadata": {
            "tags": []
          },
          "execution_count": 29
        }
      ]
    },
    {
      "cell_type": "code",
      "metadata": {
        "id": "fySMhl9x-WTX",
        "outputId": "5786f989-c250-4f60-f20f-29991e7500a0",
        "colab": {
          "base_uri": "https://localhost:8080/",
          "height": 34
        }
      },
      "source": [
        "S.find(\"mm\") # return index of substring"
      ],
      "execution_count": null,
      "outputs": [
        {
          "output_type": "execute_result",
          "data": {
            "text/plain": [
              "3"
            ]
          },
          "metadata": {
            "tags": []
          },
          "execution_count": 30
        }
      ]
    },
    {
      "cell_type": "code",
      "metadata": {
        "id": "1U8Gu2-C-Y27",
        "outputId": "eb4e0df7-fe44-4680-c19f-9a387a7ef6b0",
        "colab": {
          "base_uri": "https://localhost:8080/",
          "height": 34
        }
      },
      "source": [
        "int(\"42\"), str(42) # convert from/to string"
      ],
      "execution_count": null,
      "outputs": [
        {
          "output_type": "execute_result",
          "data": {
            "text/plain": [
              "(42, '42')"
            ]
          },
          "metadata": {
            "tags": []
          },
          "execution_count": 31
        }
      ]
    },
    {
      "cell_type": "code",
      "metadata": {
        "id": "XU8jqrVv-cNG",
        "outputId": "a10dfe9f-be0c-4320-a94a-ce771e1b9c61",
        "colab": {
          "base_uri": "https://localhost:8080/",
          "height": 34
        }
      },
      "source": [
        "S.split('mm') # splitting and joining"
      ],
      "execution_count": null,
      "outputs": [
        {
          "output_type": "execute_result",
          "data": {
            "text/plain": [
              "['spa', 'ify']"
            ]
          },
          "metadata": {
            "tags": []
          },
          "execution_count": 32
        }
      ]
    },
    {
      "cell_type": "code",
      "metadata": {
        "id": "zDGkCjHPbhDj",
        "outputId": "8cab569f-922e-4454-ecb6-4e12160bf645",
        "colab": {
          "base_uri": "https://localhost:8080/",
          "height": 34
        }
      },
      "source": [
        "'XX'.join(S.split(\"mm\"))"
      ],
      "execution_count": null,
      "outputs": [
        {
          "output_type": "execute_result",
          "data": {
            "text/plain": [
              "'spaXXify'"
            ]
          },
          "metadata": {
            "tags": []
          },
          "execution_count": 34
        }
      ]
    },
    {
      "cell_type": "markdown",
      "metadata": {
        "id": "Y7HFAdz4-gEe"
      },
      "source": [
        "**Example: replacing text**"
      ]
    },
    {
      "cell_type": "code",
      "metadata": {
        "id": "UJQZIlZjGgy3",
        "outputId": "5b6f1102-6e73-4d3f-f17c-fad6fd95d366",
        "colab": {
          "base_uri": "https://localhost:8080/",
          "height": 34
        }
      },
      "source": [
        "# replace method\n",
        "S = 'spammy'\n",
        "S = S.replace('mm', 'xx')\n",
        "S"
      ],
      "execution_count": null,
      "outputs": [
        {
          "output_type": "execute_result",
          "data": {
            "text/plain": [
              "'spaxxy'"
            ]
          },
          "metadata": {
            "tags": []
          },
          "execution_count": 35
        }
      ]
    },
    {
      "cell_type": "code",
      "metadata": {
        "id": "47GVDOT2Gj7d",
        "outputId": "f1645819-dc66-4f3b-ddc6-fdeddc39788f",
        "colab": {
          "base_uri": "https://localhost:8080/",
          "height": 34
        }
      },
      "source": [
        "S = 'xxxxSPAMxxxxSPAMxxxx'\n",
        "S.replace('SPAM', 'EGG') # replace all"
      ],
      "execution_count": null,
      "outputs": [
        {
          "output_type": "execute_result",
          "data": {
            "text/plain": [
              "'xxxxEGGxxxxEGGxxxx'"
            ]
          },
          "metadata": {
            "tags": []
          },
          "execution_count": 36
        }
      ]
    },
    {
      "cell_type": "code",
      "metadata": {
        "id": "EUBs42qJGnYU",
        "outputId": "82270a4e-46f7-4f88-e785-65ec92e2e426",
        "colab": {
          "base_uri": "https://localhost:8080/",
          "height": 34
        }
      },
      "source": [
        "# finding and slicing\n",
        "S = 'xxxxSPAMxxxxSPAMxxxx'\n",
        "where = S.find('SPAM') # search for position\n",
        "where # occurs at offset 4"
      ],
      "execution_count": null,
      "outputs": [
        {
          "output_type": "execute_result",
          "data": {
            "text/plain": [
              "4"
            ]
          },
          "metadata": {
            "tags": []
          },
          "execution_count": 37
        }
      ]
    },
    {
      "cell_type": "code",
      "metadata": {
        "id": "UzgEzD7mGrJs",
        "outputId": "65d950c9-d8e1-462d-a0b0-1d125decd977",
        "colab": {
          "base_uri": "https://localhost:8080/",
          "height": 34
        }
      },
      "source": [
        "S = S[:where] + 'EGGS' + S[(where+4):]\n",
        "S"
      ],
      "execution_count": null,
      "outputs": [
        {
          "output_type": "execute_result",
          "data": {
            "text/plain": [
              "'xxxxEGGSxxxxSPAMxxxx'"
            ]
          },
          "metadata": {
            "tags": []
          },
          "execution_count": 38
        }
      ]
    },
    {
      "cell_type": "code",
      "metadata": {
        "id": "sFvQDpRvGvV4",
        "outputId": "c634e900-f0ee-4412-9326-4d825a700788",
        "colab": {
          "base_uri": "https://localhost:8080/",
          "height": 34
        }
      },
      "source": [
        "# exploding to/from list\n",
        "S = 'spammy'\n",
        "L = list(S) # explode to list\n",
        "L"
      ],
      "execution_count": null,
      "outputs": [
        {
          "output_type": "execute_result",
          "data": {
            "text/plain": [
              "['s', 'p', 'a', 'm', 'm', 'y']"
            ]
          },
          "metadata": {
            "tags": []
          },
          "execution_count": 39
        }
      ]
    },
    {
      "cell_type": "code",
      "metadata": {
        "id": "azg7XVV_GyVV",
        "outputId": "f9ed274a-1456-46dc-8198-80ae9ba85ea4",
        "colab": {
          "base_uri": "https://localhost:8080/",
          "height": 34
        }
      },
      "source": [
        "L[3] = 'x' # multiple in-place changes\n",
        "L[4] = 'x' # cant do this for strings\n",
        "L"
      ],
      "execution_count": null,
      "outputs": [
        {
          "output_type": "execute_result",
          "data": {
            "text/plain": [
              "['s', 'p', 'a', 'x', 'x', 'y']"
            ]
          },
          "metadata": {
            "tags": []
          },
          "execution_count": 40
        }
      ]
    },
    {
      "cell_type": "code",
      "metadata": {
        "id": "NRT0WCYzbhDk",
        "outputId": "d81adf1d-3d5b-4571-f340-ec23fecd34db",
        "colab": {
          "base_uri": "https://localhost:8080/",
          "height": 34
        }
      },
      "source": [
        "S = ''.join(L) # implode back to string\n",
        "S"
      ],
      "execution_count": null,
      "outputs": [
        {
          "output_type": "execute_result",
          "data": {
            "text/plain": [
              "'spaxxy'"
            ]
          },
          "metadata": {
            "tags": []
          },
          "execution_count": 41
        }
      ]
    },
    {
      "cell_type": "markdown",
      "metadata": {
        "id": "o6YOR0L8G3dF"
      },
      "source": [
        "**Example: parsing with slices**"
      ]
    },
    {
      "cell_type": "code",
      "metadata": {
        "id": "oscX9GZKG7tk",
        "outputId": "933c9485-83da-4c74-9450-b474f5c87a9a",
        "colab": {
          "base_uri": "https://localhost:8080/",
          "height": 34
        }
      },
      "source": [
        "line = 'aaa bbb ccc'\n",
        "col1 = line[0:3] # columns at fixed offsets\n",
        "col3 = line[8:]\n",
        "col1"
      ],
      "execution_count": null,
      "outputs": [
        {
          "output_type": "execute_result",
          "data": {
            "text/plain": [
              "'aaa'"
            ]
          },
          "metadata": {
            "tags": []
          },
          "execution_count": 42
        }
      ]
    },
    {
      "cell_type": "code",
      "metadata": {
        "id": "ZOGhj_H3bhDm",
        "outputId": "fdfc4b2e-f4ae-410e-ef3c-59e4e1d9e18a",
        "colab": {
          "base_uri": "https://localhost:8080/",
          "height": 34
        }
      },
      "source": [
        "col3"
      ],
      "execution_count": null,
      "outputs": [
        {
          "output_type": "execute_result",
          "data": {
            "text/plain": [
              "'ccc'"
            ]
          },
          "metadata": {
            "tags": []
          },
          "execution_count": 43
        }
      ]
    },
    {
      "cell_type": "markdown",
      "metadata": {
        "id": "wHJ0MBiuG_fF"
      },
      "source": [
        "**Example: parsing with splits**"
      ]
    },
    {
      "cell_type": "code",
      "metadata": {
        "id": "2-YRzW0qHB9N",
        "outputId": "232b8064-d65f-4d06-8dfa-c5e19a4cd176",
        "colab": {
          "base_uri": "https://localhost:8080/",
          "height": 34
        }
      },
      "source": [
        "line = 'aaa bbb ccc' # split around whitespace\n",
        "cols = line.split()\n",
        "cols"
      ],
      "execution_count": null,
      "outputs": [
        {
          "output_type": "execute_result",
          "data": {
            "text/plain": [
              "['aaa', 'bbb', 'ccc']"
            ]
          },
          "metadata": {
            "tags": []
          },
          "execution_count": 44
        }
      ]
    },
    {
      "cell_type": "code",
      "metadata": {
        "id": "tF274x0qbhDn",
        "outputId": "fdaa9c7a-a583-40db-bdef-e92876bd4c42",
        "colab": {
          "base_uri": "https://localhost:8080/",
          "height": 34
        }
      },
      "source": [
        "line = 'bob,hacker,40' # split around commas\n",
        "line.split(',')"
      ],
      "execution_count": null,
      "outputs": [
        {
          "output_type": "execute_result",
          "data": {
            "text/plain": [
              "['bob', 'hacker', '40']"
            ]
          },
          "metadata": {
            "tags": []
          },
          "execution_count": 45
        }
      ]
    },
    {
      "cell_type": "markdown",
      "metadata": {
        "id": "JS2HWWHQHQ_x"
      },
      "source": [
        "**Concatenation and repetition**\n",
        "\n",
        "*      X + Y makes a new sequence object with the contents of both operands\n",
        "*      X * N makes a new sequence object with N copies of the sequence operand"
      ]
    },
    {
      "cell_type": "markdown",
      "metadata": {
        "id": "Vyt2vF6AHbL9"
      },
      "source": [
        "**Indexing and slicing**\n",
        "\n",
        "* Indexing\n",
        "  - Fetches components via offsets: zero-based\n",
        "  - Negative indexes: adds length to offset\n",
        "  - S[0] is the first item\n",
        "  - S[-2] is the second from the end (4 - 2)\n",
        "  - Also works on mappings, but index is a key\n",
        "* Slicing\n",
        "  - Extracts contiguous sections of a sequence\n",
        "  - Slices default to 0 and the sequence length if omitted\n",
        "  - S[1:3] fetches from offsets 1 up to but not including 3\n",
        "  - S[1:] fetches from offsets 1 through the end (length)\n",
        "  - S[:-1] fetches from offsets 0 up to but not including last\n",
        "  - S[I:J:K] newer, I to J by K, K is a stride/step (S[::2])"
      ]
    },
    {
      "cell_type": "markdown",
      "metadata": {
        "id": "H3sTxicbHpRA"
      },
      "source": [
        "###Lists"
      ]
    },
    {
      "cell_type": "markdown",
      "metadata": {
        "id": "okYJbAo4Ht7Q"
      },
      "source": [
        "* Arrays of object references\n",
        "* Access by offset\n",
        "* Variable length, heterogeneous, arbitrarily nestable\n",
        "* Category: mutable sequence\n",
        "* Ordered collections of arbitrary objects"
      ]
    },
    {
      "cell_type": "markdown",
      "metadata": {
        "id": "jibfGVKPbhDo"
      },
      "source": [
        "**Common list operations**\n",
        "\n",
        "Operation |\tInterpretation\n",
        "---|---\n",
        "L1 = [] |\tan empty list\n",
        "L2 = [0, 1, 2, 3] |\t4-items: indexes 0..3\n",
        "['abc', ['def', 'ghi']] |\tnested sublists\n",
        "L2[i], L2[i:j], len(L2) |\tindex, slice, length\n",
        "L1 + L2, L2 * 3 |\tconcatenate, repeat\n",
        "L1.sort(), L2.append(4) |\tmethods: sort, grow\n",
        "del L2[k], L2[i:j] = [] |\tshrinking\n",
        "L2[i:j] = [1,2,3] |\tslice assignment\n",
        "range(4), xrange(0, 4) |\tmake integer lists\n",
        "for x in L2, 3 in L2 |\titeration/membership"
      ]
    },
    {
      "cell_type": "markdown",
      "metadata": {
        "id": "SxTL19YgHxEN"
      },
      "source": [
        "**Lists in action**"
      ]
    },
    {
      "cell_type": "code",
      "metadata": {
        "id": "e6zSktYqbhDp",
        "outputId": "e84f8a31-b4d8-4988-abd2-2df06ed97409",
        "colab": {
          "base_uri": "https://localhost:8080/",
          "height": 34
        }
      },
      "source": [
        "[1, 2, 3] + [4, 5, 6] # concatenation"
      ],
      "execution_count": null,
      "outputs": [
        {
          "output_type": "execute_result",
          "data": {
            "text/plain": [
              "[1, 2, 3, 4, 5, 6]"
            ]
          },
          "metadata": {
            "tags": []
          },
          "execution_count": 46
        }
      ]
    },
    {
      "cell_type": "code",
      "metadata": {
        "id": "ft-CJjqZIffF",
        "outputId": "6d44aac6-ab1f-4e7c-973f-11ad32f42b10",
        "colab": {
          "base_uri": "https://localhost:8080/",
          "height": 35
        }
      },
      "source": [
        "['Hi!'] * 4 # repetition"
      ],
      "execution_count": null,
      "outputs": [
        {
          "output_type": "execute_result",
          "data": {
            "text/plain": [
              "['Hi!', 'Hi!', 'Hi!', 'Hi!']"
            ]
          },
          "metadata": {
            "tags": []
          },
          "execution_count": 7
        }
      ]
    },
    {
      "cell_type": "markdown",
      "metadata": {
        "id": "onqAJ5cgbhDq"
      },
      "source": [
        "**Indexing and slicing**"
      ]
    },
    {
      "cell_type": "code",
      "metadata": {
        "id": "9qXSD6HDbhDr"
      },
      "source": [
        "L = ['spam', 'Spam', 'SPAM!']\n",
        "L[2]\n",
        "'SPAM!'\n",
        "L[1:]\n",
        "['Spam', 'SPAM!']"
      ],
      "execution_count": null,
      "outputs": []
    },
    {
      "cell_type": "markdown",
      "metadata": {
        "id": "t8FEJ0UIbhDv"
      },
      "source": [
        "**Changing lists in-place**"
      ]
    },
    {
      "cell_type": "code",
      "metadata": {
        "id": "LB_RVdeNKxXV",
        "outputId": "431db2a8-a105-4764-f618-1dc32005f22b",
        "colab": {
          "base_uri": "https://localhost:8080/",
          "height": 34
        }
      },
      "source": [
        "L[1] = 'eggs' # index assignment\n",
        "L"
      ],
      "execution_count": null,
      "outputs": [
        {
          "output_type": "execute_result",
          "data": {
            "text/plain": [
              "['s', 'eggs', 'a', 'x', 'x', 'y']"
            ]
          },
          "metadata": {
            "tags": []
          },
          "execution_count": 48
        }
      ]
    },
    {
      "cell_type": "code",
      "metadata": {
        "id": "6t_cO626Kz9D",
        "outputId": "d3e16f54-f889-477e-b2d2-4dfb71d3d472",
        "colab": {
          "base_uri": "https://localhost:8080/",
          "height": 34
        }
      },
      "source": [
        "L[0:2] = ['eat', 'more'] # slice assignment\n",
        "L # replace items 0,1"
      ],
      "execution_count": null,
      "outputs": [
        {
          "output_type": "execute_result",
          "data": {
            "text/plain": [
              "['eat', 'more', 'a', 'x', 'x', 'y']"
            ]
          },
          "metadata": {
            "tags": []
          },
          "execution_count": 49
        }
      ]
    },
    {
      "cell_type": "code",
      "metadata": {
        "id": "ESveNvIHbhDv",
        "outputId": "717cf318-7961-414e-c73e-b2f64ed291f7",
        "colab": {
          "base_uri": "https://localhost:8080/",
          "height": 34
        }
      },
      "source": [
        "L.append('please') # append method call\n",
        "L"
      ],
      "execution_count": null,
      "outputs": [
        {
          "output_type": "execute_result",
          "data": {
            "text/plain": [
              "['eat', 'more', 'a', 'x', 'x', 'y', 'please']"
            ]
          },
          "metadata": {
            "tags": []
          },
          "execution_count": 50
        }
      ]
    },
    {
      "cell_type": "markdown",
      "metadata": {
        "id": "1QIPO6I1bhDx"
      },
      "source": [
        "* Only works for mutable objects: not strings\n",
        "* Index assignment replaces an object reference\n",
        "* Slice assignment deletes a slice and inserts new items\n",
        "* Append method inserts a new item on the end (realloc)"
      ]
    },
    {
      "cell_type": "markdown",
      "metadata": {
        "id": "b6EjCeCPK65H"
      },
      "source": [
        "**Preview: iteration/membership**"
      ]
    },
    {
      "cell_type": "code",
      "metadata": {
        "id": "o20fRFH6bhDy",
        "outputId": "a8bc56b3-9ba3-4ba6-9195-298dd0066b69",
        "colab": {
          "base_uri": "https://localhost:8080/",
          "height": 34
        }
      },
      "source": [
        "for x in L: print(x, end=',')"
      ],
      "execution_count": null,
      "outputs": [
        {
          "output_type": "stream",
          "text": [
            "eat,more,a,x,x,y,please,"
          ],
          "name": "stdout"
        }
      ]
    },
    {
      "cell_type": "markdown",
      "metadata": {
        "id": "khkL8q1XbhDz"
      },
      "source": [
        "**Example: 2-dimensional array**"
      ]
    },
    {
      "cell_type": "code",
      "metadata": {
        "id": "mgjtH7EVLE_b",
        "outputId": "a7cde48d-be61-4753-9e82-828ed6866195",
        "colab": {
          "base_uri": "https://localhost:8080/",
          "height": 34
        }
      },
      "source": [
        "matrix = [[1, 2, 3],\n",
        "          [4, 5, 6],\n",
        "          [7, 8, 9]]\n",
        "matrix"
      ],
      "execution_count": null,
      "outputs": [
        {
          "output_type": "execute_result",
          "data": {
            "text/plain": [
              "[[1, 2, 3], [4, 5, 6], [7, 8, 9]]"
            ]
          },
          "metadata": {
            "tags": []
          },
          "execution_count": 52
        }
      ]
    },
    {
      "cell_type": "code",
      "metadata": {
        "id": "JqCuX5EpLIwz",
        "outputId": "4ad63865-73f5-4e7a-fba9-1c2d35b5bfcc",
        "colab": {
          "base_uri": "https://localhost:8080/",
          "height": 34
        }
      },
      "source": [
        "matrix[1]"
      ],
      "execution_count": null,
      "outputs": [
        {
          "output_type": "execute_result",
          "data": {
            "text/plain": [
              "[4, 5, 6]"
            ]
          },
          "metadata": {
            "tags": []
          },
          "execution_count": 53
        }
      ]
    },
    {
      "cell_type": "code",
      "metadata": {
        "id": "UdJClh4NLKOD",
        "outputId": "4dcef850-77ba-4391-808f-16c976ad71b7",
        "colab": {
          "base_uri": "https://localhost:8080/",
          "height": 34
        }
      },
      "source": [
        "matrix[1][1]"
      ],
      "execution_count": null,
      "outputs": [
        {
          "output_type": "execute_result",
          "data": {
            "text/plain": [
              "5"
            ]
          },
          "metadata": {
            "tags": []
          },
          "execution_count": 54
        }
      ]
    },
    {
      "cell_type": "code",
      "metadata": {
        "id": "6Iboh-xdbhDz",
        "outputId": "c99fff29-b3d1-4cc6-af94-896cad6cd7c8",
        "colab": {
          "base_uri": "https://localhost:8080/",
          "height": 34
        }
      },
      "source": [
        "matrix[2][0]"
      ],
      "execution_count": null,
      "outputs": [
        {
          "output_type": "execute_result",
          "data": {
            "text/plain": [
              "7"
            ]
          },
          "metadata": {
            "tags": []
          },
          "execution_count": 55
        }
      ]
    },
    {
      "cell_type": "markdown",
      "metadata": {
        "id": "WlbIkiaHLO-U"
      },
      "source": [
        "###Dictionaries"
      ]
    },
    {
      "cell_type": "markdown",
      "metadata": {
        "id": "YxiFxp7fLTkU"
      },
      "source": [
        "* Tables of object references\n",
        "* Access by key, not offset (hash-tables)\n",
        "* Variable length, heterogeneous, arbitrarily nestable\n",
        "* Category: mutable mappings (not a sequence)\n",
        "* Unordered collections of arbitrary objects"
      ]
    },
    {
      "cell_type": "markdown",
      "metadata": {
        "id": "dCBzV2l1bhD1"
      },
      "source": [
        "**Common dictionary operations**\n",
        "\n",
        "Operation |\tInterpretation\n",
        "---|---\n",
        "d1 = {} |\tempty dictionary\n",
        "d2 = {'spam': 2, 'eggs': 3} |\t2 items\n",
        "d3 = {'food': {'ham': 1, 'egg': 2}} |\tnesting\n",
        "d2['eggs'], d3['food']['ham'] |\tindexing by key\n",
        "d2.has_key('eggs'), d2.keys() |\tmethods\n",
        "d2.get('eggs', default) |\tdefault values\n",
        "len(d1) |\tlength (entries)\n",
        "d2[key] = new, del d2[key] |\tadding/changing"
      ]
    },
    {
      "cell_type": "markdown",
      "metadata": {
        "id": "clJiAvKeLWjL"
      },
      "source": [
        "**Dictionaries in action**"
      ]
    },
    {
      "cell_type": "code",
      "metadata": {
        "id": "Lf3Qg6xlOH0r",
        "outputId": "d8f0887c-52d7-4831-be51-fa875d09ba68",
        "colab": {
          "base_uri": "https://localhost:8080/",
          "height": 34
        }
      },
      "source": [
        "d2 = {'spam': 2, 'ham': 1, 'eggs': 3}\n",
        "d2['spam']"
      ],
      "execution_count": null,
      "outputs": [
        {
          "output_type": "execute_result",
          "data": {
            "text/plain": [
              "2"
            ]
          },
          "metadata": {
            "tags": []
          },
          "execution_count": 56
        }
      ]
    },
    {
      "cell_type": "code",
      "metadata": {
        "id": "1uZVaY2mOKc7",
        "outputId": "b2a213a2-a447-464c-b360-8f70ea044304",
        "colab": {
          "base_uri": "https://localhost:8080/",
          "height": 34
        }
      },
      "source": [
        "len(d2) # number entries"
      ],
      "execution_count": null,
      "outputs": [
        {
          "output_type": "execute_result",
          "data": {
            "text/plain": [
              "3"
            ]
          },
          "metadata": {
            "tags": []
          },
          "execution_count": 57
        }
      ]
    },
    {
      "cell_type": "code",
      "metadata": {
        "id": "6JHim1pVbhD1",
        "outputId": "e3f1b735-6620-4b92-b7d0-2ca4296785c0",
        "colab": {
          "base_uri": "https://localhost:8080/",
          "height": 34
        }
      },
      "source": [
        "d2.keys() # list of keys"
      ],
      "execution_count": null,
      "outputs": [
        {
          "output_type": "execute_result",
          "data": {
            "text/plain": [
              "dict_keys(['spam', 'ham', 'eggs'])"
            ]
          },
          "metadata": {
            "tags": []
          },
          "execution_count": 58
        }
      ]
    },
    {
      "cell_type": "markdown",
      "metadata": {
        "id": "Gi6fCJTobhD3"
      },
      "source": [
        "**Changing dictionaries**"
      ]
    },
    {
      "cell_type": "code",
      "metadata": {
        "id": "Qpq7Hv4xOP1T",
        "outputId": "b4f575dc-02bc-47fe-ba9a-789dc4b1121a",
        "colab": {
          "base_uri": "https://localhost:8080/",
          "height": 34
        }
      },
      "source": [
        "d2['ham'] = ['grill', 'bake', 'fry']\n",
        "d2"
      ],
      "execution_count": null,
      "outputs": [
        {
          "output_type": "execute_result",
          "data": {
            "text/plain": [
              "{'eggs': 3, 'ham': ['grill', 'bake', 'fry'], 'spam': 2}"
            ]
          },
          "metadata": {
            "tags": []
          },
          "execution_count": 59
        }
      ]
    },
    {
      "cell_type": "code",
      "metadata": {
        "id": "XRQpia_hbhD3",
        "outputId": "cf9f6b33-9912-4f2d-e7a2-e304b5382a40",
        "colab": {
          "base_uri": "https://localhost:8080/",
          "height": 34
        }
      },
      "source": [
        "del d2['eggs']\n",
        "d2"
      ],
      "execution_count": null,
      "outputs": [
        {
          "output_type": "execute_result",
          "data": {
            "text/plain": [
              "{'ham': ['grill', 'bake', 'fry'], 'spam': 2}"
            ]
          },
          "metadata": {
            "tags": []
          },
          "execution_count": 60
        }
      ]
    },
    {
      "cell_type": "markdown",
      "metadata": {
        "id": "sGEOAFDNbhD5"
      },
      "source": [
        "**Making dictionaries**"
      ]
    },
    {
      "cell_type": "code",
      "metadata": {
        "id": "gxdyphQTbhD5",
        "outputId": "2b888b8f-bd0c-4843-8542-b5a5e50afecd",
        "colab": {
          "base_uri": "https://localhost:8080/",
          "height": 34
        }
      },
      "source": [
        "# literals\n",
        "D = {'name': 'Bob', 'age': 42, 'job': 'dev'}\n",
        "D"
      ],
      "execution_count": null,
      "outputs": [
        {
          "output_type": "execute_result",
          "data": {
            "text/plain": [
              "{'age': 42, 'job': 'dev', 'name': 'Bob'}"
            ]
          },
          "metadata": {
            "tags": []
          },
          "execution_count": 61
        }
      ]
    },
    {
      "cell_type": "code",
      "metadata": {
        "id": "LjunZRaCbhD6",
        "outputId": "27f5b57b-92b7-4cf0-8c38-ac4bdc6375f4",
        "colab": {
          "base_uri": "https://localhost:8080/",
          "height": 34
        }
      },
      "source": [
        "# keywords\n",
        "D = dict(name='Bob', age=42, job='dev')\n",
        "D"
      ],
      "execution_count": null,
      "outputs": [
        {
          "output_type": "execute_result",
          "data": {
            "text/plain": [
              "{'age': 42, 'job': 'dev', 'name': 'Bob'}"
            ]
          },
          "metadata": {
            "tags": []
          },
          "execution_count": 62
        }
      ]
    },
    {
      "cell_type": "code",
      "metadata": {
        "id": "OAwqiZiQbhD7",
        "outputId": "55c19592-98f5-4106-f35f-5b52ac236afb",
        "colab": {
          "base_uri": "https://localhost:8080/",
          "height": 34
        }
      },
      "source": [
        "# field by field\n",
        "D = {}\n",
        "D['name'] = 'Bob'\n",
        "D['age'] = 42\n",
        "D['job'] = 'dev'\n",
        "D"
      ],
      "execution_count": null,
      "outputs": [
        {
          "output_type": "execute_result",
          "data": {
            "text/plain": [
              "{'age': 42, 'job': 'dev', 'name': 'Bob'}"
            ]
          },
          "metadata": {
            "tags": []
          },
          "execution_count": 63
        }
      ]
    },
    {
      "cell_type": "code",
      "metadata": {
        "id": "SijLtHambhD8",
        "outputId": "ceb76129-9457-4029-c666-ded49171a851",
        "colab": {
          "base_uri": "https://localhost:8080/",
          "height": 34
        }
      },
      "source": [
        "# zipped keys/values\n",
        "pairs = zip(['name', 'age', 'job'], ('Bob', 42, 'dev'))\n",
        "pairs"
      ],
      "execution_count": null,
      "outputs": [
        {
          "output_type": "execute_result",
          "data": {
            "text/plain": [
              "<zip at 0x7fb2d7cc9b08>"
            ]
          },
          "metadata": {
            "tags": []
          },
          "execution_count": 64
        }
      ]
    },
    {
      "cell_type": "code",
      "metadata": {
        "id": "cxsEhBPiOgRz",
        "outputId": "0090773f-b0a8-449d-e838-373ead99c912",
        "colab": {
          "base_uri": "https://localhost:8080/",
          "height": 34
        }
      },
      "source": [
        "D = dict(pairs)\n",
        "D"
      ],
      "execution_count": null,
      "outputs": [
        {
          "output_type": "execute_result",
          "data": {
            "text/plain": [
              "{'age': 42, 'job': 'dev', 'name': 'Bob'}"
            ]
          },
          "metadata": {
            "tags": []
          },
          "execution_count": 65
        }
      ]
    },
    {
      "cell_type": "code",
      "metadata": {
        "id": "fJlwrsSEbhD-",
        "outputId": "39162481-a248-4e60-eaf5-627f8a0a11a1",
        "colab": {
          "base_uri": "https://localhost:8080/",
          "height": 34
        }
      },
      "source": [
        "# key lists\n",
        "D = dict.fromkeys(['name', 'age', 'job'], '?')\n",
        "D"
      ],
      "execution_count": null,
      "outputs": [
        {
          "output_type": "execute_result",
          "data": {
            "text/plain": [
              "{'age': '?', 'job': '?', 'name': '?'}"
            ]
          },
          "metadata": {
            "tags": []
          },
          "execution_count": 67
        }
      ]
    },
    {
      "cell_type": "markdown",
      "metadata": {
        "id": "FMSaNPAZbhD_"
      },
      "source": [
        "**A language table**"
      ]
    },
    {
      "cell_type": "code",
      "metadata": {
        "id": "OX1p8aTVOvPi",
        "outputId": "7df53810-ee9e-4d4c-9e80-c1264e92c840",
        "colab": {
          "base_uri": "https://localhost:8080/",
          "height": 34
        }
      },
      "source": [
        "table = {'Perl': 'Larry Wall',\n",
        "         'Tcl': 'John Ousterhout',\n",
        "         'Python': 'Guido van Rossum' }\n",
        "\n",
        "language = 'Python'\n",
        "creator = table[language]\n",
        "creator"
      ],
      "execution_count": null,
      "outputs": [
        {
          "output_type": "execute_result",
          "data": {
            "text/plain": [
              "'Guido van Rossum'"
            ]
          },
          "metadata": {
            "tags": []
          },
          "execution_count": 68
        }
      ]
    },
    {
      "cell_type": "code",
      "metadata": {
        "id": "cVUL9BQ0bhEA",
        "outputId": "aa7ce38b-6a86-4672-9306-49c8807198ce",
        "colab": {
          "base_uri": "https://localhost:8080/",
          "height": 68
        }
      },
      "source": [
        "for lang in table.keys(): print(lang)"
      ],
      "execution_count": null,
      "outputs": [
        {
          "output_type": "stream",
          "text": [
            "Perl\n",
            "Tcl\n",
            "Python\n"
          ],
          "name": "stdout"
        }
      ]
    },
    {
      "cell_type": "markdown",
      "metadata": {
        "id": "t6OKSjwXbhEB"
      },
      "source": [
        "**Dictionary usage notes**\n",
        "\n",
        "*      Sequence operations don't work!\n",
        "*      Assigning to new indexes adds entries\n",
        "*      Keys need not always be strings"
      ]
    },
    {
      "cell_type": "markdown",
      "metadata": {
        "id": "9j6boZqHO3TA"
      },
      "source": [
        "**Example: simulating auto-grown lists**"
      ]
    },
    {
      "cell_type": "code",
      "metadata": {
        "id": "7iuU2sFBSQ9D",
        "outputId": "1a157441-ef17-483b-d508-957343ca8b5b",
        "colab": {
          "base_uri": "https://localhost:8080/",
          "height": 214
        }
      },
      "source": [
        "L = [] # L=[0]*100 would help\n",
        "print(\"ERROR EXPECTED\")\n",
        "L[99] = 'spam'"
      ],
      "execution_count": null,
      "outputs": [
        {
          "output_type": "stream",
          "text": [
            "ERROR EXPECTED\n"
          ],
          "name": "stdout"
        },
        {
          "output_type": "error",
          "ename": "IndexError",
          "evalue": "ignored",
          "traceback": [
            "\u001b[0;31m---------------------------------------------------------------------------\u001b[0m",
            "\u001b[0;31mIndexError\u001b[0m                                Traceback (most recent call last)",
            "\u001b[0;32m<ipython-input-70-3cb2041586c1>\u001b[0m in \u001b[0;36m<module>\u001b[0;34m()\u001b[0m\n\u001b[1;32m      1\u001b[0m \u001b[0mL\u001b[0m \u001b[0;34m=\u001b[0m \u001b[0;34m[\u001b[0m\u001b[0;34m]\u001b[0m \u001b[0;31m# L=[0]*100 would help\u001b[0m\u001b[0;34m\u001b[0m\u001b[0;34m\u001b[0m\u001b[0m\n\u001b[1;32m      2\u001b[0m \u001b[0mprint\u001b[0m\u001b[0;34m(\u001b[0m\u001b[0;34m\"ERROR EXPECTED\"\u001b[0m\u001b[0;34m)\u001b[0m\u001b[0;34m\u001b[0m\u001b[0;34m\u001b[0m\u001b[0m\n\u001b[0;32m----> 3\u001b[0;31m \u001b[0mL\u001b[0m\u001b[0;34m[\u001b[0m\u001b[0;36m99\u001b[0m\u001b[0;34m]\u001b[0m \u001b[0;34m=\u001b[0m \u001b[0;34m'spam'\u001b[0m\u001b[0;34m\u001b[0m\u001b[0;34m\u001b[0m\u001b[0m\n\u001b[0m",
            "\u001b[0;31mIndexError\u001b[0m: list assignment index out of range"
          ]
        }
      ]
    },
    {
      "cell_type": "code",
      "metadata": {
        "id": "2CRsER1ZbhEC",
        "outputId": "cdf6ace0-33d1-4df5-d7ad-684040772678",
        "colab": {
          "base_uri": "https://localhost:8080/",
          "height": 34
        }
      },
      "source": [
        "D = {}\n",
        "D[99] = 'spam'\n",
        "D[99]"
      ],
      "execution_count": null,
      "outputs": [
        {
          "output_type": "execute_result",
          "data": {
            "text/plain": [
              "'spam'"
            ]
          },
          "metadata": {
            "tags": []
          },
          "execution_count": 71
        }
      ]
    },
    {
      "cell_type": "code",
      "metadata": {
        "id": "-P2RCMbASaqi",
        "outputId": "db708cc3-2eb4-4c21-fef0-0c40ad901cd4",
        "colab": {
          "base_uri": "https://localhost:8080/",
          "height": 34
        }
      },
      "source": [
        "D"
      ],
      "execution_count": null,
      "outputs": [
        {
          "output_type": "execute_result",
          "data": {
            "text/plain": [
              "{99: 'spam'}"
            ]
          },
          "metadata": {
            "tags": []
          },
          "execution_count": 72
        }
      ]
    },
    {
      "cell_type": "markdown",
      "metadata": {
        "id": "5__xJqDPbhED"
      },
      "source": [
        "**Example: dictionary-based records**"
      ]
    },
    {
      "cell_type": "code",
      "metadata": {
        "id": "X5gtiC6ebhED",
        "outputId": "74028714-64f5-4824-925f-9e2748814f03",
        "colab": {
          "base_uri": "https://localhost:8080/",
          "height": 34
        }
      },
      "source": [
        "rec = {}\n",
        "rec['name'] = 'mel'\n",
        "rec['age'] = 40\n",
        "rec['job'] = 'trainer/writer'\n",
        "print(rec['name'])"
      ],
      "execution_count": null,
      "outputs": [
        {
          "output_type": "stream",
          "text": [
            "mel\n"
          ],
          "name": "stdout"
        }
      ]
    },
    {
      "cell_type": "code",
      "metadata": {
        "id": "ZOFqzHvOS9-p"
      },
      "source": [
        "mel = {'name': 'Mark',\n",
        "       'jobs': ['trainer', 'writer'],\n",
        "       'web': 'www.rmi.net/~lutz',\n",
        "       'home': {'state': 'CO', 'zip':80503}}"
      ],
      "execution_count": null,
      "outputs": []
    },
    {
      "cell_type": "code",
      "metadata": {
        "id": "wfDX7C8ATCuS",
        "outputId": "047afd1b-2129-4150-99ed-d1ccae7a5d68",
        "colab": {
          "base_uri": "https://localhost:8080/",
          "height": 34
        }
      },
      "source": [
        "mel['jobs']"
      ],
      "execution_count": null,
      "outputs": [
        {
          "output_type": "execute_result",
          "data": {
            "text/plain": [
              "['trainer', 'writer']"
            ]
          },
          "metadata": {
            "tags": []
          },
          "execution_count": 75
        }
      ]
    },
    {
      "cell_type": "code",
      "metadata": {
        "id": "D7cQLJ9STFlR",
        "outputId": "f99d2e4d-aa63-4c0c-ddbb-63c40ca97aef",
        "colab": {
          "base_uri": "https://localhost:8080/",
          "height": 34
        }
      },
      "source": [
        "mel['jobs'][1]"
      ],
      "execution_count": null,
      "outputs": [
        {
          "output_type": "execute_result",
          "data": {
            "text/plain": [
              "'writer'"
            ]
          },
          "metadata": {
            "tags": []
          },
          "execution_count": 76
        }
      ]
    },
    {
      "cell_type": "code",
      "metadata": {
        "id": "POzVG8I_bhEF",
        "outputId": "d5f0d550-7e98-4709-9b54-98ec009b8a28",
        "colab": {
          "base_uri": "https://localhost:8080/",
          "height": 34
        }
      },
      "source": [
        "mel['home']['zip']"
      ],
      "execution_count": null,
      "outputs": [
        {
          "output_type": "execute_result",
          "data": {
            "text/plain": [
              "80503"
            ]
          },
          "metadata": {
            "tags": []
          },
          "execution_count": 77
        }
      ]
    },
    {
      "cell_type": "markdown",
      "metadata": {
        "id": "KPC8Tp8abhEG"
      },
      "source": [
        "**Example: more object nesting**"
      ]
    },
    {
      "cell_type": "code",
      "metadata": {
        "id": "FFHDNvLPUvyd",
        "outputId": "a4927cb5-402b-40a6-9767-4f56b9f5d498",
        "colab": {
          "base_uri": "https://localhost:8080/",
          "height": 34
        }
      },
      "source": [
        "rec = {'name': {'first': 'Bob', 'last': 'Smith'},\n",
        "       'job': ['dev', 'mgr'],\n",
        "       'age': 40.5}\n",
        "rec['name']"
      ],
      "execution_count": null,
      "outputs": [
        {
          "output_type": "execute_result",
          "data": {
            "text/plain": [
              "{'first': 'Bob', 'last': 'Smith'}"
            ]
          },
          "metadata": {
            "tags": []
          },
          "execution_count": 78
        }
      ]
    },
    {
      "cell_type": "code",
      "metadata": {
        "id": "cptX0N9RU0oD",
        "outputId": "e19f7d74-b729-4688-acc9-ddef2fc5b654",
        "colab": {
          "base_uri": "https://localhost:8080/",
          "height": 34
        }
      },
      "source": [
        "rec['name']['last']"
      ],
      "execution_count": null,
      "outputs": [
        {
          "output_type": "execute_result",
          "data": {
            "text/plain": [
              "'Smith'"
            ]
          },
          "metadata": {
            "tags": []
          },
          "execution_count": 79
        }
      ]
    },
    {
      "cell_type": "code",
      "metadata": {
        "id": "qjR31nT8U2tB",
        "outputId": "82051c39-ae63-470b-c3a7-a8edcef8aad9",
        "colab": {
          "base_uri": "https://localhost:8080/",
          "height": 34
        }
      },
      "source": [
        "rec['job'][-1]"
      ],
      "execution_count": null,
      "outputs": [
        {
          "output_type": "execute_result",
          "data": {
            "text/plain": [
              "'mgr'"
            ]
          },
          "metadata": {
            "tags": []
          },
          "execution_count": 80
        }
      ]
    },
    {
      "cell_type": "code",
      "metadata": {
        "id": "GOSTeplXU5lV",
        "outputId": "99ab4b04-0809-46f8-ec44-64bdb0119e0c",
        "colab": {
          "base_uri": "https://localhost:8080/",
          "height": 68
        }
      },
      "source": [
        "rec['job'].append('janitor')\n",
        "rec"
      ],
      "execution_count": null,
      "outputs": [
        {
          "output_type": "execute_result",
          "data": {
            "text/plain": [
              "{'age': 40.5,\n",
              " 'job': ['dev', 'mgr', 'janitor'],\n",
              " 'name': {'first': 'Bob', 'last': 'Smith'}}"
            ]
          },
          "metadata": {
            "tags": []
          },
          "execution_count": 81
        }
      ]
    },
    {
      "cell_type": "code",
      "metadata": {
        "id": "ufEOSvy0bhEH",
        "outputId": "4b03cf37-04aa-4182-8823-79e5377d180f",
        "colab": {
          "base_uri": "https://localhost:8080/",
          "height": 68
        }
      },
      "source": [
        "db = {}\n",
        "db['bob'] = rec # collecting records into a db\n",
        "db"
      ],
      "execution_count": null,
      "outputs": [
        {
          "output_type": "execute_result",
          "data": {
            "text/plain": [
              "{'bob': {'age': 40.5,\n",
              "  'job': ['dev', 'mgr', 'janitor'],\n",
              "  'name': {'first': 'Bob', 'last': 'Smith'}}}"
            ]
          },
          "metadata": {
            "tags": []
          },
          "execution_count": 83
        }
      ]
    },
    {
      "cell_type": "markdown",
      "metadata": {
        "id": "hMDUtbQuU-wp"
      },
      "source": [
        "Preview: Bob could be a record in a real database, using shelve or pickle persistence modules: watch for more details on the class and database units. This nested dictionary/list structure is also the genesis of JSON: see Pythons json standard library module for a trivial translation utility, and the Database unit for a simple example."
      ]
    },
    {
      "cell_type": "markdown",
      "metadata": {
        "id": "uaPxnzN0bhEI"
      },
      "source": [
        "**Example: dictionary-based sparse matrix**"
      ]
    },
    {
      "cell_type": "code",
      "metadata": {
        "id": "nDpDer1DVPDP",
        "outputId": "a52f0bfe-c0a7-4f97-fa0f-2f258c21a6ee",
        "colab": {
          "base_uri": "https://localhost:8080/"
        }
      },
      "source": [
        "Matrix = {}\n",
        "Matrix[(2,3,4)] = 88 # tuple key is coordinates\n",
        "Matrix[(7,8,9)] = 99\n",
        "\n",
        "X = 2; Y = 3; Z = 4 # ; separates statements\n",
        "Matrix[(X,Y,Z)]"
      ],
      "execution_count": 13,
      "outputs": [
        {
          "output_type": "execute_result",
          "data": {
            "text/plain": [
              "88"
            ]
          },
          "metadata": {},
          "execution_count": 13
        }
      ]
    },
    {
      "cell_type": "code",
      "metadata": {
        "id": "IR5pTKyyVSeB",
        "outputId": "208facc6-5b01-47d1-816f-45cd0a375ca7",
        "colab": {
          "base_uri": "https://localhost:8080/",
          "height": 34
        }
      },
      "source": [
        "Matrix"
      ],
      "execution_count": null,
      "outputs": [
        {
          "output_type": "execute_result",
          "data": {
            "text/plain": [
              "{(2, 3, 4): 88, (7, 8, 9): 99}"
            ]
          },
          "metadata": {
            "tags": []
          },
          "execution_count": 85
        }
      ]
    },
    {
      "cell_type": "code",
      "metadata": {
        "id": "StVm5ztwbhEJ",
        "outputId": "fb9c40ef-a18e-4588-9459-0c577fd6965f",
        "colab": {
          "base_uri": "https://localhost:8080/",
          "height": 34
        }
      },
      "source": [
        "Matrix.get((0, 1, 2), 'Missing')"
      ],
      "execution_count": null,
      "outputs": [
        {
          "output_type": "execute_result",
          "data": {
            "text/plain": [
              "'Missing'"
            ]
          },
          "metadata": {
            "tags": []
          },
          "execution_count": 86
        }
      ]
    },
    {
      "cell_type": "markdown",
      "metadata": {
        "id": "y2dypUNFWJLt"
      },
      "source": [
        "###Tuples"
      ]
    },
    {
      "cell_type": "markdown",
      "metadata": {
        "id": "urbglN2BbhEL"
      },
      "source": [
        "* Arrays of object references\n",
        "* Access by offset\n",
        "* Fixed length, heterogeneous, arbitrarily nestable\n",
        "* Category: immutable sequences (cant be changed)\n",
        "* Ordered collections of arbitrary objects"
      ]
    },
    {
      "cell_type": "markdown",
      "metadata": {
        "id": "YChyVDJcWO5a"
      },
      "source": [
        "**Common tuple operations**\n",
        "\n",
        "Operation |\tInterpretation\n",
        "---|---\n",
        "() |\tan empty tuple\n",
        "T1 = (0,) |\ta one-item tuple\n",
        "T2 = (0, 1, 2, 3) |\ta 4-item tuple\n",
        "T2 = 0, 1, 2, 3 |\tanother 4-item tuple\n",
        "T3 = ('abc', ('def', 'ghi')) |\tnested tuples\n",
        "T1[i], t1[i:j], len(t1) |\tindex, slice, length\n",
        "T1 + t2, t2 * 3 |\tconcatenate, repeat\n",
        "for x in t2, 3 in t2 |\titeration/membership"
      ]
    },
    {
      "cell_type": "markdown",
      "metadata": {
        "id": "0B4IyvQyWSXB"
      },
      "source": [
        "**Tuples in action**"
      ]
    },
    {
      "cell_type": "code",
      "metadata": {
        "id": "UJQapueFWWd4",
        "outputId": "3142bc71-4c38-4bef-dc71-b272915fd1e5",
        "colab": {
          "base_uri": "https://localhost:8080/",
          "height": 34
        }
      },
      "source": [
        "T1 = (1, 'spam')\n",
        "T2 = (2, 'ni')\n",
        "\n",
        "T1 + T2"
      ],
      "execution_count": null,
      "outputs": [
        {
          "output_type": "execute_result",
          "data": {
            "text/plain": [
              "(1, 'spam', 2, 'ni')"
            ]
          },
          "metadata": {
            "tags": []
          },
          "execution_count": 87
        }
      ]
    },
    {
      "cell_type": "code",
      "metadata": {
        "id": "-RQx1uHhbhEL",
        "outputId": "bd142695-6409-4e6d-a376-58c315d8ab8c",
        "colab": {
          "base_uri": "https://localhost:8080/",
          "height": 34
        }
      },
      "source": [
        "T1 * 4"
      ],
      "execution_count": null,
      "outputs": [
        {
          "output_type": "execute_result",
          "data": {
            "text/plain": [
              "(1, 'spam', 1, 'spam', 1, 'spam', 1, 'spam')"
            ]
          },
          "metadata": {
            "tags": []
          },
          "execution_count": 88
        }
      ]
    },
    {
      "cell_type": "code",
      "metadata": {
        "id": "gONrKzY4Wbo-",
        "outputId": "59c545cf-6005-4a83-b2fd-9140d03db973",
        "colab": {
          "base_uri": "https://localhost:8080/",
          "height": 34
        }
      },
      "source": [
        "T2[1]"
      ],
      "execution_count": null,
      "outputs": [
        {
          "output_type": "execute_result",
          "data": {
            "text/plain": [
              "'ni'"
            ]
          },
          "metadata": {
            "tags": []
          },
          "execution_count": 89
        }
      ]
    },
    {
      "cell_type": "code",
      "metadata": {
        "id": "6ctm0CifWeWN",
        "outputId": "bf44d02c-7039-4c08-c48a-c6f9dbbd7db4",
        "colab": {
          "base_uri": "https://localhost:8080/",
          "height": 34
        }
      },
      "source": [
        "T2[1:]"
      ],
      "execution_count": null,
      "outputs": [
        {
          "output_type": "execute_result",
          "data": {
            "text/plain": [
              "('ni',)"
            ]
          },
          "metadata": {
            "tags": []
          },
          "execution_count": 90
        }
      ]
    },
    {
      "cell_type": "markdown",
      "metadata": {
        "id": "xUWJ2HkiWiQA"
      },
      "source": [
        "**Why lists and tuples?**\n",
        "\n",
        "* Immutability provides integrity\n",
        "* Some built-in operations require tuples (argument lists)\n",
        "* Guido was a mathematician: sets versus data structures"
      ]
    },
    {
      "cell_type": "markdown",
      "metadata": {
        "id": "RdA5mEeLWlti"
      },
      "source": [
        "###Files"
      ]
    },
    {
      "cell_type": "markdown",
      "metadata": {
        "id": "qoVstIIzgv4P"
      },
      "source": [
        "* A wrapper around Cs stdio file system (io module in 3.X)\n",
        "* The builtin open function returns a file object\n",
        "* File objects export methods for file operations\n",
        "* Files are not sequences or mappings (methods only)\n",
        "* Files are a built-in C extension type"
      ]
    },
    {
      "cell_type": "markdown",
      "metadata": {
        "id": "k03DS3llg8-W"
      },
      "source": [
        "**Common file operations**\n",
        "\n",
        "Operation |\tInterpretation\n",
        "---|---\n",
        "O = open('/tmp/spam', 'w') |\tcreate output file\n",
        "I = open('data', 'r') |\tcreate input file\n",
        "I.read(), I.read(1) |\tread file, byte\n",
        "I.readline(), I.readlines() |\tread line, lines list\n",
        "O.write(S), O.writelines(L) |\twrite string, lines\n",
        "O.close() |\tmanual close (or on free)"
      ]
    },
    {
      "cell_type": "markdown",
      "metadata": {
        "id": "u6WvKycsbhEM"
      },
      "source": [
        "**Files in action**"
      ]
    },
    {
      "cell_type": "code",
      "metadata": {
        "id": "-dKFqY69bhEO",
        "outputId": "11d54a57-e35f-496d-e685-d56c1cdf3e01",
        "colab": {
          "base_uri": "https://localhost:8080/",
          "height": 34
        }
      },
      "source": [
        "newfile = open('test.txt', 'w')\n",
        "newfile.write(('spam' * 5) + '\\n')\n",
        "newfile.close()\n",
        "\n",
        "\n",
        "myfile = open('test.txt')\n",
        "text = myfile.read()\n",
        "text"
      ],
      "execution_count": null,
      "outputs": [
        {
          "output_type": "execute_result",
          "data": {
            "text/plain": [
              "'spamspamspamspamspam\\n'"
            ]
          },
          "metadata": {
            "tags": []
          },
          "execution_count": 91
        }
      ]
    },
    {
      "cell_type": "markdown",
      "metadata": {
        "id": "Lzn__CmWhHcm"
      },
      "source": [
        "**Related Python tools**\n",
        "\n",
        "* Descriptor based files: os module\n",
        "* DBM keyed files\n",
        "* Persistent object shelves\n",
        "* Pipes, fifos, sockets"
      ]
    },
    {
      "cell_type": "markdown",
      "metadata": {
        "id": "kSY8u0SRhJc8"
      },
      "source": [
        "###General object properties"
      ]
    },
    {
      "cell_type": "markdown",
      "metadata": {
        "id": "vA1Ka87rSyCZ"
      },
      "source": [
        "**Generic type concepts**\n",
        "\n",
        "*    Types share operation sets by categories\n",
        "*    Numbers support addition, multiplication, . . .\n",
        "*    Sequences support indexing, slicing, concatenation, . . .\n",
        "*    Mappings support indexing by key, . . .\n",
        "*    Mutable types can be changed in place\n",
        "*    Strings are **immutable sequences**"
      ]
    },
    {
      "cell_type": "markdown",
      "metadata": {
        "id": "kU0AydAKhO02"
      },
      "source": [
        "**Type categories revisited**\n",
        "\n",
        "* Objects share operations according to their category\n",
        "* Only mutable objects may be changed in-place"
      ]
    },
    {
      "cell_type": "markdown",
      "metadata": {
        "id": "h1sj1bpdhRvu"
      },
      "source": [
        "Object type |\tCategory |\tMutable?\n",
        "---|---|---\n",
        "Numbers |\tNumeric |\tNo\n",
        "Strings |\tSequence |\tNo\n",
        "Lists |\tSequence |\tYes\n",
        "Dictionaries |\tMapping |\tYes\n",
        "Tuples |\tSequence |\tNo\n",
        "Files |\tExtension |\tn/a"
      ]
    },
    {
      "cell_type": "markdown",
      "metadata": {
        "id": "HyEN6fvKbhEP"
      },
      "source": [
        "**Generality**\n",
        "\n",
        "* Lists, dictionaries, and tuples can hold any kind of object\n",
        "* Lists, dictionaries, and tuples can be arbitrarily nested\n",
        "* Lists and dictionaries can dynamically grow and shrink"
      ]
    },
    {
      "cell_type": "markdown",
      "metadata": {
        "id": "RuSE8aaBhf1O"
      },
      "source": [
        "**Nesting example**"
      ]
    },
    {
      "cell_type": "code",
      "metadata": {
        "id": "9zbTEPRUhioG",
        "outputId": "fdb178cb-be02-45a8-d571-6dcec943bcb8",
        "colab": {
          "base_uri": "https://localhost:8080/",
          "height": 34
        }
      },
      "source": [
        "L = ['abc', [(1, 2), ([3], 4)], 5]\n",
        "L[1][1]"
      ],
      "execution_count": null,
      "outputs": [
        {
          "output_type": "execute_result",
          "data": {
            "text/plain": [
              "([3], 4)"
            ]
          },
          "metadata": {
            "tags": []
          },
          "execution_count": 92
        }
      ]
    },
    {
      "cell_type": "code",
      "metadata": {
        "id": "VSScAcTZhk6P",
        "outputId": "8894dad4-9560-4867-bf1e-43d72f3f409e",
        "colab": {
          "base_uri": "https://localhost:8080/",
          "height": 34
        }
      },
      "source": [
        "L[1][1][0]"
      ],
      "execution_count": null,
      "outputs": [
        {
          "output_type": "execute_result",
          "data": {
            "text/plain": [
              "[3]"
            ]
          },
          "metadata": {
            "tags": []
          },
          "execution_count": 93
        }
      ]
    },
    {
      "cell_type": "code",
      "metadata": {
        "id": "fLDJGcIxbhEQ",
        "outputId": "002e7cf6-bf15-4237-d098-c873e526438d",
        "colab": {
          "base_uri": "https://localhost:8080/",
          "height": 34
        }
      },
      "source": [
        "L[1][1][0][0]"
      ],
      "execution_count": null,
      "outputs": [
        {
          "output_type": "execute_result",
          "data": {
            "text/plain": [
              "3"
            ]
          },
          "metadata": {
            "tags": []
          },
          "execution_count": 94
        }
      ]
    },
    {
      "cell_type": "markdown",
      "metadata": {
        "id": "xVYQI7yQbhEU"
      },
      "source": [
        "**Shared references**\n",
        "\n",
        "* Assignments always create references to objects\n",
        "* Can generate shared references to the same object\n",
        "* Changing a mutable object impacts all references\n",
        "* To avoid effect: make copies with X[:], list(X), etc.\n",
        "* Tip: distinguish between names and objects!\n",
        "  - Names have no \"type\", but objects do"
      ]
    },
    {
      "cell_type": "code",
      "metadata": {
        "id": "0ESQgRcIhvOe",
        "outputId": "942f35bf-4250-4450-bd2e-1a7397396be2",
        "colab": {
          "base_uri": "https://localhost:8080/",
          "height": 34
        }
      },
      "source": [
        "X = [1, 2, 3]\n",
        "L = ['a', X, 'b']\n",
        "D = {'x':X, 'y':2}\n",
        "\n",
        "X[1] = 'surprise' # changes all 3 references!\n",
        "L"
      ],
      "execution_count": null,
      "outputs": [
        {
          "output_type": "execute_result",
          "data": {
            "text/plain": [
              "['a', [1, 'surprise', 3], 'b']"
            ]
          },
          "metadata": {
            "tags": []
          },
          "execution_count": 95
        }
      ]
    },
    {
      "cell_type": "code",
      "metadata": {
        "id": "0fQFw1WXbhEU",
        "outputId": "97d6f5c5-cb56-48cb-846a-2875724739d3",
        "colab": {
          "base_uri": "https://localhost:8080/",
          "height": 34
        }
      },
      "source": [
        "D"
      ],
      "execution_count": null,
      "outputs": [
        {
          "output_type": "execute_result",
          "data": {
            "text/plain": [
              "{'x': [1, 'surprise', 3], 'y': 2}"
            ]
          },
          "metadata": {
            "tags": []
          },
          "execution_count": 96
        }
      ]
    },
    {
      "cell_type": "markdown",
      "metadata": {
        "id": "fcWIZB15bhEV"
      },
      "source": [
        "**Equality and truth**\n",
        "\n",
        "* Applied recursively for nested data structures\n",
        "* is tests identity (object address)\n",
        "* True: non-zero number or non-empty data structure\n",
        "* None is a special empty/false object"
      ]
    },
    {
      "cell_type": "code",
      "metadata": {
        "id": "v97LM7kfbhEW",
        "outputId": "000c3fa0-8686-40cb-ad49-6d4732a84914",
        "colab": {
          "base_uri": "https://localhost:8080/",
          "height": 34
        }
      },
      "source": [
        "L1 = [1, ('a', 3)] # same value, unique objects\n",
        "L3 = [1, ('a', 3)]\n",
        "L1 == L3, L1 is L3 # equivalent?, same object?"
      ],
      "execution_count": null,
      "outputs": [
        {
          "output_type": "execute_result",
          "data": {
            "text/plain": [
              "(True, False)"
            ]
          },
          "metadata": {
            "tags": []
          },
          "execution_count": 97
        }
      ]
    },
    {
      "cell_type": "markdown",
      "metadata": {
        "id": "xiJy4OD-bhEX"
      },
      "source": [
        "**Other comparisons**\n",
        "\n",
        "* Applied recursively for nested data structures\n",
        "* Strings compared lexicographically\n",
        "* Lists and tuples compared depth-first, left-to-right\n",
        "* Dictionaries compared by sorted (key, value) lists\n",
        "* Dictionaries don't compare in 3.X, but their .items() do"
      ]
    },
    {
      "cell_type": "code",
      "metadata": {
        "id": "35ofik7wbhEY",
        "outputId": "afa0e0b0-0573-4dae-b921-10ee29dd56f3",
        "colab": {
          "base_uri": "https://localhost:8080/",
          "height": 34
        }
      },
      "source": [
        "L1 = [1, ('a', 3)]\n",
        "L2 = [1, ('a', 2)]\n",
        "L1 < L2, L1 == L2, L1 > L2"
      ],
      "execution_count": null,
      "outputs": [
        {
          "output_type": "execute_result",
          "data": {
            "text/plain": [
              "(False, False, True)"
            ]
          },
          "metadata": {
            "tags": []
          },
          "execution_count": 98
        }
      ]
    },
    {
      "cell_type": "markdown",
      "metadata": {
        "id": "WS_Trna8iaWm"
      },
      "source": [
        "###Summary: Pythons type hierarchies"
      ]
    },
    {
      "cell_type": "markdown",
      "metadata": {
        "id": "3dbIulWPbhEa"
      },
      "source": [
        "* Everything is an object type in Python: first class\n",
        "* Types are objects too: type(X) returns type object of X\n",
        "* Preview: C extension modules and types use same mechanisms as Python types"
      ]
    },
    {
      "cell_type": "markdown",
      "metadata": {
        "id": "o81B0-6Iigku"
      },
      "source": [
        "**How to break your codes flexibility**"
      ]
    },
    {
      "cell_type": "code",
      "metadata": {
        "id": "KAjooQtWik7d",
        "outputId": "1d3badb0-c3f6-4610-a48d-ad9e9ecdde13",
        "colab": {
          "base_uri": "https://localhost:8080/",
          "height": 34
        }
      },
      "source": [
        "L = [1, 2, 3]\n",
        "if type(L) == type([]):\n",
        "  print('yes')"
      ],
      "execution_count": null,
      "outputs": [
        {
          "output_type": "stream",
          "text": [
            "yes\n"
          ],
          "name": "stdout"
        }
      ]
    },
    {
      "cell_type": "code",
      "metadata": {
        "id": "MbwMpktYiqMo",
        "outputId": "4520674d-c604-4938-ccb3-bb9188c3aae8",
        "colab": {
          "base_uri": "https://localhost:8080/",
          "height": 34
        }
      },
      "source": [
        "if type(L) == list:\n",
        "  print('yes')"
      ],
      "execution_count": null,
      "outputs": [
        {
          "output_type": "stream",
          "text": [
            "yes\n"
          ],
          "name": "stdout"
        }
      ]
    },
    {
      "cell_type": "code",
      "metadata": {
        "id": "AcguQFffbhEa",
        "outputId": "35b24bf1-9143-40aa-f785-5860545da372",
        "colab": {
          "base_uri": "https://localhost:8080/",
          "height": 34
        }
      },
      "source": [
        "if isinstance(L, list):\n",
        "  print('yes')"
      ],
      "execution_count": null,
      "outputs": [
        {
          "output_type": "stream",
          "text": [
            "yes\n"
          ],
          "name": "stdout"
        }
      ]
    },
    {
      "cell_type": "markdown",
      "metadata": {
        "id": "1yIn3mvbbhEb"
      },
      "source": [
        "**Newer types**\n",
        "\n",
        "* Decimal, fraction (modules): see above\n",
        "* Boolean (bool, True, False): see next section\n",
        "* Sets: 2.4 (module in 2.3), 3.X/2.7 literal/comprehension\n",
        "* Other extension types: named tuple, collection (std lib)"
      ]
    },
    {
      "cell_type": "code",
      "metadata": {
        "id": "4K1YbAH2jM4V",
        "outputId": "0468b9c9-f349-4044-b9e9-a4fa2ef45d91",
        "colab": {
          "base_uri": "https://localhost:8080/",
          "height": 34
        }
      },
      "source": [
        "True + 2 # bool: True/False like 1/0 (next section)"
      ],
      "execution_count": null,
      "outputs": [
        {
          "output_type": "execute_result",
          "data": {
            "text/plain": [
              "3"
            ]
          },
          "metadata": {
            "tags": []
          },
          "execution_count": 102
        }
      ]
    },
    {
      "cell_type": "markdown",
      "metadata": {
        "id": "5oqnqKscjnl-"
      },
      "source": [
        "**Sets**"
      ]
    },
    {
      "cell_type": "code",
      "metadata": {
        "id": "IZ9JF0R_jqIG",
        "outputId": "339afcfc-afd2-43af-fabd-74b8f63a1fec",
        "colab": {
          "base_uri": "https://localhost:8080/",
          "height": 34
        }
      },
      "source": [
        "x = set('abcde') # set constructor\n",
        "y = set('bdxyz')\n",
        "x"
      ],
      "execution_count": null,
      "outputs": [
        {
          "output_type": "execute_result",
          "data": {
            "text/plain": [
              "{'a', 'b', 'c', 'd', 'e'}"
            ]
          },
          "metadata": {
            "tags": []
          },
          "execution_count": 103
        }
      ]
    },
    {
      "cell_type": "code",
      "metadata": {
        "id": "0ppsXNLSjt8e",
        "outputId": "27d6a12f-221a-45fb-dce4-b4a8c18456e9",
        "colab": {
          "base_uri": "https://localhost:8080/",
          "height": 34
        }
      },
      "source": [
        "'e' in x # membership"
      ],
      "execution_count": null,
      "outputs": [
        {
          "output_type": "execute_result",
          "data": {
            "text/plain": [
              "True"
            ]
          },
          "metadata": {
            "tags": []
          },
          "execution_count": 104
        }
      ]
    },
    {
      "cell_type": "code",
      "metadata": {
        "id": "kGP_hUiQjxGG",
        "outputId": "bc19eed4-6147-430b-bc0a-5eca431adcb9",
        "colab": {
          "base_uri": "https://localhost:8080/",
          "height": 34
        }
      },
      "source": [
        "x - y # difference"
      ],
      "execution_count": null,
      "outputs": [
        {
          "output_type": "execute_result",
          "data": {
            "text/plain": [
              "{'a', 'c', 'e'}"
            ]
          },
          "metadata": {
            "tags": []
          },
          "execution_count": 106
        }
      ]
    },
    {
      "cell_type": "code",
      "metadata": {
        "id": "ZccWNJK4j0rV",
        "outputId": "a31376bc-bafb-4e80-cdec-5107eeb1f24e",
        "colab": {
          "base_uri": "https://localhost:8080/",
          "height": 34
        }
      },
      "source": [
        "x | y # union"
      ],
      "execution_count": null,
      "outputs": [
        {
          "output_type": "execute_result",
          "data": {
            "text/plain": [
              "{'a', 'b', 'c', 'd', 'e', 'x', 'y', 'z'}"
            ]
          },
          "metadata": {
            "tags": []
          },
          "execution_count": 107
        }
      ]
    },
    {
      "cell_type": "code",
      "metadata": {
        "id": "_OGIj8z0j3GV",
        "outputId": "ce560fa7-5776-4139-e91f-64168ef266e1",
        "colab": {
          "base_uri": "https://localhost:8080/",
          "height": 34
        }
      },
      "source": [
        "x & y # intersection"
      ],
      "execution_count": null,
      "outputs": [
        {
          "output_type": "execute_result",
          "data": {
            "text/plain": [
              "{'b', 'd'}"
            ]
          },
          "metadata": {
            "tags": []
          },
          "execution_count": 108
        }
      ]
    },
    {
      "cell_type": "code",
      "metadata": {
        "id": "KiKvnG8Mj_Uu",
        "outputId": "553ae840-3a2d-4ee9-b84f-3fd8d64f354e",
        "colab": {
          "base_uri": "https://localhost:8080/",
          "height": 34
        }
      },
      "source": [
        "x = {'a', 'b', 'c', 'd'} # 3.X set literal\n",
        "x"
      ],
      "execution_count": null,
      "outputs": [
        {
          "output_type": "execute_result",
          "data": {
            "text/plain": [
              "{'a', 'b', 'c', 'd'}"
            ]
          },
          "metadata": {
            "tags": []
          },
          "execution_count": 110
        }
      ]
    },
    {
      "cell_type": "code",
      "metadata": {
        "id": "hFDIeWUEkCqF",
        "outputId": "e0147f52-03f0-4312-a85d-493662fbf093",
        "colab": {
          "base_uri": "https://localhost:8080/",
          "height": 34
        }
      },
      "source": [
        "{'b', 'd'} < x # subset test"
      ],
      "execution_count": null,
      "outputs": [
        {
          "output_type": "execute_result",
          "data": {
            "text/plain": [
              "True"
            ]
          },
          "metadata": {
            "tags": []
          },
          "execution_count": 111
        }
      ]
    },
    {
      "cell_type": "code",
      "metadata": {
        "id": "o7somRZrkFPd",
        "outputId": "d1f7b410-f837-4956-e393-ba41740a9bf7",
        "colab": {
          "base_uri": "https://localhost:8080/",
          "height": 34
        }
      },
      "source": [
        "{ord(c) for c in 'spam'} # 3.X set comprehension (ahead)"
      ],
      "execution_count": null,
      "outputs": [
        {
          "output_type": "execute_result",
          "data": {
            "text/plain": [
              "{97, 109, 112, 115}"
            ]
          },
          "metadata": {
            "tags": []
          },
          "execution_count": 112
        }
      ]
    },
    {
      "cell_type": "code",
      "metadata": {
        "id": "-UwpJY3_bhEc",
        "outputId": "88e566a4-cb56-4fbc-e967-a40db5a41ae3",
        "colab": {
          "base_uri": "https://localhost:8080/",
          "height": 34
        }
      },
      "source": [
        "{c: ord(c) for c in 'spam'} # 3.X dict comprehension (ahead)"
      ],
      "execution_count": null,
      "outputs": [
        {
          "output_type": "execute_result",
          "data": {
            "text/plain": [
              "{'a': 97, 'm': 109, 'p': 112, 's': 115}"
            ]
          },
          "metadata": {
            "tags": []
          },
          "execution_count": 113
        }
      ]
    },
    {
      "cell_type": "markdown",
      "metadata": {
        "id": "gC-mRqQdi0V9"
      },
      "source": [
        "###Built-in type gotchas"
      ]
    },
    {
      "cell_type": "markdown",
      "metadata": {
        "id": "dn_ixgZubhEe"
      },
      "source": [
        "*    Assignment creates references, not copies"
      ]
    },
    {
      "cell_type": "code",
      "metadata": {
        "id": "PYgCijzTktWt",
        "outputId": "f0b2f8fd-d2ff-4cb2-f089-e6a5b579be47",
        "colab": {
          "base_uri": "https://localhost:8080/",
          "height": 34
        }
      },
      "source": [
        "L = [1, 2, 3]\n",
        "M = ['X', L, 'Y']\n",
        "M"
      ],
      "execution_count": null,
      "outputs": [
        {
          "output_type": "execute_result",
          "data": {
            "text/plain": [
              "['X', [1, 2, 3], 'Y']"
            ]
          },
          "metadata": {
            "tags": []
          },
          "execution_count": 114
        }
      ]
    },
    {
      "cell_type": "code",
      "metadata": {
        "id": "8DqoS90DbhEf",
        "outputId": "68dfbaf6-3f88-49c7-ddc2-dac2dd259d1c",
        "colab": {
          "base_uri": "https://localhost:8080/",
          "height": 34
        }
      },
      "source": [
        "L[1] = 0\n",
        "M"
      ],
      "execution_count": null,
      "outputs": [
        {
          "output_type": "execute_result",
          "data": {
            "text/plain": [
              "['X', [1, 0, 3], 'Y']"
            ]
          },
          "metadata": {
            "tags": []
          },
          "execution_count": 115
        }
      ]
    },
    {
      "cell_type": "markdown",
      "metadata": {
        "id": "EG_zeoONbhEh"
      },
      "source": [
        "*    Repetition adds 1-level deep"
      ]
    },
    {
      "cell_type": "code",
      "metadata": {
        "id": "Q1W0-mlRk0rd",
        "outputId": "201ab0d2-35c2-40ab-cc08-8d5119e64518",
        "colab": {
          "base_uri": "https://localhost:8080/",
          "height": 51
        }
      },
      "source": [
        "L = [4, 5, 6]\n",
        "X = L * 4 # like [4, 5, 6] + [4, 5, 6] + ...\n",
        "Y = [L] * 4 # [L] + [L] + ... = [L, L,...]\n",
        "X, Y"
      ],
      "execution_count": null,
      "outputs": [
        {
          "output_type": "execute_result",
          "data": {
            "text/plain": [
              "([4, 5, 6, 4, 5, 6, 4, 5, 6, 4, 5, 6],\n",
              " [[4, 5, 6], [4, 5, 6], [4, 5, 6], [4, 5, 6]])"
            ]
          },
          "metadata": {
            "tags": []
          },
          "execution_count": 116
        }
      ]
    },
    {
      "cell_type": "code",
      "metadata": {
        "id": "9NWYPKTNbhEi",
        "outputId": "0fd9a301-44e8-4d4c-bbea-dc2a21c152c7",
        "colab": {
          "base_uri": "https://localhost:8080/",
          "height": 51
        }
      },
      "source": [
        "L[1] = 0\n",
        "X, Y"
      ],
      "execution_count": null,
      "outputs": [
        {
          "output_type": "execute_result",
          "data": {
            "text/plain": [
              "([4, 5, 6, 4, 5, 6, 4, 5, 6, 4, 5, 6],\n",
              " [[4, 0, 6], [4, 0, 6], [4, 0, 6], [4, 0, 6]])"
            ]
          },
          "metadata": {
            "tags": []
          },
          "execution_count": 117
        }
      ]
    },
    {
      "cell_type": "markdown",
      "metadata": {
        "id": "y1v5dSdMbhEj"
      },
      "source": [
        "*    Cyclic structures print oddly (loop in 1.5)"
      ]
    },
    {
      "cell_type": "code",
      "metadata": {
        "id": "uFbhRTxJbhEj",
        "outputId": "fb0e93bf-1bec-451a-ec10-883d47e208cc",
        "colab": {
          "base_uri": "https://localhost:8080/",
          "height": 34
        }
      },
      "source": [
        "L = ['hi.']; L.append(L) # append reference to self\n",
        "L # dots=cycle today (no loop)"
      ],
      "execution_count": null,
      "outputs": [
        {
          "output_type": "execute_result",
          "data": {
            "text/plain": [
              "['hi.', [...]]"
            ]
          },
          "metadata": {
            "tags": []
          },
          "execution_count": 118
        }
      ]
    },
    {
      "cell_type": "markdown",
      "metadata": {
        "id": "flaK7VwIbhEk"
      },
      "source": [
        "*    Immutable types cant be changed in-place"
      ]
    },
    {
      "cell_type": "code",
      "metadata": {
        "id": "J7-wfR4YlI6X",
        "outputId": "ee671c53-a8f2-4120-9b8a-2a19fc148439",
        "colab": {
          "base_uri": "https://localhost:8080/",
          "height": 214
        }
      },
      "source": [
        "T = (1, 2, 3)\n",
        "print(\"ERROR EXPECTED\")\n",
        "T[2] = 4 # error!"
      ],
      "execution_count": null,
      "outputs": [
        {
          "output_type": "stream",
          "text": [
            "ERROR EXPECTED\n"
          ],
          "name": "stdout"
        },
        {
          "output_type": "error",
          "ename": "TypeError",
          "evalue": "ignored",
          "traceback": [
            "\u001b[0;31m---------------------------------------------------------------------------\u001b[0m",
            "\u001b[0;31mTypeError\u001b[0m                                 Traceback (most recent call last)",
            "\u001b[0;32m<ipython-input-120-1c0433a04f32>\u001b[0m in \u001b[0;36m<module>\u001b[0;34m()\u001b[0m\n\u001b[1;32m      1\u001b[0m \u001b[0mT\u001b[0m \u001b[0;34m=\u001b[0m \u001b[0;34m(\u001b[0m\u001b[0;36m1\u001b[0m\u001b[0;34m,\u001b[0m \u001b[0;36m2\u001b[0m\u001b[0;34m,\u001b[0m \u001b[0;36m3\u001b[0m\u001b[0;34m)\u001b[0m\u001b[0;34m\u001b[0m\u001b[0;34m\u001b[0m\u001b[0m\n\u001b[1;32m      2\u001b[0m \u001b[0mprint\u001b[0m\u001b[0;34m(\u001b[0m\u001b[0;34m\"ERROR EXPECTED\"\u001b[0m\u001b[0;34m)\u001b[0m\u001b[0;34m\u001b[0m\u001b[0;34m\u001b[0m\u001b[0m\n\u001b[0;32m----> 3\u001b[0;31m \u001b[0mT\u001b[0m\u001b[0;34m[\u001b[0m\u001b[0;36m2\u001b[0m\u001b[0;34m]\u001b[0m \u001b[0;34m=\u001b[0m \u001b[0;36m4\u001b[0m \u001b[0;31m# error!\u001b[0m\u001b[0;34m\u001b[0m\u001b[0;34m\u001b[0m\u001b[0m\n\u001b[0m",
            "\u001b[0;31mTypeError\u001b[0m: 'tuple' object does not support item assignment"
          ]
        }
      ]
    },
    {
      "cell_type": "code",
      "metadata": {
        "id": "lquouZFolOgp",
        "outputId": "a9a2219a-6a74-4653-e787-33b14cc25e38",
        "colab": {
          "base_uri": "https://localhost:8080/",
          "height": 34
        }
      },
      "source": [
        "T = T[:2] + (4,) # okay: (1, 2, 4)\n",
        "T"
      ],
      "execution_count": null,
      "outputs": [
        {
          "output_type": "execute_result",
          "data": {
            "text/plain": [
              "(1, 2, 4)"
            ]
          },
          "metadata": {
            "tags": []
          },
          "execution_count": 122
        }
      ]
    }
  ]
}