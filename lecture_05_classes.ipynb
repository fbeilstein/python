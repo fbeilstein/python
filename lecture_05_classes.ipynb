{
  "nbformat": 4,
  "nbformat_minor": 0,
  "metadata": {
    "colab": {
      "name": "lecture_05_classes.ipynb",
      "provenance": [],
      "authorship_tag": "ABX9TyOhgK1xwDxbfVvxH1YyzW/+",
      "include_colab_link": true
    },
    "kernelspec": {
      "name": "python3",
      "display_name": "Python 3"
    }
  },
  "cells": [
    {
      "cell_type": "markdown",
      "metadata": {
        "id": "view-in-github",
        "colab_type": "text"
      },
      "source": [
        "<a href=\"https://colab.research.google.com/github/fbeilstein/machine_learning/blob/master/lecture_05_classes.ipynb\" target=\"_parent\"><img src=\"https://colab.research.google.com/assets/colab-badge.svg\" alt=\"Open In Colab\"/></a>"
      ]
    },
    {
      "cell_type": "markdown",
      "metadata": {
        "id": "9lV1cXki6eNN",
        "colab_type": "text"
      },
      "source": [
        "##Classes\n"
      ]
    },
    {
      "cell_type": "markdown",
      "metadata": {
        "id": "mu5HZMsR6kfh",
        "colab_type": "text"
      },
      "source": [
        "**Why use classes?**\n",
        " \n",
        "*     Implementing new objects\n",
        "*      Multiple instances\n",
        "*      Customization via inheritance\n",
        "*      Operator overloading\n"
      ]
    },
    {
      "cell_type": "markdown",
      "metadata": {
        "id": "Zqfz0GiS6t9Y",
        "colab_type": "text"
      },
      "source": [
        "**Class topics**\n",
        "\n",
        "*     Class basics\n",
        "*     The class statement\n",
        "*     Class methods\n",
        "*     Attribute inheritance\n",
        "*     Operator overloading\n",
        "*     Name spaces and scopes\n",
        "*     OOP, inheritance, and composition\n",
        "*     Classes and methods are objects\n",
        "*     Odds and ends\n",
        "*     Class gotchas"
      ]
    },
    {
      "cell_type": "markdown",
      "metadata": {
        "id": "yKSAlDYN-fWq",
        "colab_type": "text"
      },
      "source": [
        "![ML position](https://raw.githubusercontent.com/fbeilstein/machine_learning/master/lecture_01_and_lecture_02_intro_and_python/objects_3d.png)"
      ]
    },
    {
      "cell_type": "markdown",
      "metadata": {
        "id": "b-Ow-75x-T5L",
        "colab_type": "text"
      },
      "source": [
        "![ML position](https://raw.githubusercontent.com/fbeilstein/machine_learning/master/lecture_01_and_lecture_02_intro_and_python/object.png)"
      ]
    },
    {
      "cell_type": "markdown",
      "metadata": {
        "id": "C66XtxAf-3He",
        "colab_type": "text"
      },
      "source": [
        "![ML position](https://raw.githubusercontent.com/fbeilstein/machine_learning/master/lecture_01_and_lecture_02_intro_and_python/inheritance.png)"
      ]
    },
    {
      "cell_type": "markdown",
      "metadata": {
        "id": "K6unZHGO-tKL",
        "colab_type": "text"
      },
      "source": [
        "![ML position](https://raw.githubusercontent.com/fbeilstein/machine_learning/master/lecture_01_and_lecture_02_intro_and_python/shapes_usage.png)"
      ]
    },
    {
      "cell_type": "markdown",
      "metadata": {
        "id": "qKbfBfW66z3w",
        "colab_type": "text"
      },
      "source": [
        "###OOP: The Big Picture\n"
      ]
    },
    {
      "cell_type": "markdown",
      "metadata": {
        "id": "fRLiT9Ap66sg",
        "colab_type": "text"
      },
      "source": [
        "**How it works**\n",
        "\n",
        "*      All about: object.attr\n",
        "*      Kicks off a search for first attr → inheritance\n",
        "*      Searches trees of linked namespace objects\n",
        "*      Search is DFLR (except in diamonds), per order in class headers\n",
        "*      Class objects: supers and subs\n",
        "*      Instance objects: generated from a class\n",
        "*      Classes can also define expression behavior"
      ]
    },
    {
      "cell_type": "markdown",
      "metadata": {
        "id": "yL9RhA-M7jaA",
        "colab_type": "text"
      },
      "source": [
        "![classes](https://learning-python.com/class/Workbook/unit07_files/image002.gif)\n",
        "\n",
        "```python\n",
        "class C1: # make class objects (ovals)\n",
        "class C2:\n",
        "class C3(C1, C2): # links to superclasses, search order\n",
        " \n",
        "\n",
        "I1 = C3() # make instance objects (rectangles)\n",
        "I2 = C3() # linked to their class\n",
        "I1.x # finds customized version in C3\n",
        "```"
      ]
    },
    {
      "cell_type": "markdown",
      "metadata": {
        "id": "r8U6luQg6eNS",
        "colab_type": "text"
      },
      "source": [
        "**Why OOP?**\n",
        "\n",
        "*      OOP great at code reuse, structure, and encapsulation\n",
        "*      Program by customizing in new levels of hierarchy, not changing\n",
        "*      Extra structure of classes virtually required once programs hit 1K lines (see frigcal)\n",
        "*      Inheritance: basis of specializing, customizing software lower in tree means customization\n",
        "*      Example: an employee database app company, departments, employees\n",
        "*      Much more complete than functional paradigm (though the two can often work together)\n"
      ]
    },
    {
      "cell_type": "markdown",
      "metadata": {
        "id": "y-eEQkE075H4",
        "colab_type": "text"
      },
      "source": [
        "###A first look: class basics\n"
      ]
    },
    {
      "cell_type": "markdown",
      "metadata": {
        "id": "KHVTyisW78Wg",
        "colab_type": "text"
      },
      "source": [
        "*   Multiple Instances\n",
        "*   Specialization by inheritance\n",
        "*   Implementing operators"
      ]
    },
    {
      "cell_type": "markdown",
      "metadata": {
        "id": "wocseSQJ8DAo",
        "colab_type": "text"
      },
      "source": [
        "**1. Classes generate multiple instance objects**\n",
        "\n",
        "*      Classes implement new objects: state + behavior\n",
        "*      Calling a class like a function makes a new instance\n",
        "*      Each instance inherits class attributes, and gets its own\n",
        "*      Assignments in class statements make class attributes\n",
        "*      Assignments to self.attr make per-instance attributes"
      ]
    },
    {
      "cell_type": "code",
      "metadata": {
        "id": "Jgub2Nyy9cu1",
        "colab_type": "code",
        "outputId": "7a588234-f206-4a4b-c0b6-e48a2c358889",
        "colab": {
          "base_uri": "https://localhost:8080/",
          "height": 51
        }
      },
      "source": [
        "class FirstClass: # define a class object\n",
        "  def setdata(self, value): # define class methods\n",
        "    self.data = value # self is the instance\n",
        " \n",
        "  def display(self):\n",
        "    print(self.data) # self.data: per instance\n",
        "\n",
        "    \n",
        "x = FirstClass() # make two instances\n",
        "y = FirstClass() # each is a new namespace\n",
        " \n",
        "x.setdata(\"King Arthur\") # call methods: self=x/y\n",
        "y.setdata(3.14159)\n",
        " \n",
        "\n",
        "x.display() # self.data differs in each\n",
        "y.display()"
      ],
      "execution_count": 0,
      "outputs": [
        {
          "output_type": "stream",
          "text": [
            "King Arthur\n",
            "3.14159\n"
          ],
          "name": "stdout"
        }
      ]
    },
    {
      "cell_type": "code",
      "metadata": {
        "id": "hh_owqZ-9mq4",
        "colab_type": "code",
        "outputId": "837f7fd2-3088-4de7-d9e1-fa574b1da951",
        "colab": {
          "base_uri": "https://localhost:8080/",
          "height": 34
        }
      },
      "source": [
        "x.data = \"New value\" # can get/set attributes\n",
        "x.display() # outside the class too"
      ],
      "execution_count": 0,
      "outputs": [
        {
          "output_type": "stream",
          "text": [
            "New value\n"
          ],
          "name": "stdout"
        }
      ]
    },
    {
      "cell_type": "markdown",
      "metadata": {
        "id": "LZSTl1Up9vVg",
        "colab_type": "text"
      },
      "source": [
        "![2classes](https://learning-python.com/class/Workbook/unit07_files/image004.gif)"
      ]
    },
    {
      "cell_type": "markdown",
      "metadata": {
        "id": "CbKEzMOu92vB",
        "colab_type": "text"
      },
      "source": [
        "**The worlds simplest Python class?**"
      ]
    },
    {
      "cell_type": "code",
      "metadata": {
        "id": "p-SfwMdHPh68",
        "colab_type": "code",
        "colab": {}
      },
      "source": [
        "# an empty class, class and instance attrs filled in later\n",
        "class rec: pass # empty namespace object"
      ],
      "execution_count": 0,
      "outputs": []
    },
    {
      "cell_type": "code",
      "metadata": {
        "id": "kJ6-2ZBbPoel",
        "colab_type": "code",
        "outputId": "14c3d6b7-2288-431c-e86b-3bf53d357ef3",
        "colab": {
          "base_uri": "https://localhost:8080/",
          "height": 34
        }
      },
      "source": [
        "rec.name = 'Bob' # just objects with attributes\n",
        "rec.age = 40\n",
        "\n",
        "print(rec.name) # like a struct in C, a record"
      ],
      "execution_count": 0,
      "outputs": [
        {
          "output_type": "stream",
          "text": [
            "Bob\n"
          ],
          "name": "stdout"
        }
      ]
    },
    {
      "cell_type": "code",
      "metadata": {
        "id": "i-FPS7pnPxUr",
        "colab_type": "code",
        "outputId": "686f28ae-8cdb-47d8-caa7-063275cf91c6",
        "colab": {
          "base_uri": "https://localhost:8080/",
          "height": 34
        }
      },
      "source": [
        "x = rec() # instances inherit class names\n",
        "y = rec()\n",
        "x.name, y.name"
      ],
      "execution_count": 0,
      "outputs": [
        {
          "output_type": "execute_result",
          "data": {
            "text/plain": [
              "('Bob', 'Bob')"
            ]
          },
          "metadata": {
            "tags": []
          },
          "execution_count": 3
        }
      ]
    },
    {
      "cell_type": "code",
      "metadata": {
        "id": "pvB4mbYRP1q-",
        "colab_type": "code",
        "outputId": "75330c77-5755-4bea-95bd-d5085b24e852",
        "colab": {
          "base_uri": "https://localhost:8080/",
          "height": 34
        }
      },
      "source": [
        "x.name = 'Sue' # but assignment changes x only\n",
        "rec.name, x.name, y.name"
      ],
      "execution_count": 0,
      "outputs": [
        {
          "output_type": "execute_result",
          "data": {
            "text/plain": [
              "('Bob', 'Sue', 'Bob')"
            ]
          },
          "metadata": {
            "tags": []
          },
          "execution_count": 4
        }
      ]
    },
    {
      "cell_type": "code",
      "metadata": {
        "id": "V6ME1Kq6QA4K",
        "colab_type": "code",
        "outputId": "8f8bcc6e-0125-4e13-a734-3902876cbd98",
        "colab": {
          "base_uri": "https://localhost:8080/",
          "height": 34
        }
      },
      "source": [
        "# really just linked dictionaries\n",
        "rec.__dict__.keys()"
      ],
      "execution_count": 0,
      "outputs": [
        {
          "output_type": "execute_result",
          "data": {
            "text/plain": [
              "dict_keys(['__module__', '__dict__', '__weakref__', '__doc__', 'name', 'age'])"
            ]
          },
          "metadata": {
            "tags": []
          },
          "execution_count": 5
        }
      ]
    },
    {
      "cell_type": "code",
      "metadata": {
        "id": "fEgIN66qQFGM",
        "colab_type": "code",
        "outputId": "0ac528cb-e5b5-4bac-d3b6-64d9b19433e2",
        "colab": {
          "base_uri": "https://localhost:8080/",
          "height": 34
        }
      },
      "source": [
        "x.__dict__.keys()"
      ],
      "execution_count": 0,
      "outputs": [
        {
          "output_type": "execute_result",
          "data": {
            "text/plain": [
              "dict_keys(['name'])"
            ]
          },
          "metadata": {
            "tags": []
          },
          "execution_count": 6
        }
      ]
    },
    {
      "cell_type": "code",
      "metadata": {
        "id": "DfziOU2uQIOF",
        "colab_type": "code",
        "outputId": "da681091-8bf1-49b7-c0a2-00f60b8a6889",
        "colab": {
          "base_uri": "https://localhost:8080/",
          "height": 34
        }
      },
      "source": [
        "y.__dict__.keys()"
      ],
      "execution_count": 0,
      "outputs": [
        {
          "output_type": "execute_result",
          "data": {
            "text/plain": [
              "dict_keys([])"
            ]
          },
          "metadata": {
            "tags": []
          },
          "execution_count": 7
        }
      ]
    },
    {
      "cell_type": "code",
      "metadata": {
        "id": "i9vs9WQ4QLb6",
        "colab_type": "code",
        "outputId": "aadb7f1f-31b4-43ea-97a6-273608089143",
        "colab": {
          "base_uri": "https://localhost:8080/",
          "height": 34
        }
      },
      "source": [
        "x.__class__"
      ],
      "execution_count": 0,
      "outputs": [
        {
          "output_type": "execute_result",
          "data": {
            "text/plain": [
              "__main__.rec"
            ]
          },
          "metadata": {
            "tags": []
          },
          "execution_count": 8
        }
      ]
    },
    {
      "cell_type": "code",
      "metadata": {
        "id": "MXbE-MGuQZi_",
        "colab_type": "code",
        "outputId": "9d4dfa54-9008-45da-f6ed-63cda7516055",
        "colab": {
          "base_uri": "https://localhost:8080/",
          "height": 34
        }
      },
      "source": [
        "# even methods can be created on the fly (but not typical)\n",
        " \n",
        "def upperName(self):\n",
        "  return self.name.upper() # still needs a self\n",
        "\n",
        "rec.method = upperName\n",
        "x.method()"
      ],
      "execution_count": 0,
      "outputs": [
        {
          "output_type": "execute_result",
          "data": {
            "text/plain": [
              "'SUE'"
            ]
          },
          "metadata": {
            "tags": []
          },
          "execution_count": 9
        }
      ]
    },
    {
      "cell_type": "code",
      "metadata": {
        "id": "Xkj9-FF4QcEL",
        "colab_type": "code",
        "outputId": "1c8f67eb-7f87-4ed2-dc35-df447995bc6e",
        "colab": {
          "base_uri": "https://localhost:8080/",
          "height": 34
        }
      },
      "source": [
        "y.method() # run method to process y"
      ],
      "execution_count": 0,
      "outputs": [
        {
          "output_type": "execute_result",
          "data": {
            "text/plain": [
              "'BOB'"
            ]
          },
          "metadata": {
            "tags": []
          },
          "execution_count": 10
        }
      ]
    },
    {
      "cell_type": "code",
      "metadata": {
        "id": "8QtbG84wQdiY",
        "colab_type": "code",
        "outputId": "54e42b25-95aa-4a54-b7b6-7bea3cb27511",
        "colab": {
          "base_uri": "https://localhost:8080/",
          "height": 34
        }
      },
      "source": [
        "rec.method(x) # can call through instance or class"
      ],
      "execution_count": 0,
      "outputs": [
        {
          "output_type": "execute_result",
          "data": {
            "text/plain": [
              "'SUE'"
            ]
          },
          "metadata": {
            "tags": []
          },
          "execution_count": 11
        }
      ]
    },
    {
      "cell_type": "markdown",
      "metadata": {
        "id": "XLLZn7dRQhT0",
        "colab_type": "text"
      },
      "source": [
        "**2. Classes are specialized by inheritance**\n",
        "\n",
        "*      Superclasses listed in parenthesis in class's header\n",
        "*      Classes inherit attributes from their superclasses\n",
        "*      Instances inherit attributes from all accessible classes\n",
        "*      Logic changes made in subclasses, not in-place"
      ]
    },
    {
      "cell_type": "code",
      "metadata": {
        "id": "LIBC00nrXEuY",
        "colab_type": "code",
        "outputId": "6a0d8edd-db75-4263-c4a0-d5ffde9efe0e",
        "colab": {
          "base_uri": "https://localhost:8080/",
          "height": 34
        }
      },
      "source": [
        "class SecondClass(FirstClass): # inherits setdata\n",
        "  def display(self): # changes display\n",
        "    print('Current value = \"%s\"' % self.data)\n",
        "\n",
        "z = SecondClass()\n",
        "z.setdata(42) # setdata found in FirstClass\n",
        "z.display() # finds/calls overridden method"
      ],
      "execution_count": 0,
      "outputs": [
        {
          "output_type": "stream",
          "text": [
            "Current value = \"42\"\n"
          ],
          "name": "stdout"
        }
      ]
    },
    {
      "cell_type": "code",
      "metadata": {
        "id": "yQsQJ_T16eNS",
        "colab_type": "code",
        "outputId": "d045c1db-2d01-4592-b813-9d71db4d01ea",
        "colab": {
          "base_uri": "https://localhost:8080/",
          "height": 34
        }
      },
      "source": [
        "x.display() # x is a FirstClass instance"
      ],
      "execution_count": 0,
      "outputs": [
        {
          "output_type": "stream",
          "text": [
            "King Arthur\n"
          ],
          "name": "stdout"
        }
      ]
    },
    {
      "cell_type": "markdown",
      "metadata": {
        "id": "mofMReahaG8J",
        "colab_type": "text"
      },
      "source": [
        "![second class](https://learning-python.com/class/Workbook/unit07_files/image006.gif)"
      ]
    },
    {
      "cell_type": "markdown",
      "metadata": {
        "id": "7nZBKGAk6eNV",
        "colab_type": "text"
      },
      "source": [
        "**3. Classes can intercept Python operators**\n",
        "\n",
        "*      Methods with names like \"__X__\" are special hooks\n",
        "*      Called automatically when Python evaluates operators\n",
        "*      Classes may override most built-in type operations\n",
        "*      Allows classes to integrate with Python's object model"
      ]
    },
    {
      "cell_type": "code",
      "metadata": {
        "id": "UePR48wJXoqo",
        "colab_type": "code",
        "outputId": "5cd3ba69-93ac-4b78-d10e-68afc87fc260",
        "colab": {
          "base_uri": "https://localhost:8080/",
          "height": 34
        }
      },
      "source": [
        "class ThirdClass(SecondClass): # isa SecondClass\n",
        "  def __init__(self, value): # \"ThirdClass(x)\"\n",
        "    self.data = value\n",
        "\n",
        "  def __add__(self, other): # \"self + other\"\n",
        "    return ThirdClass(self.data + other)\n",
        "\n",
        "  def __mul__(self, other):\n",
        "    self.data = self.data * other # \"self * other\"\n",
        "\n",
        "a = ThirdClass(\"abc\") # new __init__ called\n",
        "a.display() # inherited method"
      ],
      "execution_count": 0,
      "outputs": [
        {
          "output_type": "stream",
          "text": [
            "Current value = \"abc\"\n"
          ],
          "name": "stdout"
        }
      ]
    },
    {
      "cell_type": "code",
      "metadata": {
        "id": "Eb8OdSNFXxpV",
        "colab_type": "code",
        "outputId": "30e53b02-2f27-4f15-f2fb-bf7c3067a3bd",
        "colab": {
          "base_uri": "https://localhost:8080/",
          "height": 34
        }
      },
      "source": [
        "b = a.__add__(\"de\") # new __add__ called\n",
        "b.display()"
      ],
      "execution_count": 0,
      "outputs": [
        {
          "output_type": "stream",
          "text": [
            "Current value = \"abcde\"\n"
          ],
          "name": "stdout"
        }
      ]
    },
    {
      "cell_type": "code",
      "metadata": {
        "id": "FD7kOIgT6eNW",
        "colab_type": "code",
        "outputId": "33170a29-d62b-41c8-bbde-10cf545d118b",
        "colab": {
          "base_uri": "https://localhost:8080/",
          "height": 34
        }
      },
      "source": [
        "a * 3 # new __mul__ called\n",
        "a.display()"
      ],
      "execution_count": 0,
      "outputs": [
        {
          "output_type": "stream",
          "text": [
            "Current value = \"abcabcabc\"\n"
          ],
          "name": "stdout"
        }
      ]
    },
    {
      "cell_type": "markdown",
      "metadata": {
        "id": "6EaAq34Jc-o7",
        "colab_type": "text"
      },
      "source": [
        "![overload](https://learning-python.com/class/Workbook/unit07_files/image008.gif)"
      ]
    },
    {
      "cell_type": "markdown",
      "metadata": {
        "id": "mg6R0EuDYvaO",
        "colab_type": "text"
      },
      "source": [
        "###A closer look: class terminology"
      ]
    },
    {
      "cell_type": "markdown",
      "metadata": {
        "id": "WbFVjE2ydM54",
        "colab_type": "text"
      },
      "source": [
        "  - Dynamic typing and polymorphism are keys to Python\n",
        "  - self and __init__ are key concepts in Python OOP"
      ]
    },
    {
      "cell_type": "markdown",
      "metadata": {
        "id": "_kCEMLLR6eNY",
        "colab_type": "text"
      },
      "source": [
        "*     Class\n",
        "  *      An object (and statement) which defines inherited members and methods\n",
        "*     Instance\n",
        "  *      Objects created from a class, which inherit its attributes; each instance is a new namespace\n",
        "*     Member\n",
        "  *      An attribute of a class or instance object, that is bound to an object\n",
        "*     Method\n",
        "  *      An attribute of a class object, that is bound to a function object (a callable member)\n",
        "*     Self\n",
        "  *      By convention, the name given to the implied instance object in methods\n",
        "*     Inheritance\n",
        "  *      When an instance or class accesses a classes attributes\n",
        "*     Superclass\n",
        "  *      Class or classes another class inherits attributes from\n",
        "*     Subclass\n",
        "  *      Class which inherits attribute names from another class"
      ]
    },
    {
      "cell_type": "markdown",
      "metadata": {
        "id": "9T8hMs0XdhJW",
        "colab_type": "text"
      },
      "source": [
        "###Using the class statement"
      ]
    },
    {
      "cell_type": "markdown",
      "metadata": {
        "id": "Ag_DWqIrdjo4",
        "colab_type": "text"
      },
      "source": [
        "*     Pythons main OOP tool (like C++)\n",
        "*     Superclasses are listed in parenthesis\n",
        "*     Special protocols, operator overloading: __X__\n",
        "*     Multiple inheritance: class X(A, B, C)\n",
        "*     Search = DFLR, except for new-style BF in diamonds"
      ]
    },
    {
      "cell_type": "markdown",
      "metadata": {
        "id": "fdxT8rQydttw",
        "colab_type": "text"
      },
      "source": [
        "**General form**\n",
        "\n",
        "```python\n",
        "class <name>(superclass,): # assign to name\n",
        "  data = value # shared class data\n",
        "  \n",
        "  def method(self,): # methods\n",
        "    self.member = value # per-instance data\n",
        "```"
      ]
    },
    {
      "cell_type": "markdown",
      "metadata": {
        "id": "nUYgrLAa6eNc",
        "colab_type": "text"
      },
      "source": [
        "**Example**\n",
        "\n",
        "*      class introduces a new local scope\n",
        "*      Assignments in class create class object attributes\n",
        "*      self.name = X creates/changes instance attribute"
      ]
    },
    {
      "cell_type": "code",
      "metadata": {
        "id": "REqvul0m6eNd",
        "colab_type": "code",
        "outputId": "49d4ff69-caf6-41c8-bb11-ddd819f0563c",
        "colab": {
          "base_uri": "https://localhost:8080/",
          "height": 51
        }
      },
      "source": [
        "class Subclass(ThirdClass): # define subclass\n",
        "  data = 'spam' # assign class attr\n",
        "\n",
        "  def __init__(self, value): # assign class attr\n",
        "    self.data = value # assign instance attr\n",
        "\n",
        "  def display(self):\n",
        "    print(self.data, Subclass.data) # instance, class\n",
        "\n",
        "    \n",
        "x, y = Subclass(1), Subclass(2)\n",
        "x.display(); y.display()"
      ],
      "execution_count": 0,
      "outputs": [
        {
          "output_type": "stream",
          "text": [
            "1 spam\n",
            "2 spam\n"
          ],
          "name": "stdout"
        }
      ]
    },
    {
      "cell_type": "markdown",
      "metadata": {
        "id": "YIKYt-UsItz_",
        "colab_type": "text"
      },
      "source": [
        "###Using class methods"
      ]
    },
    {
      "cell_type": "markdown",
      "metadata": {
        "id": "wwbeMbun6eNf",
        "colab_type": "text"
      },
      "source": [
        "*     class statement creates and assigns a class object\n",
        "*     Calling a class object generates an instance object\n",
        "*     Class methods provide behavior for instance objects\n",
        "*     Methods are nested def functions, with a self\n",
        "*     self is passed the implied instance object\n",
        "*     Methods are all public and virtual in C++ terms"
      ]
    },
    {
      "cell_type": "markdown",
      "metadata": {
        "id": "_dLkz2v5jMD0",
        "colab_type": "text"
      },
      "source": [
        "![subclass](https://learning-python.com/class/Workbook/unit07_files/image010.gif)"
      ]
    },
    {
      "cell_type": "markdown",
      "metadata": {
        "id": "P3vrEeVXjT5B",
        "colab_type": "text"
      },
      "source": [
        "**Example**"
      ]
    },
    {
      "cell_type": "code",
      "metadata": {
        "id": "DwvCKram6eNg",
        "colab_type": "code",
        "outputId": "4af1edfe-1251-44d1-f0a3-dea0496179fc",
        "colab": {
          "base_uri": "https://localhost:8080/",
          "height": 34
        }
      },
      "source": [
        "class NextClass: # define class\n",
        "  def printer(self, text): # define method\n",
        "    print(text)\n",
        "\n",
        "x = NextClass() # make instance\n",
        "x.printer('Hello world!') # call its method"
      ],
      "execution_count": 0,
      "outputs": [
        {
          "output_type": "stream",
          "text": [
            "Hello world!\n"
          ],
          "name": "stdout"
        }
      ]
    },
    {
      "cell_type": "code",
      "metadata": {
        "id": "93Wrpqg-jly0",
        "colab_type": "code",
        "outputId": "673532db-d8cc-4553-b108-12051215b509",
        "colab": {
          "base_uri": "https://localhost:8080/",
          "height": 34
        }
      },
      "source": [
        "NextClass.printer(x, 'Hello!') # class method"
      ],
      "execution_count": 0,
      "outputs": [
        {
          "output_type": "stream",
          "text": [
            "Hello!\n"
          ],
          "name": "stdout"
        }
      ]
    },
    {
      "cell_type": "markdown",
      "metadata": {
        "id": "NvOg9axJ6eNi",
        "colab_type": "text"
      },
      "source": [
        "**Commonly used for calling superclass constructors**\n",
        "\n",
        "```python\n",
        "class Super:\n",
        "  def __init__(self, x):\n",
        "    default code\n",
        "\n",
        "class Sub(Super):\n",
        "  def __init__(self, x, y):\n",
        "    Super.__init__(self, x) # run superclass init\n",
        "    custom code # do my init actions\n",
        "\n",
        "I = Sub(1, 2)\n",
        "\n",
        "# See also: super() built-in for generic superclass access\n",
        "# But this call has major issues in multiple-inheritance trees\n",
        "```"
      ]
    },
    {
      "cell_type": "markdown",
      "metadata": {
        "id": "CJ5rLovP6eNl",
        "colab_type": "text"
      },
      "source": [
        "###Customization via inheritance"
      ]
    },
    {
      "cell_type": "markdown",
      "metadata": {
        "id": "2VN84ytLkUrR",
        "colab_type": "text"
      },
      "source": [
        "*     Inheritance uses attribute definition tree (namespaces)\n",
        "*     object.attr searches up namespace tree for first attr\n",
        "*     Lower definitions in the tree override higher ones"
      ]
    },
    {
      "cell_type": "markdown",
      "metadata": {
        "id": "ZEDZzlNUkcAe",
        "colab_type": "text"
      },
      "source": [
        "**Attribute tree construction:**\n",
        " \n",
        "1.    Instance → assignments to self attributes\n",
        "2.    Class → statements (assignments) in class statements\n",
        "3.    Superclasses → classes listed in parenthesis in header"
      ]
    },
    {
      "cell_type": "markdown",
      "metadata": {
        "id": "51-Tx1z2klr_",
        "colab_type": "text"
      },
      "source": [
        "![iheritance](https://learning-python.com/class/Workbook/unit07_files/image012.gif)"
      ]
    },
    {
      "cell_type": "markdown",
      "metadata": {
        "id": "553L1RLTkkuI",
        "colab_type": "text"
      },
      "source": [
        "###Specializing inherited methods"
      ]
    },
    {
      "cell_type": "markdown",
      "metadata": {
        "id": "GlJQ3gNbkwEA",
        "colab_type": "text"
      },
      "source": [
        "*     Inheritance finds names in subclass before superclass\n",
        "*     Subclasses may inherit, replace, extend, or provide\n",
        "*     Direct superclass method calls: Class.method(self,)"
      ]
    },
    {
      "cell_type": "code",
      "metadata": {
        "id": "3B81a5qd6eNm",
        "colab_type": "code",
        "outputId": "3c9533ff-de7d-49c4-b404-5b93eab83de2",
        "colab": {
          "base_uri": "https://localhost:8080/",
          "height": 34
        }
      },
      "source": [
        "class Super:\n",
        "  def method(self):\n",
        "    print('in Super.method')\n",
        "\n",
        "\n",
        "class Sub(Super):\n",
        "  def method(self):\n",
        "    print('starting Sub.method')\n",
        "    Super.method(self)\n",
        "    print('ending Sub.method')\n",
        "\n",
        "\n",
        "x = Super()\n",
        "x.method()"
      ],
      "execution_count": 0,
      "outputs": [
        {
          "output_type": "stream",
          "text": [
            "in Super.method\n"
          ],
          "name": "stdout"
        }
      ]
    },
    {
      "cell_type": "code",
      "metadata": {
        "id": "XPT7qZdalYc-",
        "colab_type": "code",
        "outputId": "c3af2384-a244-4fbe-ddae-4eb6b39e6647",
        "colab": {
          "base_uri": "https://localhost:8080/",
          "height": 68
        }
      },
      "source": [
        "x = Sub()\n",
        "x.method()"
      ],
      "execution_count": 0,
      "outputs": [
        {
          "output_type": "stream",
          "text": [
            "starting Sub.method\n",
            "in Super.method\n",
            "ending Sub.method\n"
          ],
          "name": "stdout"
        }
      ]
    },
    {
      "cell_type": "markdown",
      "metadata": {
        "id": "1JH2AbGm6eNq",
        "colab_type": "text"
      },
      "source": [
        "![inh](https://learning-python.com/class/Workbook/unit07_files/image014.gif)"
      ]
    },
    {
      "cell_type": "code",
      "metadata": {
        "id": "NJDAS1aH6eNr",
        "colab_type": "code",
        "outputId": "dbda630a-316d-430f-8221-0f480cccb064",
        "colab": {
          "base_uri": "https://localhost:8080/",
          "height": 357
        }
      },
      "source": [
        "class Super:\n",
        "  def method(self):\n",
        "    print('in Super.method') # default\n",
        "    \n",
        "  def delegate(self):\n",
        "    self.action() # expected\n",
        "\n",
        "\n",
        "class Inheritor(Super):\n",
        "  pass\n",
        "\n",
        "\n",
        "class Replacer(Super):\n",
        "  def method(self):\n",
        "    print('in Replacer.method')\n",
        "\n",
        "\n",
        "class Extender(Super):\n",
        "  def method(self):\n",
        "    print('starting Extender.method')\n",
        "    Super.method(self)\n",
        "    print('ending Extender.method')\n",
        "\n",
        "\n",
        "class Provider(Super):\n",
        "  def action(self):\n",
        "    print('in Provider.action')\n",
        "\n",
        "\n",
        "for klass in (Inheritor, Replacer, Extender):\n",
        "  print('\\n' + klass.__name__ + '')\n",
        "  klass().method()\n",
        "  print('\\nProvider')\n",
        "  Provider().delegate()"
      ],
      "execution_count": 0,
      "outputs": [
        {
          "output_type": "stream",
          "text": [
            "\n",
            "Inheritor\n",
            "in Super.method\n",
            "\n",
            "Provider\n",
            "in Provider.action\n",
            "\n",
            "Replacer\n",
            "in Replacer.method\n",
            "\n",
            "Provider\n",
            "in Provider.action\n",
            "\n",
            "Extender\n",
            "starting Extender.method\n",
            "in Super.method\n",
            "ending Extender.method\n",
            "\n",
            "Provider\n",
            "in Provider.action\n"
          ],
          "name": "stdout"
        }
      ]
    },
    {
      "cell_type": "markdown",
      "metadata": {
        "id": "sYrwnSNq6eNy",
        "colab_type": "text"
      },
      "source": [
        "###Operator overloading in classes"
      ]
    },
    {
      "cell_type": "markdown",
      "metadata": {
        "id": "9_HyRtkemt86",
        "colab_type": "text"
      },
      "source": [
        "*     Lets classes intercept normal Python operations\n",
        "*     Can overload all Python expression operators\n",
        "*     Can overload object operations: print, call, qualify,\n",
        "*     Makes class instances more like built-in types\n",
        "*     Via providing specially-named class methods"
      ]
    },
    {
      "cell_type": "code",
      "metadata": {
        "id": "sGvR4BIO6eNz",
        "colab_type": "code",
        "outputId": "3f00298c-cbcb-404e-c48a-d80fa9f52866",
        "colab": {
          "base_uri": "https://localhost:8080/",
          "height": 34
        }
      },
      "source": [
        "class Number:\n",
        "  def __init__(self, start): # on Number()\n",
        "    self.data = start\n",
        "    \n",
        "  def __add__(self, other): # on x + other\n",
        "    return Number(self.data + other)\n",
        "  \n",
        "\n",
        "X = Number(4)\n",
        "Y = X + 2\n",
        "Y.data  "
      ],
      "execution_count": 0,
      "outputs": [
        {
          "output_type": "execute_result",
          "data": {
            "text/plain": [
              "6"
            ]
          },
          "metadata": {
            "tags": []
          },
          "execution_count": 62
        }
      ]
    },
    {
      "cell_type": "markdown",
      "metadata": {
        "id": "lxab6FTTnBu8",
        "colab_type": "text"
      },
      "source": [
        "![ovl](https://learning-python.com/class/Workbook/unit07_files/image016.gif)"
      ]
    },
    {
      "cell_type": "markdown",
      "metadata": {
        "id": "1G9Kzcov6eN6",
        "colab_type": "text"
      },
      "source": [
        "**Common operator overloading methods**\n",
        " \n",
        "*     Special method names have 2 _ before and after\n",
        "*     See Python manuals or reference books for the full set"
      ]
    },
    {
      "cell_type": "markdown",
      "metadata": {
        "id": "ueurGRqvsPQ0",
        "colab_type": "text"
      },
      "source": [
        "Method | Overloads | Called for\n",
        "---|---|---\n",
        "__init__ | Constructor | object creation: X()\n",
        "__del__ | Destructor | object reclamation\n",
        "__add__ | operator + | X + Y\n",
        "__or__ | operator \\| | X \\| Y\n",
        "__repr__ | Printing | print X, `X`\n",
        "__call__ | function calls | X()\n",
        "__getattr__ | Qualification | X.undefined\n",
        "__getitem__ | Indexing | X[key], iteration, in\n",
        "__setitem__ | Qualification | X[key] = value\n",
        "__len__ | Length | len(X), truth tests\n",
        "__cmp__ | Comparison, 2.X | X == Y, X < Y\n",
        "__radd__ | operator + | non-instance + X\n",
        "__iter__ | iteration | for item in X, I=iter(X)\n",
        "__next__ | iteration | next(I)\n"
      ]
    },
    {
      "cell_type": "markdown",
      "metadata": {
        "id": "XKS_dbhzs3rt",
        "colab_type": "text"
      },
      "source": [
        " **Examples**\n",
        " \n",
        "*     call: a function interface, with memory"
      ]
    },
    {
      "cell_type": "code",
      "metadata": {
        "id": "EqEaOlw26eN7",
        "colab_type": "code",
        "outputId": "672a7597-1c1b-4ce6-ce5c-23ad7f59b1a1",
        "colab": {
          "base_uri": "https://localhost:8080/",
          "height": 51
        }
      },
      "source": [
        "class Callback:\n",
        "  def __init__(self, color): # state information\n",
        "    self.color = color\n",
        "\n",
        "  def __call__(self, *args): # support calls\n",
        "    print('turn', self.color)\n",
        "\n",
        "      \n",
        "cb1 = Callback('blue') # remember blue\n",
        "cb2 = Callback('green')\n",
        "\n",
        "cb1() # on events\n",
        "cb2()"
      ],
      "execution_count": 0,
      "outputs": [
        {
          "output_type": "stream",
          "text": [
            "turn blue\n",
            "turn green\n"
          ],
          "name": "stdout"
        }
      ]
    },
    {
      "cell_type": "code",
      "metadata": {
        "id": "LlkNi8fWwHVa",
        "colab_type": "code",
        "outputId": "1c394bc8-2d75-4b6e-ca33-9d402dbab69d",
        "colab": {
          "base_uri": "https://localhost:8080/",
          "height": 34
        }
      },
      "source": [
        "cb3 = (lambda color='red': 'turn ' + color) # or: defaults\n",
        "cb3()"
      ],
      "execution_count": 0,
      "outputs": [
        {
          "output_type": "execute_result",
          "data": {
            "text/plain": [
              "'turn red'"
            ]
          },
          "metadata": {
            "tags": []
          },
          "execution_count": 7
        }
      ]
    },
    {
      "cell_type": "markdown",
      "metadata": {
        "id": "xlO2Axwy6eN9",
        "colab_type": "text"
      },
      "source": [
        "*     getitem intercepts all index references"
      ]
    },
    {
      "cell_type": "code",
      "metadata": {
        "id": "TRD8rweg6eN-",
        "colab_type": "code",
        "outputId": "175b9cba-db75-4658-98c5-eb019e9591bf",
        "colab": {
          "base_uri": "https://localhost:8080/",
          "height": 102
        }
      },
      "source": [
        "class indexer:\n",
        "  def __getitem__(self, index):\n",
        "    return index ** 2\n",
        "\n",
        "X = indexer()\n",
        "for i in range(5):\n",
        "  print(X[i]) # __getitem__"
      ],
      "execution_count": 0,
      "outputs": [
        {
          "output_type": "stream",
          "text": [
            "0\n",
            "1\n",
            "4\n",
            "9\n",
            "16\n"
          ],
          "name": "stdout"
        }
      ]
    },
    {
      "cell_type": "markdown",
      "metadata": {
        "id": "BAqhvydK6eOB",
        "colab_type": "text"
      },
      "source": [
        "*     getattr catches undefined attribute references"
      ]
    },
    {
      "cell_type": "code",
      "metadata": {
        "id": "pCsnos3c6eOC",
        "colab_type": "code",
        "outputId": "48ec803c-9b0e-4141-e619-b42619fc2580",
        "colab": {
          "base_uri": "https://localhost:8080/",
          "height": 34
        }
      },
      "source": [
        "class empty:\n",
        "  def __getattr__(self, attrname):\n",
        "    return attrname + ' not supported!'\n",
        "\n",
        "X = empty()\n",
        "X.age # __getattr__"
      ],
      "execution_count": 0,
      "outputs": [
        {
          "output_type": "execute_result",
          "data": {
            "text/plain": [
              "'age not supported!'"
            ]
          },
          "metadata": {
            "tags": []
          },
          "execution_count": 9
        }
      ]
    },
    {
      "cell_type": "markdown",
      "metadata": {
        "id": "jS98tGhD6eOG",
        "colab_type": "text"
      },
      "source": [
        "*     init called on instance creation\n",
        "*     add intercepts + expressions\n",
        "*     repr returns a string when called by print"
      ]
    },
    {
      "cell_type": "code",
      "metadata": {
        "id": "02OINAO06eOI",
        "colab_type": "code",
        "outputId": "ca5ac134-1380-4572-c57d-030bbb908413",
        "colab": {
          "base_uri": "https://localhost:8080/",
          "height": 34
        }
      },
      "source": [
        "class adder:\n",
        "  def __init__(self, value=0):\n",
        "    self.data = value # init data\n",
        "\n",
        "  def __add__(self, other):\n",
        "    self.data = self.data + other # add other\n",
        "\n",
        "  def __repr__(self):\n",
        "    return str(self.data) # to string\n",
        "\n",
        "X = adder(1) # __init__\n",
        "X + 2 # __add__\n",
        "X + 2 # __add__\n",
        "X # __repr__"
      ],
      "execution_count": 0,
      "outputs": [
        {
          "output_type": "execute_result",
          "data": {
            "text/plain": [
              "5"
            ]
          },
          "metadata": {
            "tags": []
          },
          "execution_count": 15
        }
      ]
    },
    {
      "cell_type": "markdown",
      "metadata": {
        "id": "SxQb0hUB6eOK",
        "colab_type": "text"
      },
      "source": [
        "*     iter called on start of iterations, auto or manual\n",
        "*     next called to fetch each item along the way"
      ]
    },
    {
      "cell_type": "code",
      "metadata": {
        "id": "deV3fwZD6eOL",
        "colab_type": "code",
        "outputId": "09d5cbdf-9abf-4691-f258-317c6eb75b12",
        "colab": {
          "base_uri": "https://localhost:8080/",
          "height": 85
        }
      },
      "source": [
        "class squares:\n",
        "  def __init__(self, start): # on squares()\n",
        "    self.count = start\n",
        "    \n",
        "  def __iter__(self): # on iter()\n",
        "    return self # or other object with state\n",
        "  \n",
        "  def __next__(self): # on next()\n",
        "    if self.count == 1:\n",
        "      raise StopIteration # end iteration\n",
        "    else:\n",
        "      self.count -= 1\n",
        "    return self.count ** 2\n",
        "\n",
        "  \n",
        "for i in squares(5): # automatic iterations\n",
        "  print(i)"
      ],
      "execution_count": 0,
      "outputs": [
        {
          "output_type": "stream",
          "text": [
            "16\n",
            "9\n",
            "4\n",
            "1\n"
          ],
          "name": "stdout"
        }
      ]
    },
    {
      "cell_type": "code",
      "metadata": {
        "id": "g9JUPHTVPSxp",
        "colab_type": "code",
        "outputId": "1d0445be-aed2-4cfb-ce33-1351a2e2dd96",
        "colab": {
          "base_uri": "https://localhost:8080/",
          "height": 34
        }
      },
      "source": [
        "S = squares(10) # manual iterations\n",
        "I = iter(S) # iter() optional if returns self\n",
        "next(I)"
      ],
      "execution_count": 0,
      "outputs": [
        {
          "output_type": "execute_result",
          "data": {
            "text/plain": [
              "81"
            ]
          },
          "metadata": {
            "tags": []
          },
          "execution_count": 17
        }
      ]
    },
    {
      "cell_type": "code",
      "metadata": {
        "id": "7YBHYMPpPlCU",
        "colab_type": "code",
        "outputId": "b1f6e506-7b7c-4da7-8b2d-9addcd10683a",
        "colab": {
          "base_uri": "https://localhost:8080/",
          "height": 34
        }
      },
      "source": [
        "next(I)"
      ],
      "execution_count": 0,
      "outputs": [
        {
          "output_type": "execute_result",
          "data": {
            "text/plain": [
              "64"
            ]
          },
          "metadata": {
            "tags": []
          },
          "execution_count": 18
        }
      ]
    },
    {
      "cell_type": "code",
      "metadata": {
        "id": "CFb7AyqYPpS3",
        "colab_type": "code",
        "outputId": "b91e6ec3-0ee5-4046-bec8-cadd12f4154f",
        "colab": {
          "base_uri": "https://localhost:8080/",
          "height": 34
        }
      },
      "source": [
        "list(I)"
      ],
      "execution_count": 0,
      "outputs": [
        {
          "output_type": "execute_result",
          "data": {
            "text/plain": [
              "[49, 36, 25, 16, 9, 4, 1]"
            ]
          },
          "metadata": {
            "tags": []
          },
          "execution_count": 19
        }
      ]
    },
    {
      "cell_type": "markdown",
      "metadata": {
        "id": "43APBT846eOO",
        "colab_type": "text"
      },
      "source": [
        "*     Attribute access management\n",
        "      - setattr: partial attribute privacy for Python classes\n",
        "      - getattr: full get/set attribute privacy for Python classes"
      ]
    },
    {
      "cell_type": "markdown",
      "metadata": {
        "id": "LwgEh8TFP7jj",
        "colab_type": "text"
      },
      "source": [
        "###Namespace rules: the whole story"
      ]
    },
    {
      "cell_type": "markdown",
      "metadata": {
        "id": "PiuRC7J-P_v5",
        "colab_type": "text"
      },
      "source": [
        "*     Unqualified names (X) deal with lexical scopes\n",
        "*     Qualified names (O.X) use object namespaces\n",
        "*     Scopes initialize object namespaces: modules, classes"
      ]
    },
    {
      "cell_type": "markdown",
      "metadata": {
        "id": "dCGqVvV6QFSD",
        "colab_type": "text"
      },
      "source": [
        "**The Zen of Python Namespaces**"
      ]
    },
    {
      "cell_type": "code",
      "metadata": {
        "id": "gbC9Y-t16eOP",
        "colab_type": "code",
        "colab": {}
      },
      "source": [
        "# all 5 Xs are different variables\n",
        "X = 1 # global\n",
        " \n",
        "def f():\n",
        "  X = 2 # local\n",
        "\n",
        "class C:\n",
        "  X = 3 # class\n",
        "  \n",
        "  def m(self):\n",
        "    X = 4 # local\n",
        "    self.X = 5 # instance"
      ],
      "execution_count": 0,
      "outputs": []
    },
    {
      "cell_type": "markdown",
      "metadata": {
        "id": "uXRewiK0RX2p",
        "colab_type": "text"
      },
      "source": [
        "**Unqualified names: global unless assigned**\n",
        "\n",
        "*     Assignment: X = value\n",
        "       -      Makes names local: creates or changes name in the current local scope, unless declared global\n",
        " \n",
        "\n",
        "*     Reference: X\n",
        "        -      Looks for names in the current local scope, then the current global scope, then the outer built-in scope\n",
        " \n",
        "\n",
        " "
      ]
    },
    {
      "cell_type": "markdown",
      "metadata": {
        "id": "jaLV-8ASRN4l",
        "colab_type": "text"
      },
      "source": [
        "**Qualified names: object name-spaces**\n",
        "\n",
        "*     Assignment: X.name = value\n",
        "      -      Creates or alters the attribute name in the namespace of the object being qualified\n",
        "*     Reference: X.name\n",
        "        -      Searches for the attribute name in the object, and then all accessible classes above it (none for modules)\n",
        " \n"
      ]
    },
    {
      "cell_type": "markdown",
      "metadata": {
        "id": "-1DACLHqRKmk",
        "colab_type": "text"
      },
      "source": [
        "**Namespace dictionaries**\n",
        " \n",
        "*     Object name-spaces: built-in __dict__ attributes\n",
        "*     Qualification == indexing a name-space dictionary\n",
        "*      To get a name from a module M:\n",
        "   - ```python   \n",
        "   M.name\n",
        "   ```\n",
        "   - ```python   \n",
        "   M.__dict__['name']\n",
        "   ```\n",
        "   - ```python   \n",
        "   sys.modules['M'].name\n",
        "   ```\n",
        "   - ```python   \n",
        "   sys.modules['M'].__dict__['name']\n",
        "   ```\n",
        "   - ```python   \n",
        "   sys.__dict__['modules']['M'].__dict__['name']\n",
        "   ```\n",
        "*  Attribute inheritance == searching dictionaries"
      ]
    },
    {
      "cell_type": "code",
      "metadata": {
        "id": "_4ulJrK36eOS",
        "colab_type": "code",
        "outputId": "f73483b4-75a4-4acb-8568-c836452b7dbe",
        "colab": {
          "base_uri": "https://localhost:8080/",
          "height": 34
        }
      },
      "source": [
        "class super:\n",
        "  def hello(self):\n",
        "    self.data = 'spam' # in self.__dict__\n",
        "\n",
        "class sub(super):\n",
        "  def howdy(self): pass\n",
        "\n",
        "X = sub()\n",
        "X.__dict__ # a new name-space/dict"
      ],
      "execution_count": 0,
      "outputs": [
        {
          "output_type": "execute_result",
          "data": {
            "text/plain": [
              "{}"
            ]
          },
          "metadata": {
            "tags": []
          },
          "execution_count": 21
        }
      ]
    },
    {
      "cell_type": "code",
      "metadata": {
        "id": "SvKFAN2EXVJA",
        "colab_type": "code",
        "outputId": "4e38977b-1d98-4cdc-a705-16b5700a95ef",
        "colab": {
          "base_uri": "https://localhost:8080/",
          "height": 34
        }
      },
      "source": [
        "X.hola = 42 # add member to X object\n",
        "X.__dict__"
      ],
      "execution_count": 0,
      "outputs": [
        {
          "output_type": "execute_result",
          "data": {
            "text/plain": [
              "{'hola': 42}"
            ]
          },
          "metadata": {
            "tags": []
          },
          "execution_count": 23
        }
      ]
    },
    {
      "cell_type": "code",
      "metadata": {
        "id": "lFqWigFtXbw3",
        "colab_type": "code",
        "outputId": "b013ec74-d498-413c-f987-c3044b1dc58e",
        "colab": {
          "base_uri": "https://localhost:8080/",
          "height": 68
        }
      },
      "source": [
        "sub.__dict__"
      ],
      "execution_count": 0,
      "outputs": [
        {
          "output_type": "execute_result",
          "data": {
            "text/plain": [
              "mappingproxy({'__doc__': None,\n",
              "              '__module__': '__main__',\n",
              "              'howdy': <function __main__.sub.howdy>})"
            ]
          },
          "metadata": {
            "tags": []
          },
          "execution_count": 24
        }
      ]
    },
    {
      "cell_type": "code",
      "metadata": {
        "id": "cPBSlGcCXf3H",
        "colab_type": "code",
        "outputId": "a43559d1-04fa-4327-8f87-006f100ca1a2",
        "colab": {
          "base_uri": "https://localhost:8080/",
          "height": 102
        }
      },
      "source": [
        "super.__dict__"
      ],
      "execution_count": 0,
      "outputs": [
        {
          "output_type": "execute_result",
          "data": {
            "text/plain": [
              "mappingproxy({'__dict__': <attribute '__dict__' of 'super' objects>,\n",
              "              '__doc__': None,\n",
              "              '__module__': '__main__',\n",
              "              '__weakref__': <attribute '__weakref__' of 'super' objects>,\n",
              "              'hello': <function __main__.super.hello>})"
            ]
          },
          "metadata": {
            "tags": []
          },
          "execution_count": 25
        }
      ]
    },
    {
      "cell_type": "code",
      "metadata": {
        "id": "rcfJxDC_XkGB",
        "colab_type": "code",
        "outputId": "54c909b0-f9e6-4b61-ded2-808a4453bb8b",
        "colab": {
          "base_uri": "https://localhost:8080/",
          "height": 34
        }
      },
      "source": [
        "X.hello()\n",
        "X.__dict__"
      ],
      "execution_count": 0,
      "outputs": [
        {
          "output_type": "execute_result",
          "data": {
            "text/plain": [
              "{'data': 'spam', 'hola': 42}"
            ]
          },
          "metadata": {
            "tags": []
          },
          "execution_count": 26
        }
      ]
    },
    {
      "cell_type": "markdown",
      "metadata": {
        "id": "4JjZWWl-6eOU",
        "colab_type": "text"
      },
      "source": [
        "###OOP and inheritance"
      ]
    },
    {
      "cell_type": "markdown",
      "metadata": {
        "id": "jNZxk9-4Xwhx",
        "colab_type": "text"
      },
      "source": [
        "*     Inheritance based on attribute qualification\n",
        "*     In OOP terminology: is-a relationship\n",
        "*     On X.name, looks for name in:\n",
        "  1.   Instance <--- Xs own name-space\n",
        "  2.   Class <--- class that X was made from\n",
        "  3.   Superclasses <--- depth-first, left-to-right"
      ]
    },
    {
      "cell_type": "markdown",
      "metadata": {
        "id": "kUvrplxUYGdY",
        "colab_type": "text"
      },
      "source": [
        "**Example: a zoo hierarchy in Python**"
      ]
    },
    {
      "cell_type": "code",
      "metadata": {
        "id": "YmecthRJ6eOV",
        "colab_type": "code",
        "colab": {}
      },
      "source": [
        "class Animal:\n",
        "  def reply(self): self.speak()\n",
        "    \n",
        "  def speak(self): print('spam')\n",
        "\n",
        "\n",
        "class Mammal(Animal):\n",
        "  def speak(self): print('huh?')\n",
        "\n",
        "\n",
        "class Cat(Mammal):\n",
        "  def speak(self): print('meow')\n",
        "\n",
        "\n",
        "class Dog(Mammal):\n",
        "  def speak(self): print('bark')\n",
        "\n",
        "\n",
        "class Primate(Mammal):\n",
        "  def speak(self): print('Hello world!')\n",
        "\n",
        "\n",
        "class Hacker(Primate): pass"
      ],
      "execution_count": 0,
      "outputs": []
    },
    {
      "cell_type": "markdown",
      "metadata": {
        "id": "L6CmLOh6Y-FI",
        "colab_type": "text"
      },
      "source": [
        "![classes](https://learning-python.com/class/Workbook/unit07_files/image018.gif)"
      ]
    },
    {
      "cell_type": "code",
      "metadata": {
        "id": "74ItPZpY6eOY",
        "colab_type": "code",
        "outputId": "c5a7f035-422d-4c40-b822-bd45b0420f09",
        "colab": {
          "base_uri": "https://localhost:8080/",
          "height": 51
        }
      },
      "source": [
        "spot = Cat()\n",
        "spot.reply() # Animal.reply, Cat.speak\n",
        "data = Hacker() # Animal.reply, Primate.speak\n",
        "data.reply()"
      ],
      "execution_count": 0,
      "outputs": [
        {
          "output_type": "stream",
          "text": [
            "meow\n",
            "Hello world!\n"
          ],
          "name": "stdout"
        }
      ]
    },
    {
      "cell_type": "markdown",
      "metadata": {
        "id": "8CshHgpM6eOa",
        "colab_type": "text"
      },
      "source": [
        "###OOP and composition"
      ]
    },
    {
      "cell_type": "markdown",
      "metadata": {
        "id": "TMvEyoGyZUPZ",
        "colab_type": "text"
      },
      "source": [
        "*     Class instances simulate objects in a domain\n",
        "*     Nouns→classes, verbs→methods\n",
        "*     Class objects embed and activate other objects\n",
        "*     In OOP terminology: has-a relationship"
      ]
    },
    {
      "cell_type": "markdown",
      "metadata": {
        "id": "G4bm_wpIZXBW",
        "colab_type": "text"
      },
      "source": [
        "**Example: the dead-parrot skit in Python**"
      ]
    },
    {
      "cell_type": "code",
      "metadata": {
        "id": "DNdHbbcd6eOb",
        "colab_type": "code",
        "outputId": "e03280c8-400f-4291-f0c9-0714876fe641",
        "colab": {
          "base_uri": "https://localhost:8080/",
          "height": 68
        }
      },
      "source": [
        "class Actor:\n",
        "  def line(self): print(self.name + ':', self.says())\n",
        "\n",
        "\n",
        "class Customer(Actor):\n",
        "  name = 'customer'\n",
        "  \n",
        "  def says(self): return \"that's one ex-bird!\"\n",
        "\n",
        "\n",
        "class Clerk(Actor):\n",
        "  name = 'clerk'\n",
        "\n",
        "  def says(self): return \"no it isn't\"\n",
        "\n",
        "\n",
        "class Parrot(Actor):\n",
        "  name = 'parrot'\n",
        "\n",
        "  def says(self): return None\n",
        "\n",
        "\n",
        "class Scene:\n",
        "  def __init__(self):\n",
        "    self.clerk = Clerk() # embed some instances\n",
        "    self.customer = Customer() # Scene is a composite\n",
        "    self.subject = Parrot()\n",
        "\n",
        "\n",
        "  def action(self):\n",
        "    self.customer.line() # delegate to embedded\n",
        "    self.clerk.line()\n",
        "    self.subject.line()\n",
        "  \n",
        "  \n",
        "Scene().action() # activate nested objects  "
      ],
      "execution_count": 0,
      "outputs": [
        {
          "output_type": "stream",
          "text": [
            "customer: that's one ex-bird!\n",
            "clerk: no it isn't\n",
            "parrot: None\n"
          ],
          "name": "stdout"
        }
      ]
    },
    {
      "cell_type": "markdown",
      "metadata": {
        "id": "p4ZUWL4F6eOi",
        "colab_type": "text"
      },
      "source": [
        "###Classes are objects: factories"
      ]
    },
    {
      "cell_type": "markdown",
      "metadata": {
        "id": "d53bS1zqZ-Cp",
        "colab_type": "text"
      },
      "source": [
        "*     Everything is a first-class object\n",
        "*     Only objects derived from classes are OOP objects\n",
        "*     Classes can be passed around as data objects"
      ]
    },
    {
      "cell_type": "code",
      "metadata": {
        "id": "K5NtwG916eOj",
        "colab_type": "code",
        "outputId": "5a8032b7-061f-4b8a-93fd-bc4b84164b92",
        "colab": {
          "base_uri": "https://localhost:8080/",
          "height": 34
        }
      },
      "source": [
        "def factory(aClass, *args): # varargs tuple\n",
        "  return aClass(*args) # call aClass\n",
        " \n",
        "\n",
        "class Spam:\n",
        "  def doit(self, message):\n",
        "    print(message)\n",
        "    \n",
        "    \n",
        "class Person:\n",
        "  def __init__(self, name, job):\n",
        "    self.name = name\n",
        "    self.job = job\n",
        "    \n",
        "    \n",
        "object1 = factory(Spam) # make a Spam\n",
        "object2 = factory(Person, \"Guido\", \"guru\") # make a Person\n",
        "object2.name"
      ],
      "execution_count": 0,
      "outputs": [
        {
          "output_type": "execute_result",
          "data": {
            "text/plain": [
              "'Guido'"
            ]
          },
          "metadata": {
            "tags": []
          },
          "execution_count": 35
        }
      ]
    },
    {
      "cell_type": "markdown",
      "metadata": {
        "id": "vGDfYA2d6eOn",
        "colab_type": "text"
      },
      "source": [
        "###Methods are objects: bound or unbound"
      ]
    },
    {
      "cell_type": "markdown",
      "metadata": {
        "id": "kufMHUHubCtE",
        "colab_type": "text"
      },
      "source": [
        "*     Unbound class methods: call with a self\n",
        "*     Bound instance methods: instance + method pairs"
      ]
    },
    {
      "cell_type": "code",
      "metadata": {
        "id": "bC9TkuDV6eOo",
        "colab_type": "code",
        "outputId": "74573b71-0772-439d-b950-fcb3b39079d2",
        "colab": {
          "base_uri": "https://localhost:8080/",
          "height": 51
        }
      },
      "source": [
        "object1 = Spam()\n",
        "x = object1.doit # bound method object\n",
        "x('hello world') # instance is implied\n",
        "\n",
        "\n",
        "t = Spam.doit # unbound method object\n",
        "t(object1, 'howdy') # pass in instance"
      ],
      "execution_count": 0,
      "outputs": [
        {
          "output_type": "stream",
          "text": [
            "hello world\n",
            "howdy\n"
          ],
          "name": "stdout"
        }
      ]
    },
    {
      "cell_type": "markdown",
      "metadata": {
        "id": "RFGkvoZi6eOq",
        "colab_type": "text"
      },
      "source": [
        "###Odds and ends"
      ]
    },
    {
      "cell_type": "markdown",
      "metadata": {
        "id": "kFhY349Db2GL",
        "colab_type": "text"
      },
      "source": [
        "**Pseudo-private attributes**\n",
        "\n",
        "*     Data hiding is a convention (until Python1.5 or later)\n",
        "*     Were all consenting adults Pythons BDFL\n",
        "*     1.5 name mangling: self.\\_\\_X → self._Class\\_\\_X\n",
        "*     Class name prefix makes names unique in self instance\n",
        "*     Only works in class, and only if at most 1 trailing _\n",
        "*     Mostly for larger, multi-programmer, OO projects\n",
        "*     See \\_\\_getattr\\_\\_ above for implementing full privacy"
      ]
    },
    {
      "cell_type": "code",
      "metadata": {
        "id": "YSBqUsFs6eOr",
        "colab_type": "code",
        "outputId": "8dfec504-fe09-40f3-9e39-9fd5124c1b78",
        "colab": {
          "base_uri": "https://localhost:8080/",
          "height": 68
        }
      },
      "source": [
        "class C1:\n",
        "  def meth1(self): self.__X = 88 # now X is mine\n",
        "  \n",
        "  def meth2(self): print(self.__X) # becomes _C1__X in I\n",
        "\n",
        "\n",
        "class C2:\n",
        "  def metha(self): self.__X = 99 # me too\n",
        "  \n",
        "  def methb(self): print(self.__X) # becomes _C2__X in I\n",
        "\n",
        "\n",
        "class C3(C1, C2): pass\n",
        "  \n",
        "\n",
        "I = C3() # two X names in I\n",
        "I.meth1()\n",
        "I.metha()\n",
        "print(I.__dict__)\n",
        "\n",
        "I.meth2()\n",
        "I.methb()"
      ],
      "execution_count": 0,
      "outputs": [
        {
          "output_type": "stream",
          "text": [
            "{'_C1__X': 88, '_C2__X': 99}\n",
            "88\n",
            "99\n"
          ],
          "name": "stdout"
        }
      ]
    },
    {
      "cell_type": "markdown",
      "metadata": {
        "id": "MBSrDR5T6eOu",
        "colab_type": "text"
      },
      "source": [
        "**Documentation strings**\n",
        "\n",
        "*     Still not universally used (but very close!)\n",
        "*     Woks for classes, modules, functions, methods\n",
        "*      String constant before any statements\n",
        "*      Stored in objects \\_\\_doc\\_\\_ attribute"
      ]
    },
    {
      "cell_type": "code",
      "metadata": {
        "id": "uEtpnQ2F6eOv",
        "colab_type": "code",
        "colab": {}
      },
      "source": [
        "\"I am: docstr.__doc__\"\n",
        " \n",
        "\n",
        "class spam:\n",
        "  \"I am: spam.__doc__ or docstr.spam.__doc__\"\n",
        "  pass\n",
        " \n",
        "\n",
        "def method(self, arg):\n",
        "  \"I am: spam.method.__doc__ or self.method.__doc__\"\n",
        "  pass\n",
        " \n",
        "\n",
        "def func(args):\n",
        "  \"I am: docstr.func.__doc__\"\n",
        "  pass"
      ],
      "execution_count": 0,
      "outputs": []
    },
    {
      "cell_type": "markdown",
      "metadata": {
        "id": "6WrbNl7X6eOw",
        "colab_type": "text"
      },
      "source": [
        "**Classes versus modules**\n",
        "\n",
        "*     Modules\n",
        "  *     Are data/logic packages\n",
        "  *     Creation: files or extensions\n",
        "  *     Usage: imported\n",
        "\n",
        "*     Classes\n",
        "  *     Implement new objects\n",
        "  *     Always live in a module\n",
        "  *     Creation: statements\n",
        "  *     Usage: called"
      ]
    },
    {
      "cell_type": "markdown",
      "metadata": {
        "id": "aTlJoNXVd-7B",
        "colab_type": "text"
      },
      "source": [
        "**OOP and Python**\n",
        " \n",
        "*     Inheritance\n",
        "  *      Based on attribute lookup: X.name\n",
        "*     Polymorphism\n",
        "  *      In X.method(), the meaning of method depends on the type (class) of X\n",
        "*     Encapsulation\n",
        "  *      Methods and operators implement behavior; data hiding is a convention (for now)"
      ]
    },
    {
      "cell_type": "code",
      "metadata": {
        "id": "rUwjOG-o6eOx",
        "colab_type": "code",
        "colab": {}
      },
      "source": [
        "class C:\n",
        "  def meth(self, x): # like x=1; x=2\n",
        "    pass\n",
        "  \n",
        "  def meth(self, x, y, z): # the last one wins!\n",
        "    pass\n",
        "\n",
        "\n",
        "class C:\n",
        "  def meth(self, *args):\n",
        "    if len(args) == 1:\n",
        "      pass\n",
        "    elif type(arg[0]) == int:\n",
        "      pass\n",
        "\n",
        "\n",
        "class C:\n",
        "  def meth(self, x): # the python way:\n",
        "    x.operation() # assume x does the right thing"
      ],
      "execution_count": 0,
      "outputs": []
    },
    {
      "cell_type": "markdown",
      "metadata": {
        "id": "7hOR1tmv6eO0",
        "colab_type": "text"
      },
      "source": [
        "**Pythons dynamic nature**\n",
        "\n",
        "*      Members may be added/changed outside class methods"
      ]
    },
    {
      "cell_type": "code",
      "metadata": {
        "id": "P5lHmG7V6eO1",
        "colab_type": "code",
        "colab": {}
      },
      "source": [
        "class C: pass\n",
        "\n",
        "X = C()\n",
        "X.name = 'bob'\n",
        "X.job = 'psychologist'"
      ],
      "execution_count": 0,
      "outputs": []
    },
    {
      "cell_type": "markdown",
      "metadata": {
        "id": "2TBZxA9HfPee",
        "colab_type": "text"
      },
      "source": [
        "*     Scopes may be expanded dynamically: run-time binding"
      ]
    },
    {
      "cell_type": "code",
      "metadata": {
        "id": "HGPkrIXA6eO3",
        "colab_type": "code",
        "outputId": "6b626fea-f91c-4ece-af5d-cb31603a7ffc",
        "colab": {
          "base_uri": "https://localhost:8080/",
          "height": 34
        }
      },
      "source": [
        "def printer():\n",
        "  print(message) # name resolved when referenced\n",
        "\n",
        "message = \"Hello\" # set message now\n",
        "printer()"
      ],
      "execution_count": 0,
      "outputs": [
        {
          "output_type": "stream",
          "text": [
            "Hello\n"
          ],
          "name": "stdout"
        }
      ]
    },
    {
      "cell_type": "markdown",
      "metadata": {
        "id": "zk-5_FsE6eO5",
        "colab_type": "text"
      },
      "source": [
        "###Subclassing builtin types"
      ]
    },
    {
      "cell_type": "markdown",
      "metadata": {
        "id": "rPhRnEgpfxVl",
        "colab_type": "text"
      },
      "source": [
        "*     All types behave like classes: list, str, tuple, dict,\n",
        "*     Subclass to customize builtin object behavior\n",
        "*     Alternative to writing wrapper code"
      ]
    },
    {
      "cell_type": "code",
      "metadata": {
        "id": "8eHY2LPz6eO5",
        "colab_type": "code",
        "outputId": "8d53d151-2bc8-4027-c5bb-90c851d41be7",
        "colab": {
          "base_uri": "https://localhost:8080/",
          "height": 153
        }
      },
      "source": [
        "# subclass builtin list type/class\n",
        "# map 1..N to 0..N-1, call back to built-in version\n",
        " \n",
        "\n",
        "class MyList(list):\n",
        "  def __getitem__(self, offset):\n",
        "    print('(indexing %s at %s)' % (self, offset))\n",
        "    return list.__getitem__(self, offset - 1)\n",
        "  \n",
        "  \n",
        "print(list('abc'))\n",
        "x = MyList('abc') # __init__ inherited from list\n",
        "print(x) # __repr__ inherited from list\n",
        "print(x[1]) # MyList.__getitem__\n",
        "print(x[3]) # customizes list superclass method\n",
        "\n",
        "x.append('spam')\n",
        "print(x) # attributes from list superclass\n",
        "\n",
        "x.reverse()\n",
        "print(x)"
      ],
      "execution_count": 0,
      "outputs": [
        {
          "output_type": "stream",
          "text": [
            "['a', 'b', 'c']\n",
            "['a', 'b', 'c']\n",
            "(indexing ['a', 'b', 'c'] at 1)\n",
            "a\n",
            "(indexing ['a', 'b', 'c'] at 3)\n",
            "c\n",
            "['a', 'b', 'c', 'spam']\n",
            "['spam', 'c', 'b', 'a']\n"
          ],
          "name": "stdout"
        }
      ]
    },
    {
      "cell_type": "markdown",
      "metadata": {
        "id": "A9vX5Xyb6eO7",
        "colab_type": "text"
      },
      "source": [
        "###New Style Classes in 2.2+ (Advanced)\n",
        "\n",
        " \n",
        "\n",
        "*     Adds new features, changes one inheritance case (diamonds)\n",
        "*     Py 2.X: only if object or a builtin type as a superclass\n",
        "*     Py 3.X: all classes automatically new style (object added auto)"
      ]
    },
    {
      "cell_type": "code",
      "metadata": {
        "id": "x-y4SUot6eO8",
        "colab_type": "code",
        "colab": {}
      },
      "source": [
        "class newstyle(object): # NS requires object in 2.X only\n",
        "  pass"
      ],
      "execution_count": 0,
      "outputs": []
    },
    {
      "cell_type": "markdown",
      "metadata": {
        "id": "DWd-7UKL6ePA",
        "colab_type": "text"
      },
      "source": [
        "*     Changes: behavior of diamond multiple inheritance\n",
        "Per the linear MRO: the DFLR path, with all but last appearance of each class removed"
      ]
    },
    {
      "cell_type": "code",
      "metadata": {
        "id": "cR2n4bGthpJs",
        "colab_type": "code",
        "outputId": "ef4de6a4-ae5a-4817-f095-271c2bac4de2",
        "colab": {
          "base_uri": "https://localhost:8080/",
          "height": 34
        }
      },
      "source": [
        "class A(object): attr = 1 # NEW STYLE\n",
        "class B(A): pass\n",
        "class C(A): attr = 2\n",
        "class D(B,C): pass # tries C before A\n",
        "x = D() # more breadth-first\n",
        "x.attr"
      ],
      "execution_count": 0,
      "outputs": [
        {
          "output_type": "execute_result",
          "data": {
            "text/plain": [
              "2"
            ]
          },
          "metadata": {
            "tags": []
          },
          "execution_count": 53
        }
      ]
    },
    {
      "cell_type": "markdown",
      "metadata": {
        "id": "2y423NKO6ePC",
        "colab_type": "text"
      },
      "source": [
        "*     Adds: slots, limits legal attributes set\n",
        "Used to catch typos and limit memory requirements in pathological cases (ONLY!)"
      ]
    },
    {
      "cell_type": "code",
      "metadata": {
        "id": "afvfLxJc6ePC",
        "colab_type": "code",
        "outputId": "a8b9cd6d-3b88-4f3c-a06d-76b7e584785e",
        "colab": {
          "base_uri": "https://localhost:8080/",
          "height": 214
        }
      },
      "source": [
        "class limiter(object):\n",
        "  __slots__ = ['age', 'name', 'job']\n",
        "\n",
        "  \n",
        "x = limiter()\n",
        "print(\"ERROR EXPECTED\")\n",
        "x.ape = 1000"
      ],
      "execution_count": 0,
      "outputs": [
        {
          "output_type": "stream",
          "text": [
            "ERROR EXPECTED\n"
          ],
          "name": "stdout"
        },
        {
          "output_type": "error",
          "ename": "AttributeError",
          "evalue": "ignored",
          "traceback": [
            "\u001b[0;31m---------------------------------------------------------------------------\u001b[0m",
            "\u001b[0;31mAttributeError\u001b[0m                            Traceback (most recent call last)",
            "\u001b[0;32m<ipython-input-57-b56a8de1b9ec>\u001b[0m in \u001b[0;36m<module>\u001b[0;34m()\u001b[0m\n\u001b[1;32m      5\u001b[0m \u001b[0mx\u001b[0m \u001b[0;34m=\u001b[0m \u001b[0mlimiter\u001b[0m\u001b[0;34m(\u001b[0m\u001b[0;34m)\u001b[0m\u001b[0;34m\u001b[0m\u001b[0;34m\u001b[0m\u001b[0m\n\u001b[1;32m      6\u001b[0m \u001b[0mprint\u001b[0m\u001b[0;34m(\u001b[0m\u001b[0;34m\"ERROR EXPECTED\"\u001b[0m\u001b[0;34m)\u001b[0m\u001b[0;34m\u001b[0m\u001b[0;34m\u001b[0m\u001b[0m\n\u001b[0;32m----> 7\u001b[0;31m \u001b[0mx\u001b[0m\u001b[0;34m.\u001b[0m\u001b[0mape\u001b[0m \u001b[0;34m=\u001b[0m \u001b[0;36m1000\u001b[0m\u001b[0;34m\u001b[0m\u001b[0;34m\u001b[0m\u001b[0m\n\u001b[0m",
            "\u001b[0;31mAttributeError\u001b[0m: 'limiter' object has no attribute 'ape'"
          ]
        }
      ]
    },
    {
      "cell_type": "markdown",
      "metadata": {
        "id": "iCPxmJFq6ePE",
        "colab_type": "text"
      },
      "source": [
        "*     Adds: properties, computed attributes alternative.\n",
        "Used to route attribute access to databases, approvals, special-case code."
      ]
    },
    {
      "cell_type": "code",
      "metadata": {
        "id": "XreYZlXm6ePE",
        "colab_type": "code",
        "outputId": "e3260138-a63c-4bae-e2ee-94aaac7daba0",
        "colab": {
          "base_uri": "https://localhost:8080/",
          "height": 34
        }
      },
      "source": [
        "class classic():\n",
        "  def __getattr__(self, name):\n",
        "    if name == 'age':\n",
        "      return 40\n",
        "    else:\n",
        "      raise AttributeError\n",
        "\n",
        "x = classic()\n",
        "x.age # <= runs __getattr__"
      ],
      "execution_count": 0,
      "outputs": [
        {
          "output_type": "execute_result",
          "data": {
            "text/plain": [
              "40"
            ]
          },
          "metadata": {
            "tags": []
          },
          "execution_count": 63
        }
      ]
    },
    {
      "cell_type": "code",
      "metadata": {
        "id": "rtVDT7sIjeMU",
        "colab_type": "code",
        "outputId": "b901336f-bda0-4276-c802-d9153fe69cc3",
        "colab": {
          "base_uri": "https://localhost:8080/",
          "height": 34
        }
      },
      "source": [
        "# less verbose way (nneds object in 2.X)\n",
        "class newprops():\n",
        "  def getage(self):\n",
        "    return 40\n",
        "  \n",
        "  age = property(getage, None, None, None) # get,set,del\n",
        "\n",
        "x = newprops()\n",
        "x.age # <= runs getage"
      ],
      "execution_count": 0,
      "outputs": [
        {
          "output_type": "execute_result",
          "data": {
            "text/plain": [
              "40"
            ]
          },
          "metadata": {
            "tags": []
          },
          "execution_count": 60
        }
      ]
    },
    {
      "cell_type": "markdown",
      "metadata": {
        "id": "vVRNeprC6ePG",
        "colab_type": "text"
      },
      "source": [
        "*     Adds: static and class methods, new calling patterns\n",
        "Used to process class data, instead of per-instance date"
      ]
    },
    {
      "cell_type": "code",
      "metadata": {
        "id": "wstrO3e66ePG",
        "colab_type": "code",
        "outputId": "85235b39-4a53-4a0a-99eb-7041cb457f08",
        "colab": {
          "base_uri": "https://localhost:8080/",
          "height": 34
        }
      },
      "source": [
        "class Spam: # static: no self\n",
        "  numInstances = 0 # class: class, not instance\n",
        "\n",
        "  def __init__(self):\n",
        "    Spam.numInstances += 1\n",
        "\n",
        "  def printNumInstances():\n",
        "    print(\"Number of instances:\", Spam.numInstances)\n",
        "\n",
        "  # can avoid this in 3.X\n",
        "  #printNumInstances = staticmethod(printNumInstances)\n",
        "\n",
        "\n",
        "a = Spam()\n",
        "b = Spam()\n",
        "c = Spam()\n",
        "Spam.printNumInstances()"
      ],
      "execution_count": 0,
      "outputs": [
        {
          "output_type": "stream",
          "text": [
            "Number of instances: 3\n"
          ],
          "name": "stdout"
        }
      ]
    },
    {
      "cell_type": "markdown",
      "metadata": {
        "id": "rFAnUnlj6ePH",
        "colab_type": "text"
      },
      "source": [
        "*     Function and class decorators (not just new style).\n",
        "Rebinds names to objects that process functions and classes, or later calls to them."
      ]
    },
    {
      "cell_type": "markdown",
      "metadata": {
        "id": "z1HzdHzbrI-v",
        "colab_type": "text"
      },
      "source": [
        "**Function name rebinding**\n",
        "\n",
        "```python\n",
        "@funcdecorator\n",
        "def F():\n",
        "...\n",
        " \n",
        "# is equivalent to\n",
        " \n",
        "def F():\n",
        "  F = funcdecorator(F) # rebind name, possibly to proxy object\n",
        "```\n",
        "\n",
        "**Class name rebinding**\n",
        "\n",
        "```python\n",
        "@classdecorator\n",
        "class C:\n",
        "...\n",
        "\n",
        "# is equivalent to\n",
        " \n",
        "class C:\n",
        "  C = classdecorator(C) # rebind name, possibly to proxy object\n",
        "```\n",
        "  \n",
        "**Use for static methods (and properties, etc.)**\n",
        "\n",
        "```python\n",
        "class C:\n",
        "  @staticmethod\n",
        "  def meth():\n",
        "...\n",
        " \n",
        "# is equivalent to\n",
        " \n",
        "class C:\n",
        "  def meth():\n",
        "  ...\n",
        "  meth = staticmethod(meth) # rebind name to call handler\n",
        " \n",
        "# ditto for properties\n",
        "\n",
        "class newprops(object):\n",
        "  @property\n",
        "  def age(self): # age = property(age)\n",
        "    return 40 # use X.age, not X.age()\n",
        "``` \n",
        "\n",
        "**Nesting: multiple augmentations**\n",
        "\n",
        "```python\n",
        "@A\n",
        "@B\n",
        "@C\n",
        "def f(): \n",
        " \n",
        "# is equivalent to\n",
        "\n",
        "def f(): \n",
        "  f = A(B(C(f)))\n",
        "```\n",
        "\n",
        "**Arguments: closures, retain state for later calls**\n",
        "\n",
        "```python\n",
        "@funchandler(a, b)\n",
        "def F():\n",
        " \n",
        "# is equivalent to\n",
        " \n",
        "def F():\n",
        "  F = funchandler(a, b)(F)\n",
        " ```\n",
        "\n",
        " \n",
        "\n",
        " \n"
      ]
    },
    {
      "cell_type": "markdown",
      "metadata": {
        "id": "LyxddbvQ6ePL",
        "colab_type": "text"
      },
      "source": [
        "###Class gotchas"
      ]
    },
    {
      "cell_type": "markdown",
      "metadata": {
        "id": "p-wAbMvGsyVE",
        "colab_type": "text"
      },
      "source": [
        "*     Multiple inheritance: order matters\n",
        "*      Solution: use sparingly and/or carefully"
      ]
    },
    {
      "cell_type": "code",
      "metadata": {
        "id": "qwgGkx5p6ePM",
        "colab_type": "code",
        "outputId": "6bb59222-b96c-442f-c1b2-85970e1b0a6b",
        "colab": {
          "base_uri": "https://localhost:8080/",
          "height": 68
        }
      },
      "source": [
        "class Super1:\n",
        "  def method2(self): # a 'mixin' superclass\n",
        "    print('in Super1.method2')\n",
        "\n",
        "\n",
        "class Super2:\n",
        "  def method1(self):\n",
        "    self.method2() # calls my method2??\n",
        "  \n",
        "  def method2(self):\n",
        "    print('in Super2.method2')\n",
        "\n",
        "\n",
        "class Sub1(Super1, Super2):\n",
        "  pass # gets Super1's method2\n",
        "\n",
        "\n",
        "class Sub2(Super2, Super1):\n",
        "  pass # gets Super2's method2\n",
        "\n",
        "\n",
        "class Sub3(Super1, Super2):\n",
        "  method2 = Super2.method2 # pick method manually\n",
        "\n",
        "\n",
        "Sub1().method1()\n",
        "Sub2().method1()\n",
        "Sub3().method1()"
      ],
      "execution_count": 0,
      "outputs": [
        {
          "output_type": "stream",
          "text": [
            "in Super1.method2\n",
            "in Super2.method2\n",
            "in Super2.method2\n"
          ],
          "name": "stdout"
        }
      ]
    },
    {
      "cell_type": "markdown",
      "metadata": {
        "id": "c8Mp4Qlht2EL",
        "colab_type": "text"
      },
      "source": [
        "###Example: a set class"
      ]
    },
    {
      "cell_type": "markdown",
      "metadata": {
        "id": "B85MAtje6ePP",
        "colab_type": "text"
      },
      "source": [
        "*     Wraps a Python list in each instance\n",
        "*     Supports multiple instances\n",
        "*     Adds operator overloading\n",
        "*     Supports customization by inheritance\n",
        "*     Allows any type of component: heterogeneous"
      ]
    },
    {
      "cell_type": "code",
      "metadata": {
        "id": "donu-MMb6ePP",
        "colab_type": "code",
        "colab": {}
      },
      "source": [
        "class Set:\n",
        "  def __init__(self, value = []): # constructor\n",
        "    self.data = [] # manages a list\n",
        "    self.concat(value)\n",
        "    \n",
        "  def intersect(self, other): # other is a sequence\n",
        "    res = [] # self is the subject\n",
        "    for x in self.data:\n",
        "      if x in other:\n",
        "        res.append(x)\n",
        "    return Set(res) # return a new Set\n",
        "  \n",
        "  def union(self, other):\n",
        "    res = self.data[:] # copy of my list\n",
        "    for x in other:\n",
        "      if not x in res:\n",
        "        res.append(x)\n",
        "    return Set(res)\n",
        "  \n",
        "  def concat(self, value): # value: list, Set\n",
        "    for x in value: # removes duplicates\n",
        "      if not x in self.data:\n",
        "        self.data.append(x)\n",
        "\n",
        "  def __len__(self): return len(self.data)\n",
        "  def __getitem__(self, key): return self.data[key]\n",
        "  def __and__(self, other): return self.intersect(other)\n",
        "  def __or__(self, other): return self.union(other)\n",
        "  def __repr__(self): return 'Set:' + str(self.data)"
      ],
      "execution_count": 0,
      "outputs": []
    },
    {
      "cell_type": "code",
      "metadata": {
        "id": "INmT98K86ePR",
        "colab_type": "code",
        "outputId": "672a5ba9-9ef3-4413-fa64-79b8a5ce14c9",
        "colab": {
          "base_uri": "https://localhost:8080/",
          "height": 34
        }
      },
      "source": [
        "x = Set([1,2,3,4]) # __init__\n",
        "y = Set([3,4,5])\n",
        "\n",
        "x & y, x | y # __and__,__or__,__repr__"
      ],
      "execution_count": 0,
      "outputs": [
        {
          "output_type": "execute_result",
          "data": {
            "text/plain": [
              "(Set:[3, 4], Set:[1, 2, 3, 4, 5])"
            ]
          },
          "metadata": {
            "tags": []
          },
          "execution_count": 74
        }
      ]
    },
    {
      "cell_type": "code",
      "metadata": {
        "id": "b_GXGzXluj8K",
        "colab_type": "code",
        "outputId": "9ea5c2d6-df1e-4458-cd18-f7a5439bce6d",
        "colab": {
          "base_uri": "https://localhost:8080/",
          "height": 34
        }
      },
      "source": [
        "z = Set(\"hello\") # set of strings\n",
        "z[0] # __getitem__"
      ],
      "execution_count": 0,
      "outputs": [
        {
          "output_type": "execute_result",
          "data": {
            "text/plain": [
              "'h'"
            ]
          },
          "metadata": {
            "tags": []
          },
          "execution_count": 75
        }
      ]
    },
    {
      "cell_type": "code",
      "metadata": {
        "id": "qw7wj1AHutWf",
        "colab_type": "code",
        "outputId": "b08459c2-4298-47c8-cc0c-85f42e2de755",
        "colab": {
          "base_uri": "https://localhost:8080/",
          "height": 34
        }
      },
      "source": [
        "z & \"mello\", z | \"mello\""
      ],
      "execution_count": 0,
      "outputs": [
        {
          "output_type": "execute_result",
          "data": {
            "text/plain": [
              "(Set:['e', 'l', 'o'], Set:['h', 'e', 'l', 'o', 'm'])"
            ]
          },
          "metadata": {
            "tags": []
          },
          "execution_count": 76
        }
      ]
    },
    {
      "cell_type": "markdown",
      "metadata": {
        "id": "_s7T5m-X6ePT",
        "colab_type": "text"
      },
      "source": [
        "###Summary: OOP in Python"
      ]
    },
    {
      "cell_type": "markdown",
      "metadata": {
        "id": "s8NdP0odu1zQ",
        "colab_type": "text"
      },
      "source": [
        "*     Class objects provide default behavior\n",
        "    *      Classes support multiple copies, attribute inheritance, and operator overloading\n",
        "    *      The class statement creates a class object and assigns it to a name\n",
        "    *      Assignments inside class statements create class attributes, which export object state and behavior\n",
        "    *      Class methods are nested defs, with special first arguments to receive the instance\n",
        "*     Instance objects are generated from classes\n",
        "    *      Calling a class object like a function makes a new instance object\n",
        "    *      Each instance object inherits class attributes, and gets its own attribute namespace\n",
        "    *      Assignments to the first argument (\"self\") in methods create per-instance attributes\n",
        "*     Inheritance supports specialization\n",
        "    *      Inheritance happens at attribute qualification time: on object.attribute, if object is a class or instance\n",
        "    *      Classes inherit attributes from all classes listed in their class statement header line (superclasses)\n",
        "    *      Instances inherit attributes from the class they are generated from, plus all its superclasses\n",
        "    *      Inheritance searches the instance, then its class, then all accessible superclasses (depth-first, left-to-right)"
      ]
    }
  ]
}