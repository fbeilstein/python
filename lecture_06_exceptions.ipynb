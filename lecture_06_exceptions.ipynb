{
  "nbformat": 4,
  "nbformat_minor": 0,
  "metadata": {
    "colab": {
      "name": "lecture_06_exceptions.ipynb",
      "provenance": [],
      "authorship_tag": "ABX9TyO7B2r3K4bGDjviEDvA1bqA",
      "include_colab_link": true
    },
    "kernelspec": {
      "name": "python3",
      "display_name": "Python 3"
    }
  },
  "cells": [
    {
      "cell_type": "markdown",
      "metadata": {
        "id": "view-in-github",
        "colab_type": "text"
      },
      "source": [
        "<a href=\"https://colab.research.google.com/github/fbeilstein/machine_learning/blob/master/lecture_06_exceptions.ipynb\" target=\"_parent\"><img src=\"https://colab.research.google.com/assets/colab-badge.svg\" alt=\"Open In Colab\"/></a>"
      ]
    },
    {
      "cell_type": "markdown",
      "metadata": {
        "id": "Ix7_0j8M2ODJ",
        "colab_type": "text"
      },
      "source": [
        "##Exceptions"
      ]
    },
    {
      "cell_type": "markdown",
      "metadata": {
        "id": "7SGdQcIj5MjZ",
        "colab_type": "text"
      },
      "source": [
        "**Why use exceptions?**\n",
        "\n",
        "*     Error handling\n",
        "*     Event notification\n",
        "*     Special-case handling\n",
        "*     Unusual control-flows"
      ]
    },
    {
      "cell_type": "markdown",
      "metadata": {
        "id": "_7Q83GbV5QrA",
        "colab_type": "text"
      },
      "source": [
        "**Exception topics**\n",
        "\n",
        "*     The basics\n",
        "*     Exception idioms\n",
        "*     Exception catching modes\n",
        "*     Class exceptions\n",
        "*     Exception gotchas"
      ]
    },
    {
      "cell_type": "markdown",
      "metadata": {
        "id": "LweINeyN5S83",
        "colab_type": "text"
      },
      "source": [
        "###Exception basics"
      ]
    },
    {
      "cell_type": "markdown",
      "metadata": {
        "id": "dOlyYLgn5WBf",
        "colab_type": "text"
      },
      "source": [
        "*     A high-level control flow device\n",
        "*     try statements catch exceptions\n",
        "*     raise statements trigger exceptions\n",
        "*     Exceptions are raised by Python or programs"
      ]
    },
    {
      "cell_type": "markdown",
      "metadata": {
        "id": "K-2i2Z5UZJOz",
        "colab_type": "text"
      },
      "source": [
        "**Basic forms**\n",
        "\n",
        "-      Python 2.5+: except/finally can now be mixed\n",
        "-      Python 2.5+: with/as context managers\n",
        "-      Python 3.X: except E as X, raise from E"
      ]
    },
    {
      "cell_type": "markdown",
      "metadata": {
        "id": "KegzHfZNBJ7o",
        "colab_type": "text"
      },
      "source": [
        "*     try/except/else\n",
        "```python\n",
        "try:\n",
        "<statements> # run/call actions\n",
        "except <name>:\n",
        "<statements> # if name raised during try block\n",
        "except <name> as <var>:\n",
        "<statements> # if name raised during try block\n",
        "else:\n",
        "<statements> # if no exception was raised\n",
        "```\n",
        "\n",
        "*  try/finally\n",
        "```python\n",
        "try:\n",
        "<statements>\n",
        "finally:\n",
        "<statements> # always run 'on the way out'\n",
        "```\n",
        "\n",
        "* raise\n",
        "```python\n",
        "raise <name> # manually trigger an exception\n",
        "```\n",
        "\n",
        "* assert\n",
        "```python\n",
        "assert <test>, <message>\n",
        "# if not test: raise AssertionError, message\n",
        "``` \n",
        "\n",
        "* with/as context managers (2.5+)\n",
        "\n",
        "```python\n",
        "# alternative to common try/finally idioms\n",
        "# \n",
        "file reading example\n",
        "with open('/etc/passwd', 'r') as f: # auto-closed after with\n",
        "  for line in f: # even if exception in block\n",
        "    print line\n",
        "    # more processing code\n",
        " \n",
        "# thread locking example\n",
        "lock = threading.Lock()\n",
        "with lock: # auto acquired, released\n",
        "# critical section of code \n",
        "# classes may define managers\n",
        "```"
      ]
    },
    {
      "cell_type": "markdown",
      "metadata": {
        "id": "B8udnYB1N28D",
        "colab_type": "text"
      },
      "source": [
        "###First examples"
      ]
    },
    {
      "cell_type": "markdown",
      "metadata": {
        "id": "nxDpr8MpZJO7",
        "colab_type": "text"
      },
      "source": [
        "**Builtin exceptions**\n",
        "\n",
        "*     Python triggers builtin exceptions on errors\n",
        "*     Displays message at top-level if not caught"
      ]
    },
    {
      "cell_type": "code",
      "metadata": {
        "id": "gMbjIZZKZJO8",
        "colab_type": "code",
        "outputId": "6c6f45e8-4d9e-43a5-8757-a2bd75bef44d",
        "colab": {
          "base_uri": "https://localhost:8080/",
          "height": 34
        }
      },
      "source": [
        "def kaboom(list, n):\n",
        "  print(list[n]) # trigger IndexError\n",
        "\n",
        "try:\n",
        "  kaboom([0, 1, 2], 30)\n",
        "except IndexError: # catch exception here\n",
        "  print('Hello world!')"
      ],
      "execution_count": 0,
      "outputs": [
        {
          "output_type": "stream",
          "text": [
            "Hello world!\n"
          ],
          "name": "stdout"
        }
      ]
    },
    {
      "cell_type": "markdown",
      "metadata": {
        "id": "mwAvByZxZJO-",
        "colab_type": "text"
      },
      "source": [
        "**User-defined exceptions**\n",
        "\n",
        "*     Python (and C) programs raise exceptions too\n",
        "*     User-defined exceptions are objects"
      ]
    },
    {
      "cell_type": "code",
      "metadata": {
        "id": "3j0zJetVZJO_",
        "colab_type": "code",
        "outputId": "2031bd3e-2a37-44d4-87e7-d83736a78790",
        "colab": {
          "base_uri": "https://localhost:8080/",
          "height": 51
        }
      },
      "source": [
        "class TestFailed(Exception):\n",
        "    def __init__(self, m):\n",
        "        self.message = m\n",
        "    def __str__(self):\n",
        "        return self.message\n",
        "\n",
        "def stuff(args):\n",
        "  raise TestFailed('oops')\n",
        "  \n",
        "  \n",
        "args = 'some data'\n",
        "try:\n",
        "  stuff(args) # raises exception\n",
        "except TestFailed as e:\n",
        "    print(e)\n",
        "finally:\n",
        "  print(\"failed...finally\") # always close file"
      ],
      "execution_count": 0,
      "outputs": [
        {
          "output_type": "stream",
          "text": [
            "oops\n",
            "failed...finally\n"
          ],
          "name": "stdout"
        }
      ]
    },
    {
      "cell_type": "markdown",
      "metadata": {
        "id": "g0WwtttLW1JB",
        "colab_type": "text"
      },
      "source": [
        "###Exception idioms"
      ]
    },
    {
      "cell_type": "markdown",
      "metadata": {
        "id": "UNFtMry7ZJPC",
        "colab_type": "text"
      },
      "source": [
        "*     EOFError sometimes signals end-of-file\n",
        "```python\n",
        "while 1:\n",
        "  try:\n",
        "          line = raw_input() # read from stdin\n",
        "  except EOFError:\n",
        "          break\n",
        "  else:\n",
        "          <process next line here>\n",
        "```\n",
        "\n",
        "*     Outer try statements can be used to debug code\n",
        "```python\n",
        "try:\n",
        "        <run program>\n",
        "except: # all uncaught exceptions come here\n",
        "        import sys\n",
        "        print 'uncaught!', sys.exc_info()[:2] # type, value\n",
        "```"
      ]
    },
    {
      "cell_type": "markdown",
      "metadata": {
        "id": "RAuCsMPvXvCo",
        "colab_type": "text"
      },
      "source": [
        "###Exception catching modes"
      ]
    },
    {
      "cell_type": "markdown",
      "metadata": {
        "id": "6J6vb-3-YLtY",
        "colab_type": "text"
      },
      "source": [
        "*     Try statements nest (are stacked) at runtime\n",
        "*     Python selects first clause that matches exception\n",
        "*     Try blocks can contain a variety of clauses\n",
        "*     Multiple excepts: catch 1-of-N exceptions\n",
        "*     Try can contain except or finally, but not both"
      ]
    },
    {
      "cell_type": "markdown",
      "metadata": {
        "id": "MvCv_adIZJPK",
        "colab_type": "text"
      },
      "source": [
        "**Try block clauses**\n",
        "\n",
        "Operation |\t Interpretation\n",
        "---|---\n",
        "except: |\tcatch all exception types\n",
        "except name: |\tcatch a specific exception only\n",
        "except name, value: |\t2.X: catch exception and its extra data\n",
        "except name as value: |\t3.X: catch exception and its instance\n",
        "except (name1, name2): |\tcatch any of the listed exceptions\n",
        "else: |\trun block if no exceptions raised\n",
        "finally: |\talways perform block, exception or not"
      ]
    },
    {
      "cell_type": "markdown",
      "metadata": {
        "id": "ZYvSC_HuYQ2o",
        "colab_type": "text"
      },
      "source": [
        "*     Exceptions nest at run-time\n",
        "      -      Runs most recent matching except clause"
      ]
    },
    {
      "cell_type": "code",
      "metadata": {
        "id": "XjofVIymZJPK",
        "colab_type": "code",
        "outputId": "178a6b38-27e7-4bd5-ca67-b0661ef09229",
        "colab": {
          "base_uri": "https://localhost:8080/",
          "height": 34
        }
      },
      "source": [
        "def action2():\n",
        "  print(1 + []) # generate TypeError\n",
        "  \n",
        "def action1():\n",
        "  try:\n",
        "    action2()\n",
        "  except TypeError: # most recent matching try\n",
        "    print('inner try')\n",
        "\n",
        "    \n",
        "try:\n",
        "  action1()\n",
        "except TypeError: # here iff action1 re-raises\n",
        "  print('outer try')"
      ],
      "execution_count": 0,
      "outputs": [
        {
          "output_type": "stream",
          "text": [
            "inner try\n"
          ],
          "name": "stdout"
        }
      ]
    },
    {
      "cell_type": "markdown",
      "metadata": {
        "id": "JGrnDib8ZJPP",
        "colab_type": "text"
      },
      "source": [
        "*     Catching 1-of-N exceptions\n",
        "  -      Runs first match: top-to-bottom, left-to-right\n",
        "  -      See manuals or reference text for a complete list"
      ]
    },
    {
      "cell_type": "code",
      "metadata": {
        "id": "uA7kQZgRZJPP",
        "colab_type": "code",
        "outputId": "034e7ac5-5b5b-43ab-d0a3-01c4fb5eb1fc",
        "colab": {
          "base_uri": "https://localhost:8080/",
          "height": 34
        }
      },
      "source": [
        "try:\n",
        "  action2()\n",
        "except NameError:\n",
        "  print(\"name error\")\n",
        "except IndexError:\n",
        "  print(\"index error\")\n",
        "except KeyError:\n",
        "  print(\"key error\")\n",
        "except (AttributeError, TypeError, SyntaxError):\n",
        "  print(\"more errors\")\n",
        "else:\n",
        "  print(\"did not except\")"
      ],
      "execution_count": 0,
      "outputs": [
        {
          "output_type": "stream",
          "text": [
            "more errors\n"
          ],
          "name": "stdout"
        }
      ]
    },
    {
      "cell_type": "markdown",
      "metadata": {
        "id": "dOuTHBWFZJPR",
        "colab_type": "text"
      },
      "source": [
        "*     finally clause executed on the way out\n",
        "  -      useful for cleanup actions: closing files,\n",
        "  -      block executed whether exception occurs or not\n",
        "  -      Python propagates exception after block finishes\n",
        "  -      but exception lost if finally runs a raise, return, or break"
      ]
    },
    {
      "cell_type": "code",
      "metadata": {
        "id": "soEtq6Y0ZJPR",
        "colab_type": "code",
        "outputId": "eb458eca-97d1-4758-dab1-e405ea20c063",
        "colab": {
          "base_uri": "https://localhost:8080/",
          "height": 459
        }
      },
      "source": [
        "def divide(x, y):\n",
        "  return x / y # divide-by-zero error?\n",
        "\n",
        "def tester(y):\n",
        "  try:\n",
        "    print(divide(8, y))\n",
        "  finally:\n",
        "    print('on the way out')\n",
        "    \n",
        "    \n",
        "print('\\nTest 1:')\n",
        "tester(2)\n",
        "print('\\nTest 2:')\n",
        "tester(0) # trigger error"
      ],
      "execution_count": 0,
      "outputs": [
        {
          "output_type": "stream",
          "text": [
            "\n",
            "Test 1:\n",
            "4.0\n",
            "on the way out\n",
            "\n",
            "Test 2:\n",
            "on the way out\n"
          ],
          "name": "stdout"
        },
        {
          "output_type": "error",
          "ename": "ZeroDivisionError",
          "evalue": "ignored",
          "traceback": [
            "\u001b[0;31m---------------------------------------------------------------------------\u001b[0m",
            "\u001b[0;31mZeroDivisionError\u001b[0m                         Traceback (most recent call last)",
            "\u001b[0;32m<ipython-input-12-74ebd0f88acf>\u001b[0m in \u001b[0;36m<module>\u001b[0;34m()\u001b[0m\n\u001b[1;32m     12\u001b[0m \u001b[0mtester\u001b[0m\u001b[0;34m(\u001b[0m\u001b[0;36m2\u001b[0m\u001b[0;34m)\u001b[0m\u001b[0;34m\u001b[0m\u001b[0;34m\u001b[0m\u001b[0m\n\u001b[1;32m     13\u001b[0m \u001b[0mprint\u001b[0m\u001b[0;34m(\u001b[0m\u001b[0;34m'\\nTest 2:'\u001b[0m\u001b[0;34m)\u001b[0m\u001b[0;34m\u001b[0m\u001b[0;34m\u001b[0m\u001b[0m\n\u001b[0;32m---> 14\u001b[0;31m \u001b[0mtester\u001b[0m\u001b[0;34m(\u001b[0m\u001b[0;36m0\u001b[0m\u001b[0;34m)\u001b[0m \u001b[0;31m# trigger error\u001b[0m\u001b[0;34m\u001b[0m\u001b[0;34m\u001b[0m\u001b[0m\n\u001b[0m",
            "\u001b[0;32m<ipython-input-12-74ebd0f88acf>\u001b[0m in \u001b[0;36mtester\u001b[0;34m(y)\u001b[0m\n\u001b[1;32m      4\u001b[0m \u001b[0;32mdef\u001b[0m \u001b[0mtester\u001b[0m\u001b[0;34m(\u001b[0m\u001b[0my\u001b[0m\u001b[0;34m)\u001b[0m\u001b[0;34m:\u001b[0m\u001b[0;34m\u001b[0m\u001b[0;34m\u001b[0m\u001b[0m\n\u001b[1;32m      5\u001b[0m   \u001b[0;32mtry\u001b[0m\u001b[0;34m:\u001b[0m\u001b[0;34m\u001b[0m\u001b[0;34m\u001b[0m\u001b[0m\n\u001b[0;32m----> 6\u001b[0;31m     \u001b[0mprint\u001b[0m\u001b[0;34m(\u001b[0m\u001b[0mdivide\u001b[0m\u001b[0;34m(\u001b[0m\u001b[0;36m8\u001b[0m\u001b[0;34m,\u001b[0m \u001b[0my\u001b[0m\u001b[0;34m)\u001b[0m\u001b[0;34m)\u001b[0m\u001b[0;34m\u001b[0m\u001b[0;34m\u001b[0m\u001b[0m\n\u001b[0m\u001b[1;32m      7\u001b[0m   \u001b[0;32mfinally\u001b[0m\u001b[0;34m:\u001b[0m\u001b[0;34m\u001b[0m\u001b[0;34m\u001b[0m\u001b[0m\n\u001b[1;32m      8\u001b[0m     \u001b[0mprint\u001b[0m\u001b[0;34m(\u001b[0m\u001b[0;34m'on the way out'\u001b[0m\u001b[0;34m)\u001b[0m\u001b[0;34m\u001b[0m\u001b[0;34m\u001b[0m\u001b[0m\n",
            "\u001b[0;32m<ipython-input-12-74ebd0f88acf>\u001b[0m in \u001b[0;36mdivide\u001b[0;34m(x, y)\u001b[0m\n\u001b[1;32m      1\u001b[0m \u001b[0;32mdef\u001b[0m \u001b[0mdivide\u001b[0m\u001b[0;34m(\u001b[0m\u001b[0mx\u001b[0m\u001b[0;34m,\u001b[0m \u001b[0my\u001b[0m\u001b[0;34m)\u001b[0m\u001b[0;34m:\u001b[0m\u001b[0;34m\u001b[0m\u001b[0;34m\u001b[0m\u001b[0m\n\u001b[0;32m----> 2\u001b[0;31m   \u001b[0;32mreturn\u001b[0m \u001b[0mx\u001b[0m \u001b[0;34m/\u001b[0m \u001b[0my\u001b[0m \u001b[0;31m# divide-by-zero error?\u001b[0m\u001b[0;34m\u001b[0m\u001b[0;34m\u001b[0m\u001b[0m\n\u001b[0m\u001b[1;32m      3\u001b[0m \u001b[0;34m\u001b[0m\u001b[0m\n\u001b[1;32m      4\u001b[0m \u001b[0;32mdef\u001b[0m \u001b[0mtester\u001b[0m\u001b[0;34m(\u001b[0m\u001b[0my\u001b[0m\u001b[0;34m)\u001b[0m\u001b[0;34m:\u001b[0m\u001b[0;34m\u001b[0m\u001b[0;34m\u001b[0m\u001b[0m\n\u001b[1;32m      5\u001b[0m   \u001b[0;32mtry\u001b[0m\u001b[0;34m:\u001b[0m\u001b[0;34m\u001b[0m\u001b[0;34m\u001b[0m\u001b[0m\n",
            "\u001b[0;31mZeroDivisionError\u001b[0m: division by zero"
          ]
        }
      ]
    },
    {
      "cell_type": "markdown",
      "metadata": {
        "colab_type": "text",
        "id": "9uhRWd3mZ--V"
      },
      "source": [
        "*     Optional data\n",
        "  -      Provides extra exception details\n",
        "  -      Python passes None if no explicit data"
      ]
    },
    {
      "cell_type": "code",
      "metadata": {
        "id": "02KhUVgFZJPV",
        "colab_type": "code",
        "outputId": "0e95d81f-432d-449d-9c59-0c106c28ea0e",
        "colab": {
          "base_uri": "https://localhost:8080/",
          "height": 51
        }
      },
      "source": [
        "class myException(Exception):\n",
        "    def __init__(self, m):\n",
        "        self.message = m\n",
        "    def __str__(self):\n",
        "        return self.message\n",
        "\n",
        "def raiser1():\n",
        "  raise myException(\"hello\") # raise, pass data\n",
        "  \n",
        "def raiser2():\n",
        "  raise myException(\"world\") # raise, None implied\n",
        "  \n",
        "def tryer(func):\n",
        "  try:\n",
        "    func()\n",
        "  except myException as e:\n",
        "    print('got this:', e)\n",
        "    \n",
        "tryer(raiser1)\n",
        "tryer(raiser2)"
      ],
      "execution_count": 0,
      "outputs": [
        {
          "output_type": "stream",
          "text": [
            "got this: hello\n",
            "got this: world\n"
          ],
          "name": "stdout"
        }
      ]
    },
    {
      "cell_type": "markdown",
      "metadata": {
        "id": "XiMcmPBwZJPX",
        "colab_type": "text"
      },
      "source": [
        "###Class exceptions"
      ]
    },
    {
      "cell_type": "markdown",
      "metadata": {
        "id": "M7lM1z5oolMU",
        "colab_type": "text"
      },
      "source": [
        "-      Should use classes today: only option in 3.X, per BDFL\n",
        "-      Useful for catching categories of exceptions\n",
        "-      String exception match: same object (is identity)\n",
        "-      Class exception match: named class or subclass of it\n",
        "-      Class exceptions support exception hierarchies"
      ]
    },
    {
      "cell_type": "markdown",
      "metadata": {
        "id": "dKUCu7X6oh5n",
        "colab_type": "text"
      },
      "source": [
        "**General raise forms**\n",
        "\n",
        "```python\n",
        "raise Exception(string) # matches same string object\n",
        "raise Exception(string, data) # optional extra data (default=None)\n",
        "raise class, instance # matches class or its superclass\n",
        "raise instance # = instance.__class__, instance\n",
        "```"
      ]
    },
    {
      "cell_type": "code",
      "metadata": {
        "id": "cHGpWfHXZJPa",
        "colab_type": "code",
        "outputId": "efb0c2fa-08fd-4c28-f23f-c4dd5c8c3c35",
        "colab": {
          "base_uri": "https://localhost:8080/",
          "height": 51
        }
      },
      "source": [
        "class Super(Exception): pass\n",
        "class Sub(Super): pass\n",
        " \n",
        "def raiser1():\n",
        "  X = Super() # raise listed class instance\n",
        "  raise X\n",
        " \n",
        "def raiser2():\n",
        "  X = Sub() # raise instance of subclass\n",
        "  raise X\n",
        " \n",
        "for func in (raiser1, raiser2):\n",
        "  try:\n",
        "    func()\n",
        "  except Super: # match Super or a subclass\n",
        "    import sys\n",
        "    print('caught:', sys.exc_info()[0])\n",
        " \n"
      ],
      "execution_count": 0,
      "outputs": [
        {
          "output_type": "stream",
          "text": [
            "caught: <class '__main__.Super'>\n",
            "caught: <class '__main__.Sub'>\n"
          ],
          "name": "stdout"
        }
      ]
    },
    {
      "cell_type": "code",
      "metadata": {
        "id": "Ka2wQEFsptTY",
        "colab_type": "code",
        "outputId": "9edbca70-4bbb-41ce-ff51-025bfc5db78b",
        "colab": {
          "base_uri": "https://localhost:8080/",
          "height": 51
        }
      },
      "source": [
        "class MyBad(Exception):\n",
        "  def __init__(self, file, line):\n",
        "    self.file = file\n",
        "    self.line = line\n",
        "\n",
        "  def display(self):\n",
        "    print(self.file * 2)\n",
        "\n",
        "def parser():\n",
        "  raise MyBad('spam.txt', 5)\n",
        "\n",
        "try:\n",
        "  parser()\n",
        "except MyBad as X:\n",
        "  print(X.file, X.line)\n",
        "  X.display()"
      ],
      "execution_count": 0,
      "outputs": [
        {
          "output_type": "stream",
          "text": [
            "spam.txt 5\n",
            "spam.txtspam.txt\n"
          ],
          "name": "stdout"
        }
      ]
    },
    {
      "cell_type": "code",
      "metadata": {
        "id": "IpsPMo0aZJPh",
        "colab_type": "code",
        "outputId": "6d4491bd-bac5-4e08-f10b-b9c9925cd4be",
        "colab": {
          "base_uri": "https://localhost:8080/",
          "height": 34
        }
      },
      "source": [
        "# built-in file error numbers\n",
        "def parser():\n",
        "  open('nonesuch')\n",
        "\n",
        "try:\n",
        "  parser()\n",
        "except IOError as X:\n",
        "  print(X.errno, '=>', X.strerror)\n",
        " \n"
      ],
      "execution_count": 0,
      "outputs": [
        {
          "output_type": "stream",
          "text": [
            "2 => No such file or directory\n"
          ],
          "name": "stdout"
        }
      ]
    },
    {
      "cell_type": "markdown",
      "metadata": {
        "id": "SefxDguyqViI",
        "colab_type": "text"
      },
      "source": [
        "###Exception gotchas"
      ]
    },
    {
      "cell_type": "markdown",
      "metadata": {
        "id": "09ne5p30ZJPi",
        "colab_type": "text"
      },
      "source": [
        "**What to wrap in a try statement?**\n",
        "\n",
        "-      Things that commonly fail: files, sockets, etc.\n",
        "-      Calls to large functions, not code inside the function\n",
        "-      Anything that shouldn't kill your script\n",
        "-      Simple top-level scripts often should die on errors\n",
        "-      See also atexit module for shutdown time actions"
      ]
    },
    {
      "cell_type": "markdown",
      "metadata": {
        "id": "3-hfJ-VwqYgy",
        "colab_type": "text"
      },
      "source": [
        "**Catching too much?**\n",
        "\n",
        "-      Empty except clauses catch everything\n",
        "-      But may intercept error expected elsewhere\n",
        "```python\n",
        "try:\n",
        "[]\n",
        "except:\n",
        "[] # everything comes here: even sys.exit()!\n",
        "```"
      ]
    },
    {
      "cell_type": "markdown",
      "metadata": {
        "id": "NgE38k03ZJPk",
        "colab_type": "text"
      },
      "source": [
        "**Catching too little?**\n",
        "\n",
        "-      Specific except clauses only catch listed exceptions\n",
        "-      But need to be updated if add new exceptions later\n",
        "-      Class exceptions would help here: category name\n",
        "```python\n",
        "try:\n",
        "[]\n",
        "except (myerror1, myerror2): # what if I add a myerror3?\n",
        "[] # non-errors\n",
        "else:\n",
        "[] # assumed to be an error\n",
        "```\n",
        "\n",
        "**Solution: exception protocol design**"
      ]
    }
  ]
}